{
 "cells": [
  {
   "cell_type": "markdown",
   "metadata": {},
   "source": [
    "## Python basics: Part 4\n",
    "\n",
    "files needed = none\n",
    "\n",
    "Before we can start working with data, we need to work out some of the basics of Python. The goal is to learn enough so that we can do some interesting data work --- we do not need to be Python Jedi. \n",
    "\n",
    "We now know about the basic data structures in python, how types work, and how to do some basic computation and string manipulation. We can use flow control statements to steer our program to different blocks of code depending on conditional statements and we have sorted out loops and list comprehensions. \n",
    "\n",
    "Up next is a few more important topics before we get started with pandas. We will cover\n",
    "1. Slicing\n",
    "2. User defined functions\n",
    "3. Objects and TAB completion\n",
    "\n"
   ]
  },
  {
   "cell_type": "markdown",
   "metadata": {},
   "source": [
    "## Slicing\n",
    "Slicing is an important part of python life. We slice a list (or a tuple or a string) when we take a subset of it. As you can probably imagine, slicing will be a common thing we do with data in pandas. We often want to grab slices of the data set and analyze them. \n",
    "\n",
    "The slice syntax uses square brackets --- even if we are slicing a string or a tuple. The basic command is \n",
    "\n",
    "```python\n",
    "some_list[start:stop:stride]\n",
    "```\n",
    "* `start` is the first element to include in the slice\n",
    "* `stop` is the first element we do **NOT include**\n",
    "* `stride` is the step size\n",
    "\n",
    "Notice that the start is inclusive and the stop is exclusive. Think of a slice as a half open interval in mathematics: \\[start, stop) we include start in the interval but exclude stop. \n",
    "\n",
    "The default stride is 1, meaning take every element from [start, stop).\n"
   ]
  },
  {
   "cell_type": "code",
   "execution_count": 1,
   "metadata": {},
   "outputs": [
    {
     "name": "stdout",
     "output_type": "stream",
     "text": [
      "[5, 6]\n",
      "[5, 6]\n",
      "[5, 7, 9]\n"
     ]
    }
   ],
   "source": [
    "some_list = [5, 6, 7, 8, 9]\n",
    "\n",
    "print(some_list[0:2])   # indexes start with zero; stride defualts to 1\n",
    "print(some_list[0:2:1]) # this should be the same\n",
    "print(some_list[0:5:2]) # take every other element"
   ]
  },
  {
   "cell_type": "code",
   "execution_count": 2,
   "metadata": {},
   "outputs": [
    {
     "name": "stdout",
     "output_type": "stream",
     "text": [
      "[6, 7]\n"
     ]
    }
   ],
   "source": [
    "# take a slice out of the middle\n",
    "print(some_list[1:3])     #take the second element and the third element"
   ]
  },
  {
   "cell_type": "markdown",
   "metadata": {},
   "source": [
    "If we want to take a start and then 'everything to the end' we just leave the second argument blank. A similar syntax for taking everything from the beginning to a stop."
   ]
  },
  {
   "cell_type": "code",
   "execution_count": 3,
   "metadata": {},
   "outputs": [
    {
     "name": "stdout",
     "output_type": "stream",
     "text": [
      "[7, 8, 9]\n",
      "[5, 6, 7, 8]\n"
     ]
    }
   ],
   "source": [
    "print(some_list[2:])     # the third element to the end of the list\n",
    "print(some_list[:4])     # everything up to but not including the fifth element"
   ]
  },
  {
   "cell_type": "markdown",
   "metadata": {},
   "source": [
    "One nice thing about this half open interval syntax is that we can divide up a list very neatly:"
   ]
  },
  {
   "cell_type": "code",
   "execution_count": 4,
   "metadata": {},
   "outputs": [
    {
     "name": "stdout",
     "output_type": "stream",
     "text": [
      "[5, 6, 7] [8, 9] [5, 6, 7, 8, 9]\n"
     ]
    }
   ],
   "source": [
    "first_part = some_list[:3]\n",
    "second_part = some_list[3:]\n",
    "print(first_part, second_part, some_list)"
   ]
  },
  {
   "cell_type": "markdown",
   "metadata": {},
   "source": [
    "Slice arguments can be negative. When we use a negative number for start or stop, we are telling python to count from the end of the list. "
   ]
  },
  {
   "cell_type": "code",
   "execution_count": 5,
   "metadata": {},
   "outputs": [
    {
     "name": "stdout",
     "output_type": "stream",
     "text": [
      "[5, 6, 7, 8]\n",
      "[5, 6, 7]\n",
      "[6, 7]\n"
     ]
    }
   ],
   "source": [
    "print(some_list[:-1])    # all but the last one\n",
    "print(some_list[:-2])    # all but the last two\n",
    "print(some_list[-4:-2])    # ugh (again, we don't take the -2 value)\n",
    "\n",
    "# [5 | 6 | 7 | 8 | 9]     # The list\n",
    "# -5  -4  -3  -2  -1      # backwards counting\n",
    "#  0   1   2   3   4      # forwards counting"
   ]
  },
  {
   "cell_type": "markdown",
   "metadata": {},
   "source": [
    "If we use a negative number for the stride argument, we iterate backwards. "
   ]
  },
  {
   "cell_type": "code",
   "execution_count": 6,
   "metadata": {},
   "outputs": [
    {
     "name": "stdout",
     "output_type": "stream",
     "text": [
      "[9, 8, 7, 6, 5]\n",
      "[9, 8, 7]\n"
     ]
    }
   ],
   "source": [
    "print(some_list[::-1])   # print the list out backwards\n",
    "print(some_list[4:1:-1]) # we are counting backwards, so be careful about start and stop\n",
    "                         # start at the [4] element in the list and end at the [2]\n"
   ]
  },
  {
   "cell_type": "code",
   "execution_count": 7,
   "metadata": {},
   "outputs": [
    {
     "name": "stdout",
     "output_type": "stream",
     "text": [
      "on\n",
      "drawno\n"
     ]
    }
   ],
   "source": [
    "# don't forget, we can do this with strings, too\n",
    "slogan = 'onward'\n",
    "print(slogan[:2])       # just print 'on'\n",
    "print(slogan[::-1])     # backwards"
   ]
  },
  {
   "cell_type": "markdown",
   "metadata": {},
   "source": [
    "### Practice: Slices\n",
    "Take a few minutes and try the following. Feel free to chat with those around you if you get stuck. The TA and I are here, too\n",
    "\n",
    "1. Create the variable `boss = 'Ananth Seshadri'`\n",
    "2. Slice `boss` to create the variables `first_name` and `last_name`\n",
    "3. Redo question two to create `first_name_neg` and `last_name_neg` by slicing `boss` using the negative number notation that counts from the end of the list."
   ]
  },
  {
   "cell_type": "code",
   "execution_count": 8,
   "metadata": {},
   "outputs": [
    {
     "name": "stdout",
     "output_type": "stream",
     "text": [
      "Ananth\n",
      "Seshadri \n",
      "\n",
      "Ananth\n",
      "Seshadri\n"
     ]
    }
   ],
   "source": [
    "boss = 'Ananth Seshadri'\n",
    "\n",
    "first_name = boss[:6]\n",
    "last_name = boss[7:]\n",
    "\n",
    "print(first_name)\n",
    "print(last_name, '\\n')\n",
    "\n",
    "first_name_neg = boss[-15:-9]\n",
    "last_name_neg = boss[-8:]\n",
    "print(first_name_neg)\n",
    "print(last_name_neg)\n"
   ]
  },
  {
   "cell_type": "markdown",
   "metadata": {},
   "source": [
    "Consider this list of sorted data. \n",
    "\n",
    "`x_sorted = [10, 40, 100, 1000, 50000]`\n",
    "\n",
    "1. Print out the 3 largest elements\n",
    "2. Print out the two smallest elements"
   ]
  },
  {
   "cell_type": "code",
   "execution_count": 9,
   "metadata": {},
   "outputs": [
    {
     "name": "stdout",
     "output_type": "stream",
     "text": [
      "The three largest elements are: [100, 1000, 50000]\n",
      "The three smallest elements are: [10, 40]\n"
     ]
    }
   ],
   "source": [
    "x_sorted = [10, 40, 100, 1000, 50000]\n",
    "\n",
    "print('The three largest elements are:', x_sorted[-3:])\n",
    "print('The three smallest elements are:', x_sorted[:2])\n"
   ]
  },
  {
   "cell_type": "markdown",
   "metadata": {},
   "source": [
    "## User defined functions\n",
    "We have seen some of python's built-in functions: `print()`, `type()`, and `len()`. Like many other languages, python allows users to create their own functions. \n",
    "\n",
    "Using functions lets us (or someone else) write and debug the code once --- then we can reuse it. Very powerful stuff. Here is a simple example:"
   ]
  },
  {
   "cell_type": "code",
   "execution_count": 10,
   "metadata": {},
   "outputs": [],
   "source": [
    "def lb_to_kg(pounds):\n",
    "    \"\"\"\n",
    "    Input a weight in pounds. Return the weight in kilograms.\n",
    "    \"\"\"\n",
    "    \n",
    "    kilos = pounds * 0.453592                  # 1 pound = 0.453592 kilos...\n",
    "    \n",
    "    return kilos                               # this is the value the function returns\n",
    "    \n",
    "    "
   ]
  },
  {
   "cell_type": "markdown",
   "metadata": {},
   "source": [
    "When you run the cell above, it looks like nothing happened, but python read the code and created the function. We can use the `whos` statement (a jupyter notebook 'magic' command) to learn about what objects are in the namespace. \\[A namespace is a list of all the objects we have created and the names we have assigned them.\\]"
   ]
  },
  {
   "cell_type": "code",
   "execution_count": 11,
   "metadata": {},
   "outputs": [
    {
     "name": "stdout",
     "output_type": "stream",
     "text": [
      "Variable         Type        Data/Info\n",
      "--------------------------------------\n",
      "boss             str         Ananth Seshadri\n",
      "first_name       str         Ananth\n",
      "first_name_neg   str         Ananth\n",
      "first_part       list        n=3\n",
      "last_name        str         Seshadri\n",
      "last_name_neg    str         Seshadri\n",
      "lb_to_kg         function    <function lb_to_kg at 0x000002C735BEB378>\n",
      "second_part      list        n=2\n",
      "slogan           str         onward\n",
      "some_list        list        n=5\n",
      "x_sorted         list        n=5\n"
     ]
    }
   ],
   "source": [
    "whos"
   ]
  },
  {
   "cell_type": "markdown",
   "metadata": {},
   "source": [
    "We can see the variables we have created earlier as well as the function `lb_to_kg`. Notice functions are of type `function`. Just like any other variable, `lb_to_kg` is loaded into the namespace. \n",
    "\n",
    "Now that our function is defined, we are ready to use it. "
   ]
  },
  {
   "cell_type": "code",
   "execution_count": 12,
   "metadata": {},
   "outputs": [
    {
     "name": "stdout",
     "output_type": "stream",
     "text": [
      "The car weighs 2267.96 kilos.\n"
     ]
    }
   ],
   "source": [
    "car_weight_pounds = 5000\n",
    "car_weight_kilos = lb_to_kg(car_weight_pounds)\n",
    "print('The car weighs', car_weight_kilos, 'kilos.')"
   ]
  },
  {
   "cell_type": "markdown",
   "metadata": {},
   "source": [
    "Since it is our function, we have to handle potentially bad inputs, or python will throw an error. "
   ]
  },
  {
   "cell_type": "code",
   "execution_count": 13,
   "metadata": {},
   "outputs": [
    {
     "ename": "TypeError",
     "evalue": "can't multiply sequence by non-int of type 'float'",
     "output_type": "error",
     "traceback": [
      "\u001b[1;31m---------------------------------------------------------------------------\u001b[0m",
      "\u001b[1;31mTypeError\u001b[0m                                 Traceback (most recent call last)",
      "\u001b[1;32m<ipython-input-13-49d4bc652b32>\u001b[0m in \u001b[0;36m<module>\u001b[1;34m\u001b[0m\n\u001b[0;32m      1\u001b[0m \u001b[0mtruck_weight_pounds\u001b[0m \u001b[1;33m=\u001b[0m \u001b[1;34m'5000'\u001b[0m       \u001b[1;31m# A classic problem with real data\u001b[0m\u001b[1;33m\u001b[0m\u001b[1;33m\u001b[0m\u001b[0m\n\u001b[1;32m----> 2\u001b[1;33m \u001b[0mtruck_weight_kilos\u001b[0m \u001b[1;33m=\u001b[0m \u001b[0mlb_to_kg\u001b[0m\u001b[1;33m(\u001b[0m\u001b[0mtruck_weight_pounds\u001b[0m\u001b[1;33m)\u001b[0m\u001b[1;33m\u001b[0m\u001b[1;33m\u001b[0m\u001b[0m\n\u001b[0m\u001b[0;32m      3\u001b[0m \u001b[0mprint\u001b[0m\u001b[1;33m(\u001b[0m\u001b[1;34m'The truck weighs'\u001b[0m\u001b[1;33m,\u001b[0m \u001b[0mtruck_weight_kilos\u001b[0m\u001b[1;33m,\u001b[0m \u001b[1;34m'kilos.'\u001b[0m\u001b[1;33m)\u001b[0m\u001b[1;33m\u001b[0m\u001b[1;33m\u001b[0m\u001b[0m\n",
      "\u001b[1;32m<ipython-input-10-e046052c2859>\u001b[0m in \u001b[0;36mlb_to_kg\u001b[1;34m(pounds)\u001b[0m\n\u001b[0;32m      4\u001b[0m     \"\"\"\n\u001b[0;32m      5\u001b[0m \u001b[1;33m\u001b[0m\u001b[0m\n\u001b[1;32m----> 6\u001b[1;33m     \u001b[0mkilos\u001b[0m \u001b[1;33m=\u001b[0m \u001b[0mpounds\u001b[0m \u001b[1;33m*\u001b[0m \u001b[1;36m0.453592\u001b[0m                  \u001b[1;31m# 1 pound = 0.453592 kilos...\u001b[0m\u001b[1;33m\u001b[0m\u001b[1;33m\u001b[0m\u001b[0m\n\u001b[0m\u001b[0;32m      7\u001b[0m \u001b[1;33m\u001b[0m\u001b[0m\n\u001b[0;32m      8\u001b[0m     \u001b[1;32mreturn\u001b[0m \u001b[0mkilos\u001b[0m                               \u001b[1;31m# this is the value the function returns\u001b[0m\u001b[1;33m\u001b[0m\u001b[1;33m\u001b[0m\u001b[0m\n",
      "\u001b[1;31mTypeError\u001b[0m: can't multiply sequence by non-int of type 'float'"
     ]
    }
   ],
   "source": [
    "truck_weight_pounds = '5000'       # A classic problem with real data\n",
    "truck_weight_kilos = lb_to_kg(truck_weight_pounds)\n",
    "print('The truck weighs', truck_weight_kilos, 'kilos.')"
   ]
  },
  {
   "cell_type": "code",
   "execution_count": 14,
   "metadata": {},
   "outputs": [],
   "source": [
    "def lb_to_kg_v2(pounds):\n",
    "    \"\"\"\n",
    "    Input a weight in pounds. Return the weight in kilograms.\n",
    "    \"\"\"\n",
    "    \n",
    "    if type(pounds)==float or type(pounds)== int:   # check that pounds is an allowable type\n",
    "        kilos = pounds * 0.453592                   # 1 pound = 0.453592 kilos...\n",
    "        return kilos                                # this is the value the function returns\n",
    "    else:\n",
    "        print('error: lb_to_kg_v2 only takes integers or floats.')\n",
    "        return -99"
   ]
  },
  {
   "cell_type": "code",
   "execution_count": 15,
   "metadata": {},
   "outputs": [
    {
     "name": "stdout",
     "output_type": "stream",
     "text": [
      "error: lb_to_kg_v2 only takes integers or floats.\n",
      "The truck weighs -99 kilos.\n"
     ]
    }
   ],
   "source": [
    "truck_weight_pounds = '5000'       #A classic problem with real data\n",
    "truck_weight_kilos = lb_to_kg_v2(truck_weight_pounds)\n",
    "print('The truck weighs', truck_weight_kilos, 'kilos.')"
   ]
  },
  {
   "cell_type": "markdown",
   "metadata": {},
   "source": [
    "How much time you spend writing code that is safe from errors is a tradeoff between your time and how robust your code needs to be. Life is all about tradeoffs. \n",
    "\n",
    "We can have functions with several input variables:"
   ]
  },
  {
   "cell_type": "code",
   "execution_count": 16,
   "metadata": {},
   "outputs": [],
   "source": [
    "def name_fixer(first, middle, last):\n",
    "    \"\"\"\n",
    "    Fix any capitalization problems and create a single variable with the complete name.\n",
    "    \"\"\"\n",
    "    # the sting method title() makes the fist letter capital\n",
    "    return first.title() + ' ' + middle.title() + ' ' + last.title()           "
   ]
  },
  {
   "cell_type": "markdown",
   "metadata": {},
   "source": [
    "You may have noticed that we write a triple-quote comment at the beginning of our functions. This is called a *docstring*, and we use it to tell others what the function does. Remember the '?' operator? Give it a try below."
   ]
  },
  {
   "cell_type": "code",
   "execution_count": 19,
   "metadata": {},
   "outputs": [],
   "source": [
    "name_fixer?\n"
   ]
  },
  {
   "cell_type": "code",
   "execution_count": 20,
   "metadata": {},
   "outputs": [
    {
     "name": "stdout",
     "output_type": "stream",
     "text": [
      "Help on function name_fixer in module __main__:\n",
      "\n",
      "name_fixer(first, middle, last)\n",
      "    Fix any capitalization problems and create a single variable with the complete name.\n",
      "\n"
     ]
    }
   ],
   "source": [
    "help(name_fixer)"
   ]
  },
  {
   "cell_type": "markdown",
   "metadata": {},
   "source": [
    "Now let's try out the `name_fixer` function. "
   ]
  },
  {
   "cell_type": "code",
   "execution_count": 22,
   "metadata": {},
   "outputs": [
    {
     "name": "stdout",
     "output_type": "stream",
     "text": [
      "Buckingham U Badger\n"
     ]
    }
   ],
   "source": [
    "mascot_first = 'bucKingham'\n",
    "mascot_middle = 'u'\n",
    "mascot_last = 'badger'\n",
    "\n",
    "full_name = name_fixer(mascot_first, mascot_middle, mascot_last)\n",
    "print(full_name)"
   ]
  },
  {
   "cell_type": "markdown",
   "metadata": {},
   "source": [
    "**Important:** We can assign several return variables. This is called *multiple assignment*. First, let's look at multiple assignment outside of a function, then we use it in a function.  "
   ]
  },
  {
   "cell_type": "code",
   "execution_count": 23,
   "metadata": {},
   "outputs": [
    {
     "name": "stdout",
     "output_type": "stream",
     "text": [
      "foo 10\n"
     ]
    }
   ],
   "source": [
    "# this is an example of multiple assignment. \n",
    "a, b = 'foo', 10            # assign 'foo' to a and 10 to b...all in one statement\n",
    "print(a, b)"
   ]
  },
  {
   "cell_type": "markdown",
   "metadata": {},
   "source": [
    "Back on day one, we worked on the problem of\n",
    "4. In a code cell, set `m=2` and `n=3`. Write some code that swaps the values of `m` and `n`.\n",
    "\n",
    "Back then, we created a temp variable to help us make the swap. Now that we have some python under our belts we can just do this:"
   ]
  },
  {
   "cell_type": "code",
   "execution_count": 24,
   "metadata": {},
   "outputs": [
    {
     "name": "stdout",
     "output_type": "stream",
     "text": [
      "m= 2 n= 3\n",
      "m= 3 n= 2\n"
     ]
    }
   ],
   "source": [
    "m = 2\n",
    "n = 3  #I could have used multiple assignment here, too, but didn't\n",
    "print('m=', m, 'n=', n)\n",
    "\n",
    "m, n = n, m                  # make the swap\n",
    "print('m=', m, 'n=', n)"
   ]
  },
  {
   "cell_type": "markdown",
   "metadata": {},
   "source": [
    "Wow. Don't underestimate the Force. \n",
    "\n",
    "Multiple assignment let's us return several objects from a function. "
   ]
  },
  {
   "cell_type": "code",
   "execution_count": 25,
   "metadata": {},
   "outputs": [
    {
     "name": "stdout",
     "output_type": "stream",
     "text": [
      "65 degrees fahrenheit is 18.333333333333332 degrees celsius and 291.48333333333335 degrees kelvin.\n"
     ]
    }
   ],
   "source": [
    "def temp_converter(temp_in_fahrenheit):\n",
    "    \"\"\"\n",
    "    Takes a temperature in fahrenheit and returns it in celsius and in kelvin.\n",
    "    \"\"\"\n",
    "    temp_in_celsius = (temp_in_fahrenheit - 32) * 5/9\n",
    "    temp_in_kelvin = (temp_in_fahrenheit + 459.67) * 5/9\n",
    "    return temp_in_celsius, temp_in_kelvin\n",
    "\n",
    "\n",
    "# Note that I am defining the function and using it in the same code cell. \n",
    "# The code below is NOT part of the function definition. We can see that because it is not indented. \n",
    "\n",
    "t_f = 65        # temp in fahrenheit\n",
    "t_c, t_k = temp_converter(t_f)\n",
    "print(t_f, 'degrees fahrenheit', 'is', t_c, 'degrees celsius and', t_k, 'degrees kelvin.')\n",
    "    "
   ]
  },
  {
   "cell_type": "markdown",
   "metadata": {},
   "source": [
    "We need to work on our string formatting at some point..."
   ]
  },
  {
   "cell_type": "markdown",
   "metadata": {},
   "source": [
    "### Practice: Functions\n",
    "Take a few minutes and try the following. Feel free to chat with those around you if you get stuck. The TA and I are here, too.\n",
    "\n",
    "1. Write a change counting function. Pass the function the number of pennies, nickels, dimes, and quarters, and return the value of the coins. Test it with 5 pennies, 4 dimes, 2 quarters. \n",
    "2. Modify the `name_fixer()` function to return both the fixed-up full name and the length of the full name. Use multiple assignment. Test it <br/>\n",
    " with \"nelsoN websTER DEweY\" [(link)](https://en.wikipedia.org/wiki/Nelson_Dewey)\n"
   ]
  },
  {
   "cell_type": "code",
   "execution_count": 26,
   "metadata": {},
   "outputs": [
    {
     "name": "stdout",
     "output_type": "stream",
     "text": [
      "95 cents\n"
     ]
    }
   ],
   "source": [
    "# Part 1\n",
    "\n",
    "def change_counter(pennies, nickels, dimes, quarters):\n",
    "    \"\"\"\n",
    "    Compute the value of a given number of pennies, nickels, dimes, and quarters.\n",
    "    \"\"\"\n",
    "    return pennies + nickels*5 + dimes*10 + quarters*25\n",
    "\n",
    "print(change_counter(5, 0, 4, 2), 'cents')"
   ]
  },
  {
   "cell_type": "code",
   "execution_count": 30,
   "metadata": {},
   "outputs": [
    {
     "name": "stdout",
     "output_type": "stream",
     "text": [
      "('Nelson Webster Dewey', 20)\n"
     ]
    }
   ],
   "source": [
    "# Part 2\n",
    "\n",
    "def name_fixer_improved(first, middle, last):\n",
    "    \"\"\"\n",
    "    Fix any capitalization problems and create a single variable with the complete name.\n",
    "    Also return the length of the name.\n",
    "    \"\"\"\n",
    "    # the sting method title() makes the fist letter capital\n",
    "    full_name = first.title() + ' ' + middle.title() + ' ' + last.title()\n",
    "    return full_name, len(full_name) \n",
    "\n",
    "print(name_fixer_improved('nelsoN', 'websTER', 'DEweY'))"
   ]
  },
  {
   "cell_type": "markdown",
   "metadata": {},
   "source": [
    "3. The `split(sep)` string method breaks up a string into sub-strings. The argument `sep` defines the delimiting character. \\[try help(str.split)\\] \n",
    "\n",
    "For example,\n"
   ]
  },
  {
   "cell_type": "code",
   "execution_count": 36,
   "metadata": {},
   "outputs": [
    {
     "name": "stdout",
     "output_type": "stream",
     "text": [
      "<class 'list'>\n",
      "['There', 'is', 'a', 'place', 'where', 'the', 'sidewalk', 'ends']\n"
     ]
    }
   ],
   "source": [
    "test_string = 'There is a place where the sidewalk ends'\n",
    "test_string_chunks = test_string.split(sep=' ')        # use the space as the delimiter\n",
    "print(type(test_string_chunks))\n",
    "print(test_string_chunks)"
   ]
  },
  {
   "cell_type": "markdown",
   "metadata": {},
   "source": [
    "Write a function that takes names of the form 'last,first,middle' and returns three strings: first, middle, and last. Test your function with  'Silverstein,Sheldon,Allan'. "
   ]
  },
  {
   "cell_type": "code",
   "execution_count": 37,
   "metadata": {},
   "outputs": [
    {
     "name": "stdout",
     "output_type": "stream",
     "text": [
      "Sheldon Allan Silverstein\n"
     ]
    }
   ],
   "source": [
    "def name_splitter(name):\n",
    "    split_name = name.split(',')\n",
    "    return split_name[1], split_name[2], split_name[0]\n",
    "\n",
    "first, middle, last = name_splitter('Silverstein,Sheldon,Allan')\n",
    "print(first, middle, last)"
   ]
  },
  {
   "cell_type": "markdown",
   "metadata": {},
   "source": [
    "## Objects and TAB completion\n",
    "Like c++ or javascript, python is an object-oriented language. This is a topic that a computer science course could devote weeks to, but our goal is simpler: let's understand objects enough to use them well.\n",
    "\n",
    "Everything in python is an object. The variables we have been creating are objects. The functions we have written are objects. Objects are useful because they have *attributes* and *methods* associated with them. What attributes and methods an object has, depends on the object's type. Let's take lists for example. \n",
    "\n",
    "```python\n",
    "list_1 = ['a', 'b', 'c']\n",
    "list_2 = [4, 5, 6, 7, 8]\n",
    "```\n",
    "\n",
    "Both lists are objects and both have type `list`, but their attributes are different. For example list length is an attribute: list_1 is of length 3, while list_2 is of length 5. \n",
    "\n",
    "**Methods** are like functions that are attached to an object. Different types of objects have different methods available. Methods implement operations that we often use with a particular data type. We access methods with the 'dot' notation. \n",
    "```python\n",
    "list_1.method()\n",
    "```\n",
    "where `method()` is a method associated with the list class. We have been using the `lower()`, `upper()`, and `title()` methods of the string class already. We just used the `split()` method of the string class."
   ]
  },
  {
   "cell_type": "code",
   "execution_count": 38,
   "metadata": {},
   "outputs": [
    {
     "name": "stdout",
     "output_type": "stream",
     "text": [
      "['a', 'c', 'b']\n"
     ]
    }
   ],
   "source": [
    "list_1 = ['a', 'c', 'b']\n",
    "print(list_1)"
   ]
  },
  {
   "cell_type": "code",
   "execution_count": 39,
   "metadata": {},
   "outputs": [
    {
     "name": "stdout",
     "output_type": "stream",
     "text": [
      "['a', 'b', 'c']\n"
     ]
    }
   ],
   "source": [
    "list_1.sort()        # the sort() method from the 'list' class\n",
    "\n",
    "print(list_1)\n"
   ]
  },
  {
   "cell_type": "markdown",
   "metadata": {},
   "source": [
    "How do we find out what methods are available for an object? Google is always a good way. You can also use `help()` with the class name. `help(str)` for strings, `help(list)` for lists. \n",
    "\n",
    "**Important:** We can also use *TAB completion* in jupyter. Type `list_1.` in the cell below and hit the TAB key."
   ]
  },
  {
   "cell_type": "code",
   "execution_count": 41,
   "metadata": {},
   "outputs": [
    {
     "name": "stdout",
     "output_type": "stream",
     "text": [
      "Help on class list in module builtins:\n",
      "\n",
      "class list(object)\n",
      " |  list(iterable=(), /)\n",
      " |  \n",
      " |  Built-in mutable sequence.\n",
      " |  \n",
      " |  If no argument is given, the constructor creates a new empty list.\n",
      " |  The argument must be an iterable if specified.\n",
      " |  \n",
      " |  Methods defined here:\n",
      " |  \n",
      " |  __add__(self, value, /)\n",
      " |      Return self+value.\n",
      " |  \n",
      " |  __contains__(self, key, /)\n",
      " |      Return key in self.\n",
      " |  \n",
      " |  __delitem__(self, key, /)\n",
      " |      Delete self[key].\n",
      " |  \n",
      " |  __eq__(self, value, /)\n",
      " |      Return self==value.\n",
      " |  \n",
      " |  __ge__(self, value, /)\n",
      " |      Return self>=value.\n",
      " |  \n",
      " |  __getattribute__(self, name, /)\n",
      " |      Return getattr(self, name).\n",
      " |  \n",
      " |  __getitem__(...)\n",
      " |      x.__getitem__(y) <==> x[y]\n",
      " |  \n",
      " |  __gt__(self, value, /)\n",
      " |      Return self>value.\n",
      " |  \n",
      " |  __iadd__(self, value, /)\n",
      " |      Implement self+=value.\n",
      " |  \n",
      " |  __imul__(self, value, /)\n",
      " |      Implement self*=value.\n",
      " |  \n",
      " |  __init__(self, /, *args, **kwargs)\n",
      " |      Initialize self.  See help(type(self)) for accurate signature.\n",
      " |  \n",
      " |  __iter__(self, /)\n",
      " |      Implement iter(self).\n",
      " |  \n",
      " |  __le__(self, value, /)\n",
      " |      Return self<=value.\n",
      " |  \n",
      " |  __len__(self, /)\n",
      " |      Return len(self).\n",
      " |  \n",
      " |  __lt__(self, value, /)\n",
      " |      Return self<value.\n",
      " |  \n",
      " |  __mul__(self, value, /)\n",
      " |      Return self*value.\n",
      " |  \n",
      " |  __ne__(self, value, /)\n",
      " |      Return self!=value.\n",
      " |  \n",
      " |  __repr__(self, /)\n",
      " |      Return repr(self).\n",
      " |  \n",
      " |  __reversed__(self, /)\n",
      " |      Return a reverse iterator over the list.\n",
      " |  \n",
      " |  __rmul__(self, value, /)\n",
      " |      Return value*self.\n",
      " |  \n",
      " |  __setitem__(self, key, value, /)\n",
      " |      Set self[key] to value.\n",
      " |  \n",
      " |  __sizeof__(self, /)\n",
      " |      Return the size of the list in memory, in bytes.\n",
      " |  \n",
      " |  append(self, object, /)\n",
      " |      Append object to the end of the list.\n",
      " |  \n",
      " |  clear(self, /)\n",
      " |      Remove all items from list.\n",
      " |  \n",
      " |  copy(self, /)\n",
      " |      Return a shallow copy of the list.\n",
      " |  \n",
      " |  count(self, value, /)\n",
      " |      Return number of occurrences of value.\n",
      " |  \n",
      " |  extend(self, iterable, /)\n",
      " |      Extend list by appending elements from the iterable.\n",
      " |  \n",
      " |  index(self, value, start=0, stop=9223372036854775807, /)\n",
      " |      Return first index of value.\n",
      " |      \n",
      " |      Raises ValueError if the value is not present.\n",
      " |  \n",
      " |  insert(self, index, object, /)\n",
      " |      Insert object before index.\n",
      " |  \n",
      " |  pop(self, index=-1, /)\n",
      " |      Remove and return item at index (default last).\n",
      " |      \n",
      " |      Raises IndexError if list is empty or index is out of range.\n",
      " |  \n",
      " |  remove(self, value, /)\n",
      " |      Remove first occurrence of value.\n",
      " |      \n",
      " |      Raises ValueError if the value is not present.\n",
      " |  \n",
      " |  reverse(self, /)\n",
      " |      Reverse *IN PLACE*.\n",
      " |  \n",
      " |  sort(self, /, *, key=None, reverse=False)\n",
      " |      Stable sort *IN PLACE*.\n",
      " |  \n",
      " |  ----------------------------------------------------------------------\n",
      " |  Static methods defined here:\n",
      " |  \n",
      " |  __new__(*args, **kwargs) from builtins.type\n",
      " |      Create and return a new object.  See help(type) for accurate signature.\n",
      " |  \n",
      " |  ----------------------------------------------------------------------\n",
      " |  Data and other attributes defined here:\n",
      " |  \n",
      " |  __hash__ = None\n",
      "\n"
     ]
    }
   ],
   "source": [
    "help(list)"
   ]
  },
  {
   "cell_type": "code",
   "execution_count": 44,
   "metadata": {},
   "outputs": [
    {
     "data": {
      "text/plain": [
       "['a', 'b', 'c']"
      ]
     },
     "execution_count": 44,
     "metadata": {},
     "output_type": "execute_result"
    }
   ],
   "source": [
    "list_1.\n"
   ]
  },
  {
   "cell_type": "markdown",
   "metadata": {},
   "source": [
    "The TAB gives us a list of possible methods. We have already seen `append()`. `reverse()` looks interesting. Let's give it a try."
   ]
  },
  {
   "cell_type": "code",
   "execution_count": 45,
   "metadata": {},
   "outputs": [
    {
     "name": "stdout",
     "output_type": "stream",
     "text": [
      "['c', 'b', 'a']\n"
     ]
    }
   ],
   "source": [
    "list_1.reverse()\n",
    "print(list_1)\n"
   ]
  },
  {
   "cell_type": "markdown",
   "metadata": {},
   "source": [
    "TAB completion is also there to make it easier to reference variables in the namespace. Insert a code cell and start typing `lis` and hit tab. It should bring up a list of variables in the namespace that start with 'lis'. This is handy: it saves typing and avoids errors from typos.  "
   ]
  },
  {
   "cell_type": "markdown",
   "metadata": {},
   "source": [
    "### Practice: Objects and TAB completion\n",
    "Take a few minutes and try the following. Feel free to chat with those around you if you get stuck. The TA and I are here, too.\n",
    "\n",
    "1. Suppose you have data `gdp = '18,570.50'`. Convert the variable to a float. Use TAB completion (and Google, if needed) to find a method that removes the comma. \n",
    "\n"
   ]
  },
  {
   "cell_type": "code",
   "execution_count": 51,
   "metadata": {},
   "outputs": [
    {
     "name": "stdout",
     "output_type": "stream",
     "text": [
      "18570.5 is of type <class 'float'>\n"
     ]
    }
   ],
   "source": [
    "gdp = '18,570.50'\n",
    "gdp = gdp.replace(',', '')\n",
    "gdp = float(gdp)\n",
    "print(gdp, 'is of type', type(gdp))"
   ]
  },
  {
   "cell_type": "markdown",
   "metadata": {},
   "source": [
    "2. Sort the list below. \n",
    "3. Using TAB completion and the object inspector, insert `new_score` into the list in the correct position so that the list stays sorted.\n"
   ]
  },
  {
   "cell_type": "code",
   "execution_count": 52,
   "metadata": {},
   "outputs": [],
   "source": [
    "scores = [50, 32, 78, 99, 39, 75]\n",
    "new_score = 85\n"
   ]
  },
  {
   "cell_type": "code",
   "execution_count": 54,
   "metadata": {},
   "outputs": [
    {
     "name": "stdout",
     "output_type": "stream",
     "text": [
      "[50, 32, 78, 99, 39, 75]\n",
      "[32, 39, 50, 75, 78, 99]\n"
     ]
    }
   ],
   "source": [
    "print(scores)\n",
    "scores.sort()\n",
    "print(scores)"
   ]
  },
  {
   "cell_type": "code",
   "execution_count": 56,
   "metadata": {},
   "outputs": [
    {
     "name": "stdout",
     "output_type": "stream",
     "text": [
      "[32, 39, 50, 75, 78, 85, 99]\n"
     ]
    }
   ],
   "source": [
    "scores.insert(5, new_score)\n",
    "print(scores)"
   ]
  }
 ],
 "metadata": {
  "celltoolbar": "Attachments",
  "kernelspec": {
   "display_name": "Python 3",
   "language": "python",
   "name": "python3"
  },
  "language_info": {
   "codemirror_mode": {
    "name": "ipython",
    "version": 3
   },
   "file_extension": ".py",
   "mimetype": "text/x-python",
   "name": "python",
   "nbconvert_exporter": "python",
   "pygments_lexer": "ipython3",
   "version": "3.7.3"
  }
 },
 "nbformat": 4,
 "nbformat_minor": 2
}
