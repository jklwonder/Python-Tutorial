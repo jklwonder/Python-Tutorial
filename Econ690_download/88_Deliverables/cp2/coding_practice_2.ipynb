{
 "cells": [
  {
   "cell_type": "markdown",
   "metadata": {},
   "source": [
    "# Coding practice \\#2: Due midnight, October 11\n",
    "\n",
    "Answer the questions below in a jupyter notebook. You can simply add cells to this notebook and enter your answers. When you are finished, upload the completed notebook to canvas. \n",
    "\n",
    "A reminder: My office hours are Tuesdays 2:30PM-3:30PM and Thursdays 10:00AM-11:00AM in Soc Sci 7444.\n",
    "\n",
    "*You should feel free to discuss the coding practice with your classmates, but the work you turn in should be your own.*"
   ]
  },
  {
   "cell_type": "markdown",
   "metadata": {},
   "source": [
    "# Exercise 0: Your name\n",
    "Replace 'Your name' above with your actual name. Enter it as last name, first name."
   ]
  },
  {
   "cell_type": "markdown",
   "metadata": {},
   "source": [
    "# Exercise 1: Subsets\n",
    "Let's practice pulling subsets out of a data frame. We subset a lot. Our goal is to build some muscle memory, so that every time we need to subset the data, we do not need to go look up how to do it. \n",
    "\n",
    "To this end, first try the exercises below without consulting your notes or the internet. Sort out where you need to improve and keep practicing! \n",
    "\n",
    "A. Create a DataFrame from the following dict. "
   ]
  },
  {
   "cell_type": "code",
   "execution_count": null,
   "metadata": {},
   "outputs": [],
   "source": [
    "data_dict = {'soda':['coke', 'diet coke', 'sprite', 'pepsi', 'mug', 'mt. dew'],\n",
    "            'cals':[140, 1, 90, 150, 130, 170],\n",
    "            'sodium':[45, 40, 65, 30, 65, 60],\n",
    "            'corp': ['coca cola', 'coca cola', 'coca cola', 'pepsico', 'pepsico', 'pepsico']}"
   ]
  },
  {
   "cell_type": "markdown",
   "metadata": {},
   "source": [
    "B. Print a DataFrame containing only sodas with more than 10 calories."
   ]
  },
  {
   "cell_type": "markdown",
   "metadata": {},
   "source": [
    "C. Print a DataFrame containing only sodas with more than 10 calories and less than 100 calories."
   ]
  },
  {
   "cell_type": "markdown",
   "metadata": {},
   "source": [
    "D. Print a DataFrame containing only data for coke, pepsi, and mug. Use the `isin()` method."
   ]
  },
  {
   "cell_type": "markdown",
   "metadata": {},
   "source": [
    "E. Set the index of the DataFrame to 'soda'."
   ]
  },
  {
   "cell_type": "markdown",
   "metadata": {},
   "source": [
    "F. Use `.loc[]` to print a DataFrame containing only coke, pepsi, and mug."
   ]
  },
  {
   "cell_type": "markdown",
   "metadata": {},
   "source": [
    "G. Print out the average sodium for pepsico products that have more than 135 calories. "
   ]
  },
  {
   "cell_type": "markdown",
   "metadata": {},
   "source": [
    "H. Print out the number of pepsico products with sodium above 60 mg."
   ]
  },
  {
   "cell_type": "markdown",
   "metadata": {},
   "source": [
    "I. Print out the calories in a coke. "
   ]
  },
  {
   "cell_type": "markdown",
   "metadata": {},
   "source": [
    "# Exercise 2: Importing data\n",
    "\n",
    "The file \"banks_and_branches.csv\" contains data on the number of commercial banking institutions, branches, and offices in the United States at the end of each year between 1934 to 2017. (This data is maintained by the Federal Deposit Insurance Corporation (FDIC) and can be downloaded from https://www5.fdic.gov/hsob/SelectRpt.asp?EntryTyp=10&Header=1, series CB01. The FDIC has a lot of interesting banking data. You are encouraged to browse around their website to see what's there -- this might be a useful source for your final project.)\n",
    "\n",
    "Your task is to import this data into Python.\n",
    "\n",
    "### Part (a):\n",
    "In the code cell below, import the data from \"banks_and_branches.csv\" into a Pandas data frame called `banking_data`. If you open the .csv file in Excel or a similar program, you'll notice that there are notes in several of the cells at the beginning of the file. Rather than delete these manually, you should use the `header` option in `pandas.read_csv` to use the correct row for the column names."
   ]
  },
  {
   "cell_type": "markdown",
   "metadata": {},
   "source": [
    "### Part (b):\n",
    "1. Convert each of the column names to lower case using a list comprehension.\n",
    "2. We don't need the 'branches' column -- you might notice that the variable 'offices' is equal to 'institutions' plus 'branches'. Delete the 'branches' column.  \n",
    "3. Rename the 'institutions' column 'banks'.\n",
    "4. Then, print the data types of each column."
   ]
  },
  {
   "cell_type": "markdown",
   "metadata": {},
   "source": [
    "### Part (c):\n",
    "\n",
    "You'll notice that some of the columns are listed as objects and not integers. Convert these columns to integers. Note that you'll need to remove the thousands separator (\",\") from each number first. Print the data types of each column to confirm that they are all integers.\n",
    "\n",
    "Later, we will need a variable containing the average number of offices per institution in each year. Add a new column called 'offices_per_bank' to `banking_data` with this information."
   ]
  },
  {
   "cell_type": "markdown",
   "metadata": {},
   "source": [
    "# Exercise 3\n",
    "Let's work with U.S. GDP. The data come from FRED. The goal it to brush up on our data cleaning skills and compute a few summary statistics. \n",
    "\n",
    "### Part (a):\n",
    "1. The file GDPCA.csv contains annual real GDP. Read it into a DataFrame and create a series of growth rates."
   ]
  },
  {
   "cell_type": "markdown",
   "metadata": {},
   "source": [
    "2. Something went wrong, right? There is a gremlin in the data. Find a way to use read_csv() to turn the bad data into NaNs. Now compute the growth rates. Print the first 5 rows."
   ]
  },
  {
   "cell_type": "markdown",
   "metadata": {},
   "source": [
    "### Part (b) \n",
    "1. Compute the mean gdp growth rate for 1960-1985\n",
    "2. Compute the standard deviation of the gdp growth rate for 1960-1985\n",
    "3. Repeat parts 1. and 2. for the period 1985-2007\n",
    "4. Print out your results in a few *neatly formatted* sentences. Comment on the differences between the two periods. \n",
    "\n"
   ]
  },
  {
   "cell_type": "markdown",
   "metadata": {},
   "source": [
    "### Part (c)\n",
    "1. Recompute the mean and standard deviation for 1985-2018. \n",
    "2. How have things changed?"
   ]
  }
 ],
 "metadata": {
  "celltoolbar": "Attachments",
  "kernelspec": {
   "display_name": "Python 3",
   "language": "python",
   "name": "python3"
  },
  "language_info": {
   "codemirror_mode": {
    "name": "ipython",
    "version": 3
   },
   "file_extension": ".py",
   "mimetype": "text/x-python",
   "name": "python",
   "nbconvert_exporter": "python",
   "pygments_lexer": "ipython3",
   "version": "3.7.3"
  }
 },
 "nbformat": 4,
 "nbformat_minor": 2
}
