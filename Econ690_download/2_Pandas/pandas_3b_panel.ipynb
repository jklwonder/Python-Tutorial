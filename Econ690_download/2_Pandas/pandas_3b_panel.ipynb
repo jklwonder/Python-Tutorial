{
 "cells": [
  {
   "cell_type": "markdown",
   "metadata": {},
   "source": [
    "# Panel data in pandas\n",
    "\n",
    "Files needed = ('dogs.csv', 'WEOOct2016all.xls')\n",
    "\n",
    "We are learning how to deal with complex datasets in pandas. We began by tackling the multiIndex and now we turn to panel data and its various representations.  \n",
    "\n",
    "Panel data have (at least) three dimensions, for example, a panel might record\n",
    "1. several variables (income, age, spending on cheese)\n",
    "2. regarding several people\n",
    "3. over time\n",
    "\n",
    "The multiIndex gives us a natural way to handle this data."
   ]
  },
  {
   "cell_type": "code",
   "execution_count": null,
   "metadata": {},
   "outputs": [],
   "source": [
    "import pandas as pd                 # load pandas and shorten it to pd\n",
    "import datetime as dt               # load datetime and shorten it to dt\n",
    "import matplotlib.pyplot as plt     # for making figures"
   ]
  },
  {
   "cell_type": "markdown",
   "metadata": {},
   "source": [
    "### Some panel data\n",
    "Load the 'dogs.csv' file. The different dimensions of the data are: **variables** (walks, snacks); **dogs** (Buster, Su); and  **time**.\n",
    " \n",
    "The difference between the 'prem' dataset in the last notebook and this one is that the dogs dataset has a *time dimension.*\n",
    "\n",
    "For reference, here are [Buster and Su](http://kjrs3.com/f19econ690/2_Pandas/best_dogs.jpg).\n",
    " "
   ]
  },
  {
   "cell_type": "code",
   "execution_count": null,
   "metadata": {},
   "outputs": [],
   "source": [
    "# load a data file with the number of walks and snacks my dogs have had \n",
    "\n",
    "dogs = pd.read_csv('dogs.csv')         # data on the habits of my dogs\n",
    "dogs\n",
    "\n"
   ]
  },
  {
   "cell_type": "markdown",
   "metadata": {},
   "source": [
    "### Long vs. wide (or stacked vs. unstacked)\n",
    "\n",
    "This data format is called **long** because there are lots of rows and not many columns. Moving between long and **wide** (lots of columns, fewer rows) is a common task in setting up panel data sets. \n",
    "\n",
    "Pandas calls long data **stacked** and wide data **unstacked**. We use the `stack()` and `unstack()` methods for moving between long and wide with multiIndexed data. Stack and unstack do not work in place. They always return a copy, so we need to assign it to a variable."
   ]
  },
  {
   "cell_type": "markdown",
   "metadata": {},
   "source": [
    "### Set up the index"
   ]
  },
  {
   "cell_type": "code",
   "execution_count": null,
   "metadata": {},
   "outputs": [],
   "source": [
    "dogs['time'] = pd.to_datetime(dogs['time'])\n",
    "\n",
    "# move everything but the data values to the index\n",
    "dogs = dogs.set_index(['dog', 'time', 'var'])\n",
    "dogs\n"
   ]
  },
  {
   "cell_type": "markdown",
   "metadata": {},
   "source": [
    "### Unstack\n",
    "We **unstack the data** to put the variables into columns. "
   ]
  },
  {
   "cell_type": "code",
   "execution_count": null,
   "metadata": {},
   "outputs": [],
   "source": [
    "# Moving var to a column creates a multiIndex with two levels\n",
    "\n",
    "dogs_us = dogs.unstack('var') \n",
    "dogs_us"
   ]
  },
  {
   "cell_type": "code",
   "execution_count": null,
   "metadata": {},
   "outputs": [],
   "source": [
    "dogs_us.columns"
   ]
  },
  {
   "cell_type": "markdown",
   "metadata": {},
   "source": [
    "We can unstack several variables. As usual, we pass a list. "
   ]
  },
  {
   "cell_type": "code",
   "execution_count": null,
   "metadata": {},
   "outputs": [],
   "source": [
    "dogs_us = dogs.unstack(['dog', 'var']) # move dog and var to columns, creates a multiindex with three levels\n",
    "dogs_us"
   ]
  },
  {
   "cell_type": "code",
   "execution_count": null,
   "metadata": {},
   "outputs": [],
   "source": [
    "dogs_us.columns"
   ]
  },
  {
   "cell_type": "markdown",
   "metadata": {},
   "source": [
    "### Removing a level\n",
    "The outermost level of the column multiIndex is 'value' and is not very useful. Let's drop it.\n",
    "\n",
    "Note that the level does not have a name associated with it (`None` is not a name) so we need to use the number associate with the level. "
   ]
  },
  {
   "cell_type": "code",
   "execution_count": null,
   "metadata": {},
   "outputs": [],
   "source": [
    "dogs_us.columns = dogs_us.columns.droplevel(level = 0)\n",
    "dogs_us"
   ]
  },
  {
   "cell_type": "markdown",
   "metadata": {},
   "source": [
    "We now have an unstacked DataFrame and each column is a time series of one dog's observations (the data are 'wide'). \n",
    "Notice that we do not have observations for **2018-10-04** walks, so panda filled in `NaN`s for us. \n",
    "\n",
    "Panel data like this are STATA's bread and butter, and STATA has a lot of tools for working with panels. Pandas does not have as large a toolset, but the multiIndex provides a very nice way to handle and display panel data. STATA does not have a multiIndex, so the column names in the data above would be: 'walkBuster', 'snacksBuster', 'walkSu', 'snacksSu'. "
   ]
  },
  {
   "cell_type": "markdown",
   "metadata": {},
   "source": [
    "### Creating new variables\n",
    "I want to know the walk-to-snacks ratio to make sure they are getting enough exercise. We can refer to columns in the multiIndex using tuples. "
   ]
  },
  {
   "cell_type": "code",
   "execution_count": null,
   "metadata": {
    "scrolled": true
   },
   "outputs": [],
   "source": [
    "# compute the ratios\n",
    "dogs_us[('Buster', 'ws_ratio')] =  dogs_us[('Buster', 'walk')]/dogs_us[('Buster', 'snacks')]\n",
    "dogs_us[('Su', 'ws_ratio')] =  dogs_us[('Su', 'walk')]/dogs_us[('Su', 'snacks')]\n",
    "\n",
    "# resort the index\n",
    "dogs_us.sort_index(axis=1, inplace=True)\n",
    "dogs_us\n"
   ]
  },
  {
   "cell_type": "markdown",
   "metadata": {},
   "source": [
    "### Ploting with panels\n",
    "Let's plot the walk-snack ratio. There are several things in this code to talk about..."
   ]
  },
  {
   "cell_type": "code",
   "execution_count": null,
   "metadata": {
    "scrolled": false
   },
   "outputs": [],
   "source": [
    "# A stealthy import --- I usually put these in the first cell\n",
    "import matplotlib.dates as mdates\n",
    "\n",
    "fig, ax = plt.subplots(figsize=(15,6))\n",
    "\n",
    "ax.plot(dogs_us.index, dogs_us[('Buster', 'ws_ratio')], color='red', marker = 'o', label='Buster')\n",
    "ax.plot(dogs_us.index, dogs_us[('Su', 'ws_ratio')], color='blue', marker = 'o', label='Su')\n",
    "\n",
    "ax.spines['top'].set_visible(False)\n",
    "ax.spines['right'].set_visible(False)\n",
    "ax.set_title('Walk-snack ratio')\n",
    "ax.legend(frameon=False)\n",
    "\n",
    "# Here I am formatting the x-axis dates\n",
    "# ax.set_xticks(dogs_us.index)                                  # put ticks only where we have observations\n",
    "# ax.xaxis.set_major_formatter(mdates.DateFormatter(\"%m-%d\"))   #show the month and day\n",
    "\n",
    "plt.show()\n",
    "\n"
   ]
  },
  {
   "cell_type": "markdown",
   "metadata": {},
   "source": [
    "Looks pretty good, but Buster needs more walks. Let's dig into this a bit more.\n",
    "\n",
    "### 1. Alternative plot command\n",
    "In the figure above, I separately plotted Buster's and Su's data. \n",
    "1. This let me specify a label to get the legend correct\n",
    "2. It makes it clear how I specify each line color, width, marker, etc\n",
    "\n",
    "In the figure below, I plot the index (the dates) against all the `ws_ratio`. This is a fast way to plot many lines.\n",
    "1. I have to handle the legend labels separately\n",
    "2. I am using matplotlib's default color cycler\n",
    "\n"
   ]
  },
  {
   "cell_type": "code",
   "execution_count": null,
   "metadata": {},
   "outputs": [],
   "source": [
    "fig, ax = plt.subplots(figsize=(15,6))\n",
    "\n",
    "ax.plot(dogs_us.index, dogs_us.xs('ws_ratio', level=1, axis=1))\n",
    "\n",
    "ax.spines['top'].set_visible(False)\n",
    "ax.spines['right'].set_visible(False)\n",
    "ax.set_title('Walk-snack ratio')\n",
    "#ax.legend(frameon=False)\n",
    "\n",
    "ax.legend(dogs_us.columns.get_level_values(level='dog').unique(), frameon=False)\n",
    "\n",
    "# Here I am formatting the x-axis dates\n",
    "# ax.set_xticks(dogs_us.index)                                  # put ticks only where we have observations\n",
    "# ax.xaxis.set_major_formatter(mdates.DateFormatter(\"%m-%d\"))   #show the month and day\n",
    "\n",
    "plt.show()"
   ]
  },
  {
   "cell_type": "markdown",
   "metadata": {},
   "source": [
    "### Legends\n",
    "\n",
    "Comment out the more complicated legend code above and use our standard `ax.legend(frameon=False)` code. What happened? Matplotlib wasn't sure what to do about the legend labels, so it bonked.\n",
    "\n",
    "To add labels to the legend:\n",
    "1. Get the values of the column names (at which level?)\n",
    "2. They are repeated, so pull out the unique values\n",
    "3. Assign the values to the legend"
   ]
  },
  {
   "cell_type": "code",
   "execution_count": null,
   "metadata": {},
   "outputs": [],
   "source": [
    "# Here is get_level_values\n",
    "print(dogs_us.columns.get_level_values(level='dog'))\n",
    "\n",
    "# Here is get the unique levels\n",
    "print(dogs_us.columns.get_level_values(level='dog').unique())"
   ]
  },
  {
   "cell_type": "markdown",
   "metadata": {},
   "source": [
    "In general, legends are very flexible and potentially complicated. We will talk more about them later. "
   ]
  },
  {
   "cell_type": "markdown",
   "metadata": {},
   "source": [
    "### 2.  An aside on datetime axes\n",
    "**The Problem:** The x-axis range is small, so matplotlib has added some labels with days broken up in hours. The data are not collected by the hour, so this axis is misleading. I only have daily observations.\n",
    "\n",
    "I am exerting some control over the x-axis ticks and labels here. \n",
    "```python\n",
    "ax.set_xticks(dogs_us.index)   \n",
    "```\n",
    "specifies that I want ticks at the values in the index --- and only at these places.\n",
    "\n",
    "The code\n",
    "```python \n",
    "ax.xaxis.set_major_formatter(mdates.DateFormatter(\"%m-%d\"))\n",
    "```\n",
    "tells matplotlib to format the tick labels as month-day. To use this second line of code, I needed to import the mdates (**m**atplotlib **dates**) part of the matplotlib package."
   ]
  },
  {
   "cell_type": "code",
   "execution_count": null,
   "metadata": {},
   "outputs": [],
   "source": [
    "fig, ax = plt.subplots(figsize=(15,6))\n",
    "\n",
    "ax.plot(dogs_us.index, dogs_us[('Buster', 'ws_ratio')], color='red', marker = 'o', label='Buster')\n",
    "ax.plot(dogs_us.index, dogs_us[('Su', 'ws_ratio')], color='blue', marker = 'o', label='Su')\n",
    "\n",
    "ax.spines['top'].set_visible(False)\n",
    "ax.spines['right'].set_visible(False)\n",
    "ax.set_title('Walk-snack ratio')\n",
    "\n",
    "# Here I am formatting the x-axis dates\n",
    "ax.set_xticks(dogs_us.index)                                  # put ticks only where we have observations\n",
    "ax.xaxis.set_major_formatter(mdates.DateFormatter(\"%m-%d\"))   #show the month and day\n",
    "\n",
    "ax.legend(frameon=False)\n",
    "\n",
    "plt.show()\n",
    "\n"
   ]
  },
  {
   "cell_type": "markdown",
   "metadata": {},
   "source": [
    "\\[To try at home: We don't have data points for 10-04. Change the x-axis limits to that it only spans 10-01 to 10-03.\\]"
   ]
  },
  {
   "cell_type": "markdown",
   "metadata": {},
   "source": [
    "### Stack\n",
    "We can **stack the data** to put the variables back on the rows. \n",
    "\n",
    "When we stack the data, pandas defaults to dropping the NaNs. We can override this if we choose. If we do not pass an argument, it stacks the innermost index. "
   ]
  },
  {
   "cell_type": "code",
   "execution_count": null,
   "metadata": {},
   "outputs": [],
   "source": [
    "# stack just one level\n",
    "dogs_s = dogs_us.stack()       # stack shifts the columns to rows. \n",
    "dogs_s"
   ]
  },
  {
   "cell_type": "code",
   "execution_count": null,
   "metadata": {},
   "outputs": [],
   "source": [
    "# stack two levels (and keep the missings)\n",
    "dogs_s = dogs_us.stack(['dog', 'var'], dropna=False)\n",
    "dogs_s"
   ]
  },
  {
   "cell_type": "markdown",
   "metadata": {},
   "source": [
    "The data are back to 'long' form. Note that we have a series now, and not a DataFrame. \n",
    "\n",
    "I would like dog as the outermost index. Use the `swaplevel()` to swap two levels. "
   ]
  },
  {
   "cell_type": "code",
   "execution_count": null,
   "metadata": {},
   "outputs": [],
   "source": [
    "dogs_s=dogs_s.swaplevel('dog', 'time')\n",
    "dogs_s"
   ]
  },
  {
   "cell_type": "code",
   "execution_count": null,
   "metadata": {},
   "outputs": [],
   "source": [
    "# and swap var for time, so time is the innermost index\n",
    "dogs_s=dogs_s.swaplevel('var', 'time')\n",
    "dogs_s"
   ]
  },
  {
   "cell_type": "code",
   "execution_count": null,
   "metadata": {},
   "outputs": [],
   "source": [
    "# and give it a sorting...\n",
    "dogs_s.sort_index(inplace=True)\n",
    "dogs_s"
   ]
  },
  {
   "cell_type": "markdown",
   "metadata": {},
   "source": [
    "Let's get this ready to save as long data, like it was when we read it in.\n",
    "1. Reset the index to move them back to columns\n",
    "2. Give the value column a name"
   ]
  },
  {
   "cell_type": "code",
   "execution_count": null,
   "metadata": {},
   "outputs": [],
   "source": [
    "dogs_s = dogs_s.reset_index()\n",
    "dogs_s"
   ]
  },
  {
   "cell_type": "code",
   "execution_count": null,
   "metadata": {},
   "outputs": [],
   "source": [
    "dogs_s.rename(columns={0 :'value'}, inplace=True)\n",
    "dogs_s"
   ]
  },
  {
   "cell_type": "code",
   "execution_count": null,
   "metadata": {},
   "outputs": [],
   "source": [
    "# Now save it. \n",
    "dogs_s.to_csv('dog_data_updated.csv', index=False)  #index = False does not print the index"
   ]
  },
  {
   "cell_type": "markdown",
   "metadata": {},
   "source": [
    "## Practice\n",
    "\n",
    "Let's review multiIndexing with some real world data. The data are messy and will require some cleaning up and 'wrangling.' We will do some of it together, then I'll  hand it off for you all to finish. \n",
    "\n",
    "We will work with the IMF's [World Economic Outlook](https://www.imf.org/external/pubs/ft/weo/2017/02/weodata/download.aspx), which contains historical data and the IMF's forecasts for many countries and variables. \n",
    "\n",
    "Our **goal** is to study the evolution of debt in Germany, Argentina, and Greece. \n",
    "\n",
    "First, download the data file. The file is here [http://www.imf.org/external/pubs/ft/weo/2016/02/weodata/WEOOct2016all.xls](http://www.imf.org/external/pubs/ft/weo/2016/02/weodata/WEOOct2016all.xls). Clicking on the link should initiate a download.\n",
    "\n",
    "Wow, there is a lot going on here. Let's get to work."
   ]
  },
  {
   "cell_type": "markdown",
   "metadata": {},
   "source": [
    "### Read the data into a DataFrame\n",
    "Read in the data, then inspect the head and tail to make sure it looks as expected."
   ]
  },
  {
   "cell_type": "code",
   "execution_count": null,
   "metadata": {},
   "outputs": [],
   "source": [
    "# The IMF website is acting up and the url doesn't always work\n",
    "# url = 'http://www.imf.org/external/pubs/ft/weo/2016/02/weodata/WEOOct2016all.xls'\n",
    "\n",
    "# The data are in a tab-separated list (even though the file ends in 'xls'. Not cool, IMF)\n",
    "# The thousands parameter tells pandas to remove the comma when reading in numbers\n",
    "weo = pd.read_csv('WEOOct2016all.xls', sep='\\t', na_values=['n/a', '--'], thousands =',')\n",
    "weo.head()\n"
   ]
  },
  {
   "cell_type": "markdown",
   "metadata": {},
   "source": [
    "### A quick aside about encoding\n",
    "What the heck just happened? What is a `UnicodeDecodeError`?\n",
    "\n",
    "Any 'text' character (be it latin, cyrilic, korean, chinese,...) must be translated to a series of 0s and 1s in order for a computer to understand it. This translation is known as an encoding. As computers developed, many different groups created many different encodings (e.g., ASCII), so the letter 'K' may translate to 0010 in one encoding and 00100101 in another. What a mess. \n",
    "\n",
    "At some point [Unicode](https://en.wikipedia.org/wiki/Unicode) was developed to serve as one standard encoding. Pandas defaults to utf-8 encoding. The world is converging on unicode, but other encoding are still out there. \n",
    "\n",
    "The error message tells us that the IMF is not encoding its ~~workbook~~ tab-delimited file as utf-8. After a bit of digging, I found the file to be encoded in 'windows-1252'. (Now is not the time for a discussion of the bureaucratic nightmares of large international organizations, but this is a nice example.) \n",
    "\n",
    "That's probably more than you ever wanted to know about text, but it's a scary world out there. If you try reading a file and pandas throws a unicode error, then you probably need to change the encoding. \n",
    "\n",
    "The `read_` methods of pandas (and other python methods) takes a parameter `encoding` to specify the file encoding. When we do not specify the encoding, pandas defaults to utf-8. Let's add the encoding parameter and try again."
   ]
  },
  {
   "cell_type": "code",
   "execution_count": null,
   "metadata": {},
   "outputs": [],
   "source": [
    "# url = 'http://www.imf.org/external/pubs/ft/weo/2016/02/weodata/WEOOct2016all.xls'\n",
    "\n",
    "# The data are in a tab-separated list (even though the file ends in 'xls'. Not cool, IMF)\n",
    "# The encoding parameter tells pandas how to read special characters\n",
    "# The thousands parameter tells pandas to remove the comma when reading in numbers\n",
    "weo = pd.read_csv('WEOOct2016all.xls', sep='\\t', na_values=['n/a', '--'], thousands =',', encoding='windows-1252')\n",
    "weo.head()"
   ]
  },
  {
   "cell_type": "code",
   "execution_count": null,
   "metadata": {},
   "outputs": [],
   "source": [
    "weo.tail()"
   ]
  },
  {
   "cell_type": "markdown",
   "metadata": {},
   "source": [
    "The data file has a footer (go back and look in the file) and we read it in as a line of data. We could go back and specify the `skipfooter` parameter to `read_csv()`, but we can also just drop it."
   ]
  },
  {
   "cell_type": "code",
   "execution_count": null,
   "metadata": {},
   "outputs": [],
   "source": [
    "weo.drop(8404, inplace=True)   # Using the row number is not very robust. What if the IMF added more countries to the workbook?\n",
    "weo.tail()"
   ]
  },
  {
   "cell_type": "markdown",
   "metadata": {},
   "source": [
    "### Drop unneeded variables\n",
    "Use `drop()` to get rid of columns that we are not going to use."
   ]
  },
  {
   "cell_type": "code",
   "execution_count": null,
   "metadata": {},
   "outputs": [],
   "source": [
    "weo.drop(['WEO Country Code', 'Subject Notes', 'Country/Series-specific Notes', 'Scale', 'Estimates Start After'],axis=1, inplace=True)\n",
    "weo.head()"
   ]
  },
  {
   "cell_type": "markdown",
   "metadata": {},
   "source": [
    "### Keep the countries and variables we want\n",
    "Let's look at Argentina, Germany, and Greece and the variables debt-gdp ratio and deficit-gdp ratio. We will use this as an opportunity to learn about the `.isin( )` method of DataFrame."
   ]
  },
  {
   "cell_type": "code",
   "execution_count": null,
   "metadata": {},
   "outputs": [],
   "source": [
    "variables = ['GGXWDG_NGDP', 'GGXCNL_NGDP']\n",
    "countries = ['ARG', 'DEU', 'GRC']\n",
    "\n",
    "weo = weo[ weo['WEO Subject Code'].isin(variables) & weo['ISO'].isin(countries) ]\n",
    "weo.head()"
   ]
  },
  {
   "cell_type": "markdown",
   "metadata": {},
   "source": [
    "### The isin() method\n",
    "Check out the way that I selected the rows of the DataFrame I wanted. I used the `isin()` method ([docs](https://pandas.pydata.org/pandas-docs/stable/generated/pandas.DataFrame.isin.html)). You pass it a list of values and it returns a DataFrame of bools which you use to subset the data. This is a lot cleaner than using a bunch of conditional statements.  \n",
    "\n",
    "I'm using it twice: once to specify the variables I want and once to specify the countries I want. I join the two together with an & operator.  "
   ]
  },
  {
   "cell_type": "markdown",
   "metadata": {},
   "source": [
    "### Your turn\n",
    "The data are in pretty decent shape. Take a few minutes and try the following. Feel free to chat with those around if you get stuck. I am here, too.\n",
    "\n",
    "1. Rename the 'WEO Subject Code' to 'Variable' and 'Subject Descriptor' to 'Description'."
   ]
  },
  {
   "cell_type": "markdown",
   "metadata": {},
   "source": [
    "2. Replace 'GGXCNL_NGDP' with 'Surplus\n",
    "3. Replace 'GGXWDG_NGDP' with 'Debt'"
   ]
  },
  {
   "cell_type": "markdown",
   "metadata": {},
   "source": [
    "4. Set the (row) multiIndex to be 'ISO', 'Variable', 'Country', 'Description', and 'Units', in that order. "
   ]
  },
  {
   "cell_type": "markdown",
   "metadata": {},
   "source": [
    "5. We want the row to be time and everything else to be columns. Swap the columns for rows using `.transpose()`.\n",
    "6. Sort the row and column indexes."
   ]
  },
  {
   "cell_type": "markdown",
   "metadata": {},
   "source": [
    "7. Plot debt levels for Argentina, Germany and Greece for all the years in the data. Add a legend. Make the figure look nice. Hint: The x-axis is time..."
   ]
  },
  {
   "cell_type": "markdown",
   "metadata": {},
   "source": [
    "Wow, Greece has had an interesting run. Let's look at Greece more closely. \n",
    "8. Create a (2,1) grid of subplots. Plot Greece's surplus in the top axes and debt in the bottom axis. Make it look nice."
   ]
  },
  {
   "cell_type": "markdown",
   "metadata": {},
   "source": [
    "9. Stack the data to create a long dataset\n",
    "10. Save the stacked data as a csv file"
   ]
  }
 ],
 "metadata": {
  "celltoolbar": "Attachments",
  "kernelspec": {
   "display_name": "Python 3",
   "language": "python",
   "name": "python3"
  },
  "language_info": {
   "codemirror_mode": {
    "name": "ipython",
    "version": 3
   },
   "file_extension": ".py",
   "mimetype": "text/x-python",
   "name": "python",
   "nbconvert_exporter": "python",
   "pygments_lexer": "ipython3",
   "version": "3.7.3"
  }
 },
 "nbformat": 4,
 "nbformat_minor": 2
}
