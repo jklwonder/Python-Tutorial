{
 "cells": [
  {
   "cell_type": "markdown",
   "metadata": {},
   "source": [
    "# Coding practice \\#3: Due midnight, November 1\n",
    "\n",
    "files needed = ('GDPC1.csv')\n",
    "\n",
    "Answer the questions below in a jupyter notebook. You can simply add cells to this notebook and enter your answers. When you are finished, upload the completed notebook to canvas. \n",
    "\n",
    "A reminder: My office hours are Tuesdays 2:30PM-3:30PM and Thursdays 10:00AM-11:00AM in Soc Sci 7444. You can also send me questions by email. \n",
    "\n",
    "*You should feel free to discuss the coding practice with your classmates, but the work you turn in should be your own.*"
   ]
  },
  {
   "cell_type": "markdown",
   "metadata": {},
   "source": [
    "# Exercise 0: Last, First\n",
    "Replace 'Your name' above with your actual name. Enter it as: last name, first name."
   ]
  },
  {
   "cell_type": "markdown",
   "metadata": {},
   "source": [
    "# Exercise 1: Making subplots\n",
    "\n",
    "**Note: This exercise uses the** `banking_data` **DataFrame created in coding practice 2 in Exercise 2.**\n",
    "\n",
    "The U.S. banking industry has become increasingly concentrated over the years, especially due to a wave of mergers and acquisitions that occurred in the 1990s and 2000s. Furthermore, many commercial banks have begun to close their physical branch locations in recent years due to the rise of online and mobile banking. (See https://www.forbes.com/sites/laurengensler/2016/07/18/bank-branch-closures-more-to-come/#a1c22cd5e04f.)\n",
    "\n",
    "In this exercise, you will create three time series plots of the number of banks, number of offices, and number of offices per bank between 1934 and 2017. "
   ]
  },
  {
   "cell_type": "markdown",
   "metadata": {},
   "source": [
    "### Part (a):\n",
    "\n",
    "1. Open your notebook from coding practice \\#2. Run your code for exercise 2. You should have a DataFrame named `banking_data`. \n",
    "2. Save `banking_data` to a csv file named 'banking_data.csv'.\n",
    "3. In a new cell below, read 'banking_data.csv' into a DataFrame named `banking_data`"
   ]
  },
  {
   "cell_type": "markdown",
   "metadata": {},
   "source": [
    "### Part (b):\n",
    "\n",
    "1. Create a figure with three subplots (all in a single column). Set the figure size to (15,15).\n",
    "2. In the first subplot, create a line plot of the number of banks by year. Make the line dotted and black. Label the x-axis \"Year\" and the y-axis \"Number of banks\". Set the title of this subplot as \"Number of U.S. commercial banks, 1934-2017\".\n",
    "3. In the second subplot, create a line plot of the number of offices by year. Make the line dashed and red. Label the x-axis \"Year\" and the y-axis \"Number of offices\". Set the title of this subplot as \"Number of offices of U.S. commercial banks, 1934-2017\".\n",
    "4. In the third subplot, create a line plot of the average number of offices per bank. Make the line blue with a dash-dot pattern. Label the x-axis \"Year\" and the y-axis \"Number of offices per bank.\" Set the title of this subplot as \"Average number of offices per bank, 1934-2017\".\n",
    "\n",
    "**Note:** We did not cover subplots in class. There is information about them at the bottom of the notebook 'matplotlib_1.ipynb'"
   ]
  },
  {
   "cell_type": "markdown",
   "metadata": {},
   "source": [
    "### Part (c):\n",
    "\n",
    "Why might plotting these three lines on the same axes be problematic or confusing? Create a new markdown cell below to write your answer."
   ]
  },
  {
   "cell_type": "markdown",
   "metadata": {},
   "source": [
    "### Part (d):\n",
    "\n",
    "Create a new figure that plots the three time series above on the same plot. Set the figure size to (15,5). Maintain the same line color and pattern for each series as above, and add a legend with labels for each line.\n",
    "\n",
    "Does this plot confirm your answer in part (c)?"
   ]
  },
  {
   "cell_type": "markdown",
   "metadata": {},
   "source": [
    "### Part (e):\n",
    "Let's put the 'number of offices per bank' and the 'number of banks' variable on the same subplot with two different y-axes. Your figure should look something like [this one](http://kjrs3.com/f19econ690/99_Misc/parte.pdf).\n",
    "\n",
    "1. Use the `twinx()` method of matplotlib ([docs](https://matplotlib.org/3.1.1/api/_as_gen/matplotlib.axes.Axes.twinx.html)) to plot the number of banks on the left axis and the number of offices per bank on the right axis. \n",
    "2. Add all of the labels that you need. "
   ]
  },
  {
   "cell_type": "markdown",
   "metadata": {},
   "source": [
    "## Exercise 2: Dates \n",
    "\n",
    "More work with U.S. GDP. The data come from FRED. "
   ]
  },
  {
   "cell_type": "markdown",
   "metadata": {},
   "source": [
    "### Part(a):\n",
    "1. Create a DataFrame named `gdp` from the file 'GDPC1.csv'\n",
    "2. Compute the growth rate of 'GDPC1'\n",
    "3. Set the index to 'DATE'\n",
    "4. Print out the first 3 rows of your DataFrame\n",
    "5. What is the frequency of the data?"
   ]
  },
  {
   "cell_type": "markdown",
   "metadata": {},
   "source": [
    "### Part (b):\n",
    "1. Plot the gdp growth rates against time (don't worry about labels or anything yet)"
   ]
  },
  {
   "cell_type": "markdown",
   "metadata": {},
   "source": [
    "## Part (c):\n",
    "\n",
    "How's that x-axis look? Probably pretty ugly...the culprit is our index. It's a bunch of strings right now.\n",
    "\n",
    "1. Convert the index to be datetime objects\n",
    "2. Print out the type of the index\n",
    "\n",
    "Note: If you set the index to datetimes in part (b), skip part 1 and just do part 2. "
   ]
  },
  {
   "cell_type": "markdown",
   "metadata": {},
   "source": [
    "### Part (d):\n",
    "\n",
    "1. Now plot gdp growth rates against time\n",
    "2. Add a horizontal line at y=0. Make the line black with width 0.75.\n",
    "3. Add labels as needed"
   ]
  },
  {
   "cell_type": "markdown",
   "metadata": {},
   "source": [
    "### Part   (e):\n",
    "1. Create an empty DataFrame named 'gdpa'\n",
    "2. Create a variable named 'annual' in gdpa that holds the annual values of real gdp. Use the `resample()` method. The [quarterly data](https://fred.stlouisfed.org/series/GDPC1) are expressed as annual rates. Which aggregator function should you use: `mean()` or `sum()`? "
   ]
  },
  {
   "cell_type": "markdown",
   "metadata": {},
   "source": [
    "### Part (f):\n",
    "1. Plot annual real gdp\n",
    "2. Add labels as appropriate"
   ]
  },
  {
   "cell_type": "markdown",
   "metadata": {},
   "source": [
    "### Optional:\n",
    "\n",
    "1. Express the y-axis labels in trillions\n",
    "\n",
    "Do not make adjustments to the data. Use matplotlib commands to format the axis labels. "
   ]
  }
 ],
 "metadata": {
  "celltoolbar": "Attachments",
  "kernelspec": {
   "display_name": "Python 3",
   "language": "python",
   "name": "python3"
  },
  "language_info": {
   "codemirror_mode": {
    "name": "ipython",
    "version": 3
   },
   "file_extension": ".py",
   "mimetype": "text/x-python",
   "name": "python",
   "nbconvert_exporter": "python",
   "pygments_lexer": "ipython3",
   "version": "3.7.3"
  }
 },
 "nbformat": 4,
 "nbformat_minor": 2
}
