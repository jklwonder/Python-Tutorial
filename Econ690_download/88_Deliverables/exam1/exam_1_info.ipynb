{
 "cells": [
  {
   "cell_type": "markdown",
   "metadata": {},
   "source": [
    "## Exam 1 information\n",
    "\n",
    "Exam details:\n",
    "* The exam starts at 4 PM and ends at 5:15 PM. Please arrive early and get logged in.  \n",
    "* The exam will be available on the X:\\ drive on winstat. \n",
    "* You will need to upload your finished notebook to Canvas. Allow yourself enough time to get your file uploaded before 5:15 PM. You might want to log into Canvas before the exam starts, so you can easily upload it once finished. \n",
    "* The exam is open-book and open-Internet. Having to rely too much on books and the Internet will slow you down. \n",
    "* You **cannot** work with others on the exam.\n",
    "\n",
    "Some suggestions for studying:\n",
    "* Go over the notebooks we have covered in class (up to, and including, pandas_2_input)\n",
    "* Go over the coding practices. \n",
    "* You could try doing the practice parts from the class notebooks and the coding practice problems again, but without much outside help. Are there subjects that need more practice?\n",
    "* Take the practice exam as if it was a real exam. Keep track of time, and do not discuss the exam with others. Again, did you find subjects that could use more practice?"
   ]
  },
  {
   "cell_type": "markdown",
   "metadata": {},
   "source": [
    "## Office hours\n",
    "\n",
    "During exam week, office hours are\n",
    "* Tuesday 2:30 PM-3:30 PM\n",
    "* Wednesday 2:00 PM - 3:00 PM\n",
    "* Thursday 10:00 AM - 10:45 AM\n",
    "* By email \n"
   ]
  },
  {
   "cell_type": "markdown",
   "metadata": {},
   "source": [
    "## Topics (a non-exhaustive list)\n",
    "\n",
    "This list is meant to help you guide your studying. It is not, however, an exhaustive list of everything that I might ask about on the exam. Anything we have covered in class might show up on the exam. \n",
    "\n",
    "1. Markdown\n",
    "  1. Fonts (bold, italic, etc)\n",
    "  2. Lists (ordered, unordered)\n",
    "  3. Links\n",
    "  4. Formatted code\n",
    "2. Python basics\n",
    "  1. Types (how to find a type, how to convert)\n",
    "  2. Working with lists, strings (including string formatting), and dicts\n",
    "  3. Bools and if statements\n",
    "  4. Loops and list comprehensions\n",
    "  5. Slicing\n",
    "  6. User-defined functions\n",
    "3. Pandas\n",
    "  1. Creating DataFrames (from a dict, from a file, handling messy files)\n",
    "  2. Working with the index\n",
    "  3. Dealing with column names\n",
    "  4. Computation on DataFrames\n",
    "  5. Summary statistics from a DataFrame\n",
    "  6. Taking subsets (row and/or columns) from a DataFrame (using loc[], using conditionals)"
   ]
  }
 ],
 "metadata": {
  "kernelspec": {
   "display_name": "Python 3",
   "language": "python",
   "name": "python3"
  },
  "language_info": {
   "codemirror_mode": {
    "name": "ipython",
    "version": 3
   },
   "file_extension": ".py",
   "mimetype": "text/x-python",
   "name": "python",
   "nbconvert_exporter": "python",
   "pygments_lexer": "ipython3",
   "version": "3.7.3"
  }
 },
 "nbformat": 4,
 "nbformat_minor": 2
}
