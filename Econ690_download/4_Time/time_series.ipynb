{
 "cells": [
  {
   "cell_type": "markdown",
   "metadata": {},
   "source": [
    "# Working with time series\n",
    "\n",
    "files needed = (''VIXCLSD-1.csv', 'osk.csv')\n",
    "\n",
    "Time series data are very common in finance and economics. Date and time systems have their own set of rules and logic, which makes them potentially complicated but powerful. Pandas/python has a very powerful set of tools to handle dates and time. We will work through the basics here. As always, the Internet if full of the details. \n",
    "\n",
    "In this workbook we will cover\n",
    "1. The datetime data type, which is python's representation of a date and time\n",
    "2. Setting up a DataFrame to index with datetime objects\n",
    "3. Changing the frequency of our date, e.g., converting daily data to monthly\n",
    "4. Plotting time series data\n",
    "5. Slicing on dates\n",
    "6. Moving window calculations"
   ]
  },
  {
   "cell_type": "markdown",
   "metadata": {},
   "source": [
    "### The packages"
   ]
  },
  {
   "cell_type": "code",
   "execution_count": null,
   "metadata": {},
   "outputs": [],
   "source": [
    "import pandas as pd               #load the pandas package and call it pd\n",
    "import matplotlib.pyplot as plt   # load the pyplot set of tools from the package matplotlib. Name it plt for short.\n",
    "import datetime as dt             # data types and methods for dealing with dates and time. Name it dt for short.\n",
    "\n",
    "# This following is a jupyter magic command. It tells jupyter to insert the plots into the notebook rather than a new window.\n",
    "%matplotlib inline      "
   ]
  },
  {
   "cell_type": "markdown",
   "metadata": {},
   "source": [
    "### The datetime type\n",
    "Python uses the `datetime` type of object to hold date and time data. This allows for very sophisticated handling of time series data. Most of this is beyond the scope of our work, but if you ever find yourself having to deal with time zones or which week of the month a date lies in, datetime has you covered. \\[Python was developed to do a lot more than data analysis...\\]\n",
    "\n",
    "We will mostly need to create datatime objects to hold dates. We pass datetime objects to methods that need to know about dates. "
   ]
  },
  {
   "cell_type": "code",
   "execution_count": null,
   "metadata": {},
   "outputs": [],
   "source": [
    "time_1 = dt.datetime(1776, 7, 4)  # year, month, date (datetime will add a time code of 00:00:00)\n",
    "print('Declare independence on:', time_1)\n"
   ]
  },
  {
   "cell_type": "markdown",
   "metadata": {},
   "source": [
    "### datetime to str\n",
    "We can convert a datetime object to different string outputs using the `strftime()` method. It takes codes as arguments and you can format the string however you wish. I added a comma. A list of codes is in table 11-3 of McKinney."
   ]
  },
  {
   "cell_type": "code",
   "execution_count": null,
   "metadata": {},
   "outputs": [],
   "source": [
    "print('Declare independence on:', time_1.strftime('%B %d, %Y'))     # I have no idea why month is 'B'"
   ]
  },
  {
   "cell_type": "markdown",
   "metadata": {},
   "source": [
    "### str to datetime\n",
    "\n",
    "We will often read dates in as strings. Converting them datetime objects will be one of our first orders of business. We can convert strings to datetime using the same codes and the `strptime()` method. \n",
    "\n",
    "We pass it the template the date is written in, and it parses the string to create a datetime. It's flexibility let's us handle strange formats."
   ]
  },
  {
   "cell_type": "code",
   "execution_count": null,
   "metadata": {},
   "outputs": [],
   "source": [
    "string_date = '1815/1/8'                                 # What kind of mad man writes dates this way?\n",
    "\n",
    "time_2 = dt.datetime.strptime(string_date, '%Y/%m/%d')\n",
    "print('Battle in New Orleans on:', time_2.strftime('%B %d, %Y'))"
   ]
  },
  {
   "cell_type": "markdown",
   "metadata": {},
   "source": [
    "We might need some more datetime functionality, but that should be enough for now. "
   ]
  },
  {
   "cell_type": "markdown",
   "metadata": {},
   "source": [
    "### The data\n",
    "The file 'VIXCLSD.csv' contains daily end-of-trading values of the '[VIX](https://finance.yahoo.com/quote/%5EVIX/),' a measure of expected market volatility as implied by S&P 500 options. Business-news types like to refer to it as the 'fear index'. \\[That's a bit too dramatic for my tastes, but  those guys have ads to sell.\\] The idea is that expected volatility rises when people are worried about the future.  "
   ]
  },
  {
   "cell_type": "code",
   "execution_count": null,
   "metadata": {},
   "outputs": [],
   "source": [
    "vix = pd.read_csv('VIXCLSD-1.csv', na_values='.')   # There are some missing values marked as '.'\n",
    "print(vix.head())\n",
    "print('\\n', vix.tail())"
   ]
  },
  {
   "cell_type": "markdown",
   "metadata": {},
   "source": [
    "The data look about like I would expect. "
   ]
  },
  {
   "cell_type": "code",
   "execution_count": null,
   "metadata": {},
   "outputs": [],
   "source": [
    "print(vix.dtypes)"
   ]
  },
  {
   "cell_type": "markdown",
   "metadata": {},
   "source": [
    "What kind of variables do we have? The 'DATE' variable is stored as string right now. \n",
    "\n",
    "We use the `to_datetime()` method of **pandas** to convert it to a datetime object.  \n",
    "\n",
    "Let's start by converting the dates and saving them to a new variable so that we can inspect it. \n",
    "\n"
   ]
  },
  {
   "cell_type": "code",
   "execution_count": null,
   "metadata": {},
   "outputs": [],
   "source": [
    "date_objs = pd.to_datetime(vix['DATE'])\n",
    "print(type(date_objs))\n",
    "print(date_objs.dtypes)\n"
   ]
  },
  {
   "cell_type": "markdown",
   "metadata": {},
   "source": [
    "So the `to_datetime()` conversion creates `datetime64[ns]` objects.  Now let's convert the 'DATE' column to  datetime objects and save it in the DataFrame.\n",
    "\n",
    "We pass `yearfirst=True` to tell `to_datetime()` that the strings have the year first. "
   ]
  },
  {
   "cell_type": "code",
   "execution_count": null,
   "metadata": {},
   "outputs": [],
   "source": [
    "vix['DATE'] = pd.to_datetime(vix['DATE'], yearfirst=True)  # Convert date strings to date time\n",
    "\n",
    "print( vix.dtypes )\n",
    "print('\\n', vix.head())"
   ]
  },
  {
   "cell_type": "markdown",
   "metadata": {},
   "source": [
    "### A datetime in the index\n",
    "\n",
    "It makes sense to set the index as the unit of observation. In this data, the unit of observation is a time period --- a day. \n",
    "\n",
    "There is nothing special here. We set the index as we normally do."
   ]
  },
  {
   "cell_type": "code",
   "execution_count": null,
   "metadata": {},
   "outputs": [],
   "source": [
    "vix_di = vix.set_index('DATE')\n",
    "\n",
    "print(vix_di.index)\n",
    "print('\\n', vix.head())"
   ]
  },
  {
   "cell_type": "markdown",
   "metadata": {},
   "source": [
    "Notice that the index object is now a `DatetimeIndex` object. Now that pandas knows the index is a datetime, it can handle time calculations easily. "
   ]
  },
  {
   "cell_type": "markdown",
   "metadata": {},
   "source": [
    "### Changing the frequency\n",
    "We can *resample* the data to change its frequency. \n",
    "\n",
    "We are *downsampling* data if we are reducing the number of observations (daily$\\rightarrow$monthly) and we are *upsampling* the data if we are increasing the number of observations (monthly$\\rightarrow$daily). In my work, I have downsampled a lot. I do not think I have ever upsampled. \n",
    "\n",
    "When we downsample, we need to tell pandas how we want the data aggregated: for example, we might want it summed, or averaged. \n",
    "\n",
    "Let's resample to the weekly frequency and take the average over the observations within a week."
   ]
  },
  {
   "cell_type": "code",
   "execution_count": null,
   "metadata": {},
   "outputs": [],
   "source": [
    "vix_w = vix_di.resample('w').mean()\n",
    "\n",
    "print(vix_w.index)\n",
    "print('\\n', vix_w.head())\n"
   ]
  },
  {
   "cell_type": "markdown",
   "metadata": {},
   "source": [
    "We had 7,768 daily observations. Now we have 1554 weekly observations.  Note the weeks are Sunday-based (`W-SUN`). Let's downsample some more. "
   ]
  },
  {
   "cell_type": "code",
   "execution_count": null,
   "metadata": {},
   "outputs": [],
   "source": [
    "vix_m = vix_di.resample('m').mean()   # monthly\n",
    "vix_y = vix_di.resample('y').mean()   # yearly\n",
    "\n",
    "vix_y.head()"
   ]
  },
  {
   "cell_type": "markdown",
   "metadata": {},
   "source": [
    "### Plotting\n",
    "Now that we have our index set as datetime objects, we can plot the data in sensible ways. In particular, matplotlib can gracefully handle  data at different frequencies."
   ]
  },
  {
   "cell_type": "code",
   "execution_count": null,
   "metadata": {},
   "outputs": [],
   "source": [
    "fig, ax = plt.subplots(figsize=(10,5))\n",
    "\n",
    "ax.plot(vix_m.index, vix_m['VIXCLS'], color = 'red', label = 'monthly average')\n",
    "ax.plot(vix_y.index, vix_y['VIXCLS'], color = 'blue', label = 'yearly average')\n",
    "\n",
    "ax.set_title('CBOE Volatility Index: VIX')\n",
    "ax.spines['top'].set_visible(False)\n",
    "ax.spines['right'].set_visible(False)\n",
    "\n",
    "ax.legend(frameon=False)\n",
    "\n",
    "plt.show()"
   ]
  },
  {
   "cell_type": "markdown",
   "metadata": {},
   "source": [
    "\\[You may have received a warning about 'implicitly registered datetime converter...'  It is okay to ignore it. If you run the cell again, the warning will actually go away. \\]"
   ]
  },
  {
   "cell_type": "markdown",
   "metadata": {},
   "source": [
    "If we zoom in tight enough, the time axis will relabel in a natural way to reflect the changed time scale. When we refer to coordinates in a time series figure, we pass the x-coordinates as a datetime object. Below, we use datetimes to limit the x-axis and to make some annotations. "
   ]
  },
  {
   "cell_type": "code",
   "execution_count": null,
   "metadata": {},
   "outputs": [],
   "source": [
    "# Any place we need to reference the x axis we use a datetime object.\n",
    "\n",
    "fig, ax = plt.subplots(figsize=(10,5))\n",
    "\n",
    "ax.plot(vix_di.index, vix_di['VIXCLS'], color = 'red', label = 'daily close')\n",
    "\n",
    "# Change the x-axis limits\n",
    "ax.set_xlim( dt.datetime(2008,1,1), dt.datetime(2010, 12, 31) ) # The limits need datetime objects\n",
    "\n",
    "\n",
    "# Add some annotations. The x-coordinate needs to be a datetime object\n",
    "ax.annotate('Lehman Collapse', xy=(dt.datetime(2008,9,15), 70), xytext=(dt.datetime(2008,2,1), 70), \n",
    "            arrowprops={'facecolor':'black',  'arrowstyle':'->'}) \n",
    "\n",
    "ax.annotate('Greek Debt Crisis', xy=(dt.datetime(2010,5,1), 40), xytext=(dt.datetime(2009,8,1), 40), \n",
    "            arrowprops={'facecolor':'black',  'arrowstyle':'->'})\n",
    "\n",
    "ax.set_title('CBOE Volatility Index: VIX')\n",
    "ax.spines['top'].set_visible(False)\n",
    "ax.spines['right'].set_visible(False)\n",
    "\n",
    "ax.legend(frameon=False)\n",
    "\n",
    "plt.show()"
   ]
  },
  {
   "cell_type": "markdown",
   "metadata": {},
   "source": [
    "### Practice: Dates\n",
    "Take a few minutes and try the following. Feel free to chat with those around if you get stuck. \n",
    "\n",
    "1. Read the file 'osk.csv' into a DataFrame. The file contains daily closing prices for OshKosh Corp. and the S&P500. \n",
    "2. Set the index to the date. Make sure the dates are datetime objects!\n"
   ]
  },
  {
   "cell_type": "code",
   "execution_count": null,
   "metadata": {},
   "outputs": [],
   "source": []
  },
  {
   "cell_type": "markdown",
   "metadata": {},
   "source": [
    "3. Normalize each series by dividing every observation by the value at 01-02-2018. Try \n",
    "```python\n",
    "prices['osk_n'] = prices['osk'] / prices.loc['2018-01-02,','osk']\n",
    "```\n",
    "and something similar to the S&P500."
   ]
  },
  {
   "cell_type": "code",
   "execution_count": null,
   "metadata": {},
   "outputs": [],
   "source": []
  },
  {
   "cell_type": "markdown",
   "metadata": {},
   "source": [
    "4. Plot the two normalized series"
   ]
  },
  {
   "cell_type": "code",
   "execution_count": null,
   "metadata": {},
   "outputs": [],
   "source": []
  },
  {
   "cell_type": "markdown",
   "metadata": {},
   "source": [
    "5. Resample the data to a weekly frequency creating average weekly prices. (I would recommend creating a new DataFrame)\n",
    "6. Create new indexes, normalizing by the first week of the year.\n",
    "7. Add the weekly data to your figure from part 4. Use the alpha parameter to lighten up the daily data lines. \n",
    "8. How does your plot look? Are the titles correct? Is there a legend or some other way of identifying the lines?"
   ]
  },
  {
   "cell_type": "code",
   "execution_count": null,
   "metadata": {},
   "outputs": [],
   "source": []
  },
  {
   "cell_type": "markdown",
   "metadata": {},
   "source": [
    "### Slicing with dates\n",
    "An alternative way to 'zoom in' on the data is to plot a slice of the DataFrame. With an index of datetime, this is surprisingly easy. \n"
   ]
  },
  {
   "cell_type": "code",
   "execution_count": null,
   "metadata": {},
   "outputs": [],
   "source": [
    "# Two ways to take a subset (in this case one observation) from a dataframe with a datetime index\n",
    "\n",
    "# Option 1: create a datetime and pass it\n",
    "date_to_extract = dt.datetime(2008, 6, 18)  # create a datetime with the day I want\n",
    "print('The vix on', date_to_extract.strftime('%B %d, %Y'), 'is', vix_di.loc[date_to_extract, 'VIXCLS'] )   # extract with with loc[], like usual\n",
    "\n",
    "# Option 2: Query directly with a string\n",
    "print('The vix on June 18, 2008 is', vix_di.loc['2008-06-18', 'VIXCLS'])\n"
   ]
  },
  {
   "cell_type": "markdown",
   "metadata": {},
   "source": [
    "We can slice, too:\n",
    "1. We can grab every observation with a year of 2008 with '2008'.\n",
    "2. We can grab every observation between Jan 1, 2008 and Jan 31, 2008 by slicing with '2008/01/01':'2008/01/31'. Python is smart enough to understand references to dates that are not in the DataFrame. There is no January 1 or January 31 observation."
   ]
  },
  {
   "cell_type": "code",
   "execution_count": null,
   "metadata": {},
   "outputs": [],
   "source": [
    "print('Every week in 2008:', vix_w.loc['2008'])  # all the weeks in 2008\n",
    "print('\\nEvery week in Jan 2008:', vix_w.loc['2008/01/01':'2008/01/31']) # all the weeks in January 2008"
   ]
  },
  {
   "cell_type": "markdown",
   "metadata": {},
   "source": [
    "### Rolling window calculations\n",
    "The `rolling()` method of DataFrame allows methods like `mean()` and `var()` to be calculated over a rolling window of the data.  We often use moving averages to extract trends from noisy data. \n",
    "\n",
    "Calling \n",
    "```python\n",
    "vix_di['VIXCLS'].rolling(60)\n",
    "```\n",
    "generates a Series of rolling observations. In this case, I am asking for a 60-day window. We can directly call a method like `mean()` or `var()` to compute rolling calculations. \n",
    "```python\n",
    "vix_di['VIXCLS'].rolling(60).mean()\n",
    "```\n",
    "Notice in the code below that I have to strip out the missing values using `dropna()`. Otherwise, `rolling()` will only work on the complete 60-day windows.\n",
    "\n"
   ]
  },
  {
   "cell_type": "code",
   "execution_count": null,
   "metadata": {},
   "outputs": [],
   "source": [
    "# Drop missing observations and create the moving average\n",
    "vix_di['vix_ma'] = vix_di['VIXCLS'].dropna().rolling(60).mean()                             \n",
    "\n",
    "\n",
    "# Plot it\n",
    "fig, ax = plt.subplots(figsize=(10,5))\n",
    "\n",
    "ax.plot(vix_di.index, vix_di['VIXCLS'], color = 'red', label = 'daily close', alpha=0.25)\n",
    "ax.plot(vix_di.index, vix_di['vix_ma'], color = 'blue', label = '60-day moving average')\n",
    "\n",
    "ax.set_title('CBOE Volatility Index: VIX')\n",
    "ax.spines['top'].set_visible(False)\n",
    "ax.spines['right'].set_visible(False)\n",
    "ax.legend(frameon=False)\n",
    "\n",
    "plt.show()"
   ]
  },
  {
   "cell_type": "markdown",
   "metadata": {},
   "source": [
    "### Practice: Dates\n",
    "Take a few minutes and try the following. Feel free to chat with those around if you get stuck. \n",
    "\n",
    "1. Compute and plot the 30-day rolling standard deviation of the Osh Kosh and S&P 500 normalized daily prices. These data are already in the `prices` DataFrame. The variables are named 'osk_n' and 'sp500_n'. \n"
   ]
  },
  {
   "cell_type": "code",
   "execution_count": null,
   "metadata": {},
   "outputs": [],
   "source": []
  },
  {
   "cell_type": "markdown",
   "metadata": {},
   "source": [
    "2. Plot only the two standard deviation series again, but only for the first half of the year (Jan 2018 through June 2018). Use a slice on the index to do it. "
   ]
  },
  {
   "cell_type": "code",
   "execution_count": null,
   "metadata": {},
   "outputs": [],
   "source": []
  }
 ],
 "metadata": {
  "celltoolbar": "Attachments",
  "kernelspec": {
   "display_name": "Python 3",
   "language": "python",
   "name": "python3"
  },
  "language_info": {
   "codemirror_mode": {
    "name": "ipython",
    "version": 3
   },
   "file_extension": ".py",
   "mimetype": "text/x-python",
   "name": "python",
   "nbconvert_exporter": "python",
   "pygments_lexer": "ipython3",
   "version": "3.7.3"
  }
 },
 "nbformat": 4,
 "nbformat_minor": 2
}
