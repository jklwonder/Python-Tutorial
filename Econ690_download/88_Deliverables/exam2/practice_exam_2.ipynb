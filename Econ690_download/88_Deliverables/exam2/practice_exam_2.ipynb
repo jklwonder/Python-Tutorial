{
 "cells": [
  {
   "cell_type": "markdown",
   "metadata": {},
   "source": [
    "# Exam 2\n",
    "\n",
    "files needed = ('dogs.csv', 'CPIAUCSL.csv', 'data1.PNG', 'teams.csv', 'players.csv')\n",
    "\n",
    "Answer all the questions below in this notebook. You should insert as many cells into the notebook as you need. When you are finished, upload your finished notebook to Canvas. \n",
    "\n",
    "You may use your notes and the Internet, but you cannot work with others in class.  Remember, jupyter notebooks and python have lots of built in help facilities. \n",
    "\n",
    "The best way to use this practice exam is to first study, and then take the exam as you would in class --- with a 1:15 time cap. When you are finished, I would appreciate it if you took the quick two-question survey to give me your thoughts. [Survey link](https://forms.gle/icLs8vEGRSAGhh2K9)    "
   ]
  },
  {
   "cell_type": "markdown",
   "metadata": {},
   "source": [
    "## Question 0\n",
    "\n",
    "1. Create a DataFrame named `time` from the dict below\n",
    "\n",
    "```python \n",
    "data_dict = {'t': ['10-01-2019', '10-02-2019', '10-03-2019'], 'a':[100, 500, 800, ]}\n",
    "```\n",
    "\n",
    "2. Set the variable `t` as the index of `time`. The index should be a DatetimeIndex. \n",
    "\n",
    "3. Print out `time`"
   ]
  },
  {
   "cell_type": "markdown",
   "metadata": {},
   "source": [
    "3. Confirm that the index is a DatetimeIndex. Print out the index type."
   ]
  },
  {
   "cell_type": "markdown",
   "metadata": {},
   "source": [
    "## Question 1"
   ]
  },
  {
   "cell_type": "markdown",
   "metadata": {},
   "source": [
    "1. Create a Data Frame from 'dogs.csv'. Name it `dogs`."
   ]
  },
  {
   "cell_type": "markdown",
   "metadata": {},
   "source": [
    "2. The variables gender and type are coded as integers. Recode them as strings.\n",
    "\n",
    "   * gender: 0 = male, 1 = female\n",
    "   * type: 1 = pug, 2 = beagle, 3 = poodle, 5 = samoyed, 7 = vizsla\n"
   ]
  },
  {
   "cell_type": "markdown",
   "metadata": {},
   "source": [
    "3. The weights are listed in pounds. Convert them to kilograms and save them to a variable named 'weight_kgs'. One pound is 0.45 kilograms.\n",
    "\n",
    "4. Sort by type and gender. Print out the DataFrame."
   ]
  },
  {
   "cell_type": "markdown",
   "metadata": {},
   "source": [
    "## Question 2\n",
    "\n",
    "1. Load the file 'CPIAUCSL.csv' into a DataFrame named `cpi`.\n",
    "2. Set the index to the date\n",
    "3. Compute the inflation rate, the growth rate of 'CPIAUCSL'. Make sure it is expressed in percentage terms. Save the growth rate in a variable named `inf`.  \n",
    "4. Print out the first 3 rows of `cpi`."
   ]
  },
  {
   "cell_type": "markdown",
   "metadata": {},
   "source": [
    "5. Create a line plot of the `inf` variable\n",
    "    1. Plot only the data from 1/1/2000 to 1/10/2019\n",
    "    2. Make the data markers stars\n",
    "    3. Make the line width equal to 3\n",
    "    2. Make the line and the data markers black\n",
    "    4. Set the y-axis label to 'percent growth rate' with font size 16\n",
    "    5. Change the axis tick labels on both axes to have font size 16\n",
    "    6. Title the figure 'U.S. inflation' with font size 25"
   ]
  },
  {
   "cell_type": "markdown",
   "metadata": {},
   "source": [
    "## Question 3\n",
    "\n",
    "1. Create a DataFrame from the `state_data` dict below. \n",
    "2. Insert a markdown cell, give it a level-3 heading of 'Answer to 3.2', and answer the following question: \"Are the data long or wide?\"\n",
    "\n",
    "```python\n",
    "state_data = {'state':['CA','MI','WI','MN'], \n",
    "              'pop':[37,9.8,5.7, 5.3], \n",
    "              'size':[163.7, 96.7, 65.5, 86.9], \n",
    "              'state bird':['Quail', 'Redbreast Robin', 'American Robin', 'Loon'],\n",
    "              'gsp':[3018337, 537087,  342470, 374920],\n",
    "              'great':['no', 'yes', 'yes', 'yes'] \n",
    "             }\n",
    "```"
   ]
  },
  {
   "cell_type": "markdown",
   "metadata": {},
   "source": [
    "3. Arrange the data so that it is a series object with 'state' as the outer row index and the variable names as the inner index. There should be a single column of data. Use any methods you prefer.\n",
    "\n",
    "4. Sort the index. \n",
    "\n",
    "Your data should look like\n",
    "\n",
    "![alt](data1.PNG)"
   ]
  },
  {
   "cell_type": "markdown",
   "metadata": {},
   "source": [
    "5. Print out your DataFrame"
   ]
  },
  {
   "cell_type": "markdown",
   "metadata": {},
   "source": [
    "## Question 4\n",
    "\n",
    "1. Load 'teams.csv' into a DataFrame named `teams`. The file contains data about four BIG10 schools. \n",
    "2. Load 'players.csv' into a DataFrame named `players`. The file contains data about football players at four BIG10 schools. "
   ]
  },
  {
   "cell_type": "markdown",
   "metadata": {},
   "source": [
    "3. Merge the two DataFrames. The new DataFrame should contain all the players that are in the players dataset, matched to their team information.  Name the new DataFrame `data`. "
   ]
  },
  {
   "cell_type": "markdown",
   "metadata": {},
   "source": [
    "4. Make the index of `data` team and name.  \n",
    "5. Print out the number of rows in `data`. "
   ]
  },
  {
   "cell_type": "markdown",
   "metadata": {},
   "source": [
    "6. Sort the index. \n",
    "7. Print out the rosters for Minnesota (umn) and Wisconsin (wis). "
   ]
  },
  {
   "cell_type": "markdown",
   "metadata": {},
   "source": [
    "### You are finished!\n",
    "Upload your completed notebook to Canvas. \n",
    "\n",
    "\\[Well, not this one, because it is a practice. You could take the [survey](https://forms.gle/icLs8vEGRSAGhh2K9), though, to let me know how it went.\\]"
   ]
  }
 ],
 "metadata": {
  "celltoolbar": "Attachments",
  "kernelspec": {
   "display_name": "Python 3",
   "language": "python",
   "name": "python3"
  },
  "language_info": {
   "codemirror_mode": {
    "name": "ipython",
    "version": 3
   },
   "file_extension": ".py",
   "mimetype": "text/x-python",
   "name": "python",
   "nbconvert_exporter": "python",
   "pygments_lexer": "ipython3",
   "version": "3.7.3"
  }
 },
 "nbformat": 4,
 "nbformat_minor": 2
}
