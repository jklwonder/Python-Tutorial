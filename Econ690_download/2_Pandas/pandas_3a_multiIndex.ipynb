{
 "cells": [
  {
   "cell_type": "markdown",
   "metadata": {},
   "source": [
    "# Multidimensional data in pandas\n",
    "\n",
    "Files needed = ('dogs.csv', 'CPS_March_2016.csv')\n",
    "\n",
    "We have covered some pandas basics and learned how to plot. Now let's sort out how to deal with more complex data. We will often find ourselves with data in which the unit of observation is complex. Pandas helps us deal with this by allowing for many index variables. So far, we have only used single indexing, but that is about to change. \n",
    "\n",
    "Some examples that could use a multiIndex\n",
    "1. State and country\n",
    "2. Team and player\n",
    "3. Industry and firm\n",
    "4. Country (or person, firm,...) and time\n",
    "\n",
    "That last one is important, and one that shows up a lot in economics. We call is *panel data*. Panel data is sometimes called longitudinal data. It follows the same firm/person/country over time. "
   ]
  },
  {
   "cell_type": "code",
   "execution_count": null,
   "metadata": {},
   "outputs": [],
   "source": [
    "import pandas as pd                 # load pandas and shorten it to pd\n",
    "import datetime as dt               # load datetime and shorten it to dt\n",
    "import matplotlib.pyplot as plt     # for making figures"
   ]
  },
  {
   "cell_type": "code",
   "execution_count": null,
   "metadata": {},
   "outputs": [],
   "source": [
    "soccer = {'team' : ['Man City', 'Man City', 'Man City', 'Man City', 'Chelsea', 'Chelsea'], \n",
    "          'player' : ['Walker', 'Stones', 'Foden', 'Jesus', 'Cahill', 'Pedro'],\n",
    "          'pos' : ['D', 'D', 'M', 'F', 'D', 'F'],\n",
    "          'goals' : [1, 0, 0, 1, 0, 3],\n",
    "          'assists': [0,0,0,0,0,0]\n",
    "         }\n",
    "\n",
    "prem = pd.DataFrame(soccer)\n",
    "prem"
   ]
  },
  {
   "cell_type": "markdown",
   "metadata": {},
   "source": [
    "### Multiple indexing\n",
    "The key to working with more complex datasets is getting the index right. So far, we have considered a single index, but pandas allows for multiple indexes that nest each other. \n",
    "\n",
    "**Key concept:** Hierarchical indexing takes multiple *levels* of indexes. \n",
    "\n",
    "Let's set up the DataFrame to take team and position as the indexes. "
   ]
  },
  {
   "cell_type": "code",
   "execution_count": null,
   "metadata": {},
   "outputs": [],
   "source": [
    "prem.set_index(['team', 'pos'], inplace=True)\n",
    "prem"
   ]
  },
  {
   "cell_type": "markdown",
   "metadata": {},
   "source": [
    "Wow. \n",
    "\n",
    "Notice that the `set_index()` method is the same one we used earlier with single indexes. In this case, we passed it a list of variables to make the indexes\n",
    "```python\n",
    "prem.set_index(['team', 'pos'], inplace=True)\n",
    "```\n",
    "\n",
    "In the output, the highest level of the index is team (we passed it 'team' first in the list) and the second level is position. The output does not repeat the team name for each observation. The 'missing' team name just means that the team is the same as above. \\[A very Tufte-esque removal of unnecessary ink.\\] \n",
    "\n",
    "Let's take a look under the hood. What's our index? A new kind of object: the MultiIndex"
   ]
  },
  {
   "cell_type": "code",
   "execution_count": null,
   "metadata": {},
   "outputs": [],
   "source": [
    "print(prem.index)"
   ]
  },
  {
   "cell_type": "markdown",
   "metadata": {},
   "source": [
    "### Subsetting with multiple indexes\n",
    "With a multi index, we need two arguments to reference observations. Notice that I am using a **tuple** to pass the two values of the multiIndex."
   ]
  },
  {
   "cell_type": "code",
   "execution_count": null,
   "metadata": {},
   "outputs": [],
   "source": [
    "# All the defenders on Man City\n",
    "prem.loc[('Man City', 'D'),:] "
   ]
  },
  {
   "cell_type": "markdown",
   "metadata": {},
   "source": [
    "It's always a good idea to pay attention to warnings, particularly 'PerformanceWarning'. Pandas is telling us that we are asking for something in the second index, but the second index is not ordered. If the index was big, this could slow down our program. Let's fix that with `sort_index()`.\n",
    "\n",
    "**Important** Sort your mulitIndex. "
   ]
  },
  {
   "cell_type": "code",
   "execution_count": null,
   "metadata": {},
   "outputs": [],
   "source": [
    "prem = prem.sort_index(axis=0)   # tell pandas which axis to sort. Could sort the columns, too...\n",
    "                                 # returns a DataFrame unless we use inplace=True\n",
    "prem"
   ]
  },
  {
   "cell_type": "code",
   "execution_count": null,
   "metadata": {},
   "outputs": [],
   "source": [
    "# Now let's ask for all the defenders on Man City\n",
    "prem.loc[('Man City', 'D'), :]"
   ]
  },
  {
   "cell_type": "markdown",
   "metadata": {},
   "source": [
    "No warnings. "
   ]
  },
  {
   "cell_type": "markdown",
   "metadata": {},
   "source": [
    "### Partial indexing\n",
    "With the indexes set, we can easily subset the data using only one of the indexes. In pandas, this is called *partial indexing* because we are only using part of the index to subset identify the data we want. \n",
    "\n",
    "We can use `loc[]` like we do with a single index if we want to index on the top level index."
   ]
  },
  {
   "cell_type": "code",
   "execution_count": null,
   "metadata": {},
   "outputs": [],
   "source": [
    "print('All the Chelsea players:')\n",
    "print(prem.loc['Chelsea',:])               # All the 'Chelsea' observations\n",
    "\n",
    "print('\\n\\nAll the Man City players:')\n",
    "print(prem.loc['Man City',:])              # All the 'Man City' observations"
   ]
  },
  {
   "cell_type": "markdown",
   "metadata": {},
   "source": [
    "Note that this kind of notation does not work if we want to index on the second index. Suppose we wanted all the defense, regardless of team. It seems like this should work:\n",
    "\n",
    "```python\n",
    "prem.loc[:,'D']\n",
    "```\n",
    "\n",
    "...but it does not.  That brings us to our next way to query a multiIndex. "
   ]
  },
  {
   "cell_type": "markdown",
   "metadata": {},
   "source": [
    "#### The xs( ) method\n",
    "We can also use the `xs()` method of DataFrame. Here we specify which level we are looking into. Note that I can reference the levels either by an integer or by its name."
   ]
  },
  {
   "cell_type": "code",
   "execution_count": null,
   "metadata": {},
   "outputs": [],
   "source": [
    "print(prem.xs('Chelsea', level = 0) )              # All the 'Chelsea' observations\n",
    "print('\\n')\n",
    "print(prem.xs('Man City', level = 'team'))              # All the 'Man City' observations"
   ]
  },
  {
   "cell_type": "markdown",
   "metadata": {},
   "source": [
    "This pretty works the same way that `loc[]` worked for the outer index.  \n",
    "\n",
    "With `xs()`, we can partially index on the 'inner index' as well. Suppose we want all the defenders, regardless of team."
   ]
  },
  {
   "cell_type": "code",
   "execution_count": null,
   "metadata": {},
   "outputs": [],
   "source": [
    "prem.xs('D', level=1)"
   ]
  },
  {
   "cell_type": "markdown",
   "metadata": {},
   "source": [
    "As with a single index, we can get rid of the index and replace it with a generic list of integers. This adds the index levels back into the DataFrame as columns. "
   ]
  },
  {
   "cell_type": "code",
   "execution_count": null,
   "metadata": {},
   "outputs": [],
   "source": [
    "prem.reset_index(inplace=True)    # this moves the indexes back to columns\n",
    "prem"
   ]
  },
  {
   "cell_type": "markdown",
   "metadata": {},
   "source": [
    "Who says we two indexes are enough...let's try three levels of indexes!"
   ]
  },
  {
   "cell_type": "code",
   "execution_count": null,
   "metadata": {},
   "outputs": [],
   "source": [
    "prem.set_index(['team', 'player', 'pos'], inplace=True)\n",
    "prem"
   ]
  },
  {
   "cell_type": "markdown",
   "metadata": {},
   "source": [
    "#### A multiIndex in columns\n",
    "There is nothing that says you can't have multiple indexes in the `axis=1` dimension. Here is quick way to see this: transpose the DataFrame."
   ]
  },
  {
   "cell_type": "code",
   "execution_count": null,
   "metadata": {},
   "outputs": [],
   "source": [
    "prem = prem.transpose()           # this swaps the rows for columns\n",
    "print(prem)                       # print() lines up the columns well\n",
    "prem"
   ]
  },
  {
   "cell_type": "markdown",
   "metadata": {},
   "source": [
    "Now the rows are named 'goals' and 'assists' and the columns are ('team', 'player', 'pos'). I'm not sure this is a very useful way to look at this particular dataset, but multiIndex columns can come in handy. \\[Transpose is handy, too.\\] Let's change it back."
   ]
  },
  {
   "cell_type": "code",
   "execution_count": null,
   "metadata": {},
   "outputs": [],
   "source": [
    "prem = prem.transpose()\n",
    "prem"
   ]
  },
  {
   "cell_type": "markdown",
   "metadata": {},
   "source": [
    "### Summary statistics by level\n",
    "MultiIndexes provide a quick way to summarize data. We will see many different ways to do this --- getting statistics by groups --- and not all will involve a multiIndex. "
   ]
  },
  {
   "cell_type": "code",
   "execution_count": null,
   "metadata": {},
   "outputs": [],
   "source": [
    "# When subsetting by the upppermost level, I can use xs or loc\n",
    "\n",
    "print('Chelsea avg. goals', prem.xs('Chelsea', level='team')['goals'].mean())   # average goals for Chelsea players\n",
    "print('Chelsea avg. goals', prem.loc['Chelsea','goals'].mean())   # average goals for Chelsea players\n",
    "\n",
    "# When subsetting on the inner levels, I use xs \n",
    "print('Defender avg. goals {0:.2f}.'.format( prem.xs('D', level='pos')['goals'].mean() ) )          # average goals for defenders"
   ]
  },
  {
   "cell_type": "markdown",
   "metadata": {},
   "source": [
    "\\[Did something go wrong? Go back and fix it up!\\]\n",
    "\n",
    "Notice the syntax with xs.\n",
    "```python\n",
    " prem.xs('Chelsea', level='team')['goals']\n",
    "```\n",
    "\n",
    "The `prem.xs('Chelsea', level='team')` is returning a DataFrame with all the columns. \\[Try it!\\]\n",
    "\n",
    "We then use the usual square-bracket syntax to pick off just the column 'goals' and then hit with `mean()`\n"
   ]
  },
  {
   "cell_type": "markdown",
   "metadata": {},
   "source": [
    "### Saving multiIndex DataFrames\n",
    "\n",
    "Saving a multiIndexed DataFrame works like before. Pandas fills in all the repeated labels, so the output is ready to go. Run the following code and then open the csv files."
   ]
  },
  {
   "cell_type": "code",
   "execution_count": null,
   "metadata": {},
   "outputs": [],
   "source": [
    "# Multiple indexes on rows\n",
    "prem.to_csv('prem.csv')\n",
    "\n",
    "# Multiple indexes on columns\n",
    "prem = prem.transpose()\n",
    "prem.to_csv('prem_transposed.csv')"
   ]
  },
  {
   "cell_type": "markdown",
   "metadata": {},
   "source": [
    "## Practice\n",
    "\n",
    "Let's take data from the [Current Population Survey](https://www.census.gov/programs-surveys/cps.html), which surveys about 60,000 households each month. We will compute some average wages. We will need to clean up a bit, then work with a multiIndex. Think of this as a mini-project.\n",
    "\n",
    "1. Load the march cps data, 'CPS_March_2016.csv'.  Note: the missing values are '.'"
   ]
  },
  {
   "cell_type": "markdown",
   "metadata": {},
   "source": [
    "2. Keep only those with `fulltimely == 1`\n",
    "3. Keep only those with `5 <= hrwage <= 200`"
   ]
  },
  {
   "cell_type": "markdown",
   "metadata": {},
   "source": [
    "4. Rename 'female' to 'gender'\n",
    "5. In column 'gender' replace 0 with 'male' and 1 with 'female'"
   ]
  },
  {
   "cell_type": "markdown",
   "metadata": {},
   "source": [
    "6. Set the index to 'gender' and 'educ', in that order.\n",
    "7. Sort the index. "
   ]
  },
  {
   "cell_type": "markdown",
   "metadata": {},
   "source": [
    "8. Report the average wage for males and females. Try it with the `loc[]` method. "
   ]
  },
  {
   "cell_type": "markdown",
   "metadata": {},
   "source": [
    "9. Report the average wage for `HS diploma/GED` and for `College degree`, regardless of gender. Use the `xs()` method.  "
   ]
  }
 ],
 "metadata": {
  "celltoolbar": "Attachments",
  "kernelspec": {
   "display_name": "Python 3",
   "language": "python",
   "name": "python3"
  },
  "language_info": {
   "codemirror_mode": {
    "name": "ipython",
    "version": 3
   },
   "file_extension": ".py",
   "mimetype": "text/x-python",
   "name": "python",
   "nbconvert_exporter": "python",
   "pygments_lexer": "ipython3",
   "version": "3.7.3"
  }
 },
 "nbformat": 4,
 "nbformat_minor": 2
}
