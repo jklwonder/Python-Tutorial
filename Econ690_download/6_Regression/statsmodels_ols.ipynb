{
 "cells": [
  {
   "cell_type": "markdown",
   "metadata": {},
   "source": [
    "# Linear regression\n",
    "\n",
    "files needed = ('sleep75.dta', 'wage1.dta')\n",
    "\n",
    "This notebook introduces us to the statsmodels package [(docs)](https://devdocs.io/statsmodels/), which provides functions for formulating and estimating statistical models. This notebook will not address the models, per se, but will focus on how to put econometrics to work in python.\n",
    "\n",
    "Many of you have used STATA before. STATA is a great package for econometrics. Python can do most of what STATA can do, but STATA will have more specialized routines available. As python's popularity grows the kinds of models you can estimate in grows, too.    \n",
    "\n",
    "If STATA is your thing, this [page](http://rlhick.people.wm.edu/posts/comparing-stata-and-ipython-commands-for-ols-models.html) on Rob Hicks' website is a nice STATA to python concordance.  "
   ]
  },
  {
   "cell_type": "code",
   "execution_count": null,
   "metadata": {},
   "outputs": [],
   "source": [
    "import pandas as pd                    # for data handling\n",
    "import numpy as np                     # for numerical methods and data structures\n",
    "import matplotlib.pyplot as plt        # for plotting\n",
    "\n",
    "\n",
    "# The new packages...\n",
    "import patsy                           # provides a syntax for specifying models  \n",
    "import statsmodels.api as sm           # provides statistical models like ols, gmm, anova, etc...\n",
    "import statsmodels.formula.api as smf  # provides a way to directly spec models from formulas"
   ]
  },
  {
   "cell_type": "markdown",
   "metadata": {},
   "source": [
    "### Reading Stata data files\n",
    "\n",
    "Jeff Wooldridge's econometrics textbooks are an academic staple. Our plan today is to work through some of the problems in the Wooldridge textbook as a way to introduce regression in python. \n",
    "\n",
    "On the plus side, the data that correspond to the Wooldridge problems are available to download and they are **ALREADY CLEANED.** \\[I contemplated adding some junk to the files to make it more interesting...\\]\n",
    "\n",
    "On the minus side, the files are in STATA's .dta format. \n",
    "\n",
    "Lucky for use, pandas has a method that [reads stata files](http://pandas.pydata.org/pandas-docs/stable/generated/pandas.read_stata.html). It also has methods for SQL, SAS, JSON,..."
   ]
  },
  {
   "cell_type": "code",
   "execution_count": null,
   "metadata": {},
   "outputs": [],
   "source": [
    "# Use pandas read_stata method to get the stata formatted data file into a DataFrame.\n",
    "sleep = pd.read_stata('sleep75.dta')\n",
    "\n",
    "# Take a look...so clean!\n",
    "sleep.head()"
   ]
  },
  {
   "cell_type": "code",
   "execution_count": null,
   "metadata": {},
   "outputs": [],
   "source": [
    "sleep.info()"
   ]
  },
  {
   "cell_type": "markdown",
   "metadata": {},
   "source": [
    "### Directly specifying and estimating models with the formula.api\n",
    "\n",
    "The `statsmodels` package provides us with a formulaic syntax for defining models that uses strings. The basic syntax is \n",
    "```\n",
    "y ~ x1 + x2\n",
    "```\n",
    "which describes the model \n",
    "\n",
    "$y = \\beta_0 + \\beta_1x_1 + \\beta_2x_2 + \\epsilon$.\n",
    "\n",
    "Notice that I did not specify the constant. Statsmodels takes care of that automatically.\n",
    "\n",
    "\n",
    "The work flow is:\n",
    "1. Specify the regression: sort out the dependent and independent variables\n",
    "2. Create the model with statsmodel\n",
    "3. Fit the model and obtain results\n",
    "\n",
    "To do this, we use the `statsmodels.formula.api` methods, which we imported as `smf`. "
   ]
  },
  {
   "cell_type": "markdown",
   "metadata": {},
   "source": [
    "## 1. Specify the regression\n",
    "\n",
    "How do hours of sleep vary with working? Do we trade off sleep for work? We control for education and age.\n",
    "\n",
    "$$ sleep = \\beta_0 + \\beta_1 totwrk + \\beta_2 educ + \\beta_3 age + \\epsilon. $$\n",
    "\n",
    "\\[This is in problem 3, chapter 3 or Wooldrigde.\\]"
   ]
  },
  {
   "cell_type": "markdown",
   "metadata": {},
   "source": [
    "## 2. Create the model\n",
    "\n",
    "Using the statsmodel syntax, we have \n",
    "\n",
    "```python\n",
    "sleep ~ totwrk + educ + age\n",
    "```\n",
    "\n",
    "Remember, the constant is automatically added. \n",
    "\n",
    "We use the `.ols()` method of statsmodels. This is the *ordinary least squares* model. "
   ]
  },
  {
   "cell_type": "code",
   "execution_count": null,
   "metadata": {},
   "outputs": [],
   "source": [
    "sleep_model = smf.ols('sleep ~ totwrk + educ + age', data=sleep)\n",
    "type(sleep_model)"
   ]
  },
  {
   "cell_type": "markdown",
   "metadata": {},
   "source": [
    "The model object contains information about the regression model. Things like:\n",
    "\n",
    "* sleep_model.exog_names\n",
    "* sleep_model.endog_names\n",
    "* sleep_model.nobs\n",
    "\n",
    "Check the documentation or try `sleep_model.` and then `TAB`. "
   ]
  },
  {
   "cell_type": "code",
   "execution_count": null,
   "metadata": {},
   "outputs": [],
   "source": [
    "sleep_model.exog_names"
   ]
  },
  {
   "cell_type": "markdown",
   "metadata": {},
   "source": [
    "## 3. Estimate the model\n",
    "\n",
    "Step \\#2 set up the model, but did not estimate the coefficients. To estimate the model, we use the `.fit()` method of the OLS model object. "
   ]
  },
  {
   "cell_type": "code",
   "execution_count": null,
   "metadata": {},
   "outputs": [],
   "source": [
    "results = sleep_model.fit()\n",
    "type(results)"
   ]
  },
  {
   "cell_type": "markdown",
   "metadata": {},
   "source": [
    "Another object! This time, a `RegressionResultsWrapper`. This object hold all the, well, results. Try `results.` and `TAB` again to see what lives in there."
   ]
  },
  {
   "cell_type": "code",
   "execution_count": null,
   "metadata": {},
   "outputs": [],
   "source": [
    "print(results.summary())"
   ]
  },
  {
   "cell_type": "markdown",
   "metadata": {},
   "source": [
    "The more you work, the less you sleep. I feel better already.\n",
    "\n",
    "We can retrieve individual results from the RegressionResultsWrapper object. "
   ]
  },
  {
   "cell_type": "code",
   "execution_count": null,
   "metadata": {},
   "outputs": [],
   "source": [
    "print('The parameters are: \\n', results.params, '\\n')\n",
    "print('The confidence intervals are:\\n', results.conf_int(), '\\n')\n",
    "print('The r-sqared is:', results.rsquared)"
   ]
  },
  {
   "cell_type": "markdown",
   "metadata": {},
   "source": [
    "### Doing it all at once\n",
    "\n",
    "We can chain together the three steps into one line of code. "
   ]
  },
  {
   "cell_type": "code",
   "execution_count": null,
   "metadata": {},
   "outputs": [],
   "source": [
    "res = smf.ols('sleep ~ totwrk + educ + age', data=sleep).fit()\n",
    "print(res.summary())"
   ]
  },
  {
   "cell_type": "markdown",
   "metadata": {},
   "source": [
    "## Transforming data"
   ]
  },
  {
   "cell_type": "markdown",
   "metadata": {},
   "source": [
    "#### logs \n",
    "\n",
    "Logs get used a lot in econometrics. Regressing the log of a variable on the log of another variable means that the estimated coefficient is interpreted as an elasticity. \n",
    "\n",
    "We use the `np.log( )` method directly in the regression specification syntax. Note that we loaded the numpy package above as np. Let's modify our model and use the logarithm of age\n",
    "\n",
    "$$ sleep = \\beta_0 + \\beta_1 totwrk + \\beta_2 educ + \\beta_3 \\log(age)  + \\epsilon. $$\n",
    "\n",
    "The notation is \n",
    "\n",
    "```python\n",
    "sleep ~ totwrk + educ + np.log(age)\n",
    "```\n"
   ]
  },
  {
   "cell_type": "code",
   "execution_count": null,
   "metadata": {},
   "outputs": [],
   "source": [
    "res = smf.ols('sleep ~ totwrk + educ + np.log(age)', data=sleep).fit()\n",
    "print(res.summary())"
   ]
  },
  {
   "cell_type": "markdown",
   "metadata": {},
   "source": [
    "## Practice\n",
    "\n",
    "Take a few minutes and try the following. Feel free to chat with those around you if you get stuck. I am here, too. \n",
    "\n",
    "Wooldridge problem C2 in chapter 6. \n",
    "\n",
    "1. Load wage1.dta\n",
    "2. Scatter plot log(wage) against educ. There is a log-wage variable in the data already, but let's practice transforming data. Create your own log-wage variable. \\[You might use `.apply()` or `.map()`\\]"
   ]
  },
  {
   "cell_type": "markdown",
   "metadata": {},
   "source": [
    "3. Estimate \n",
    "$$ \\log(wage) = \\beta_0 + \\beta_1 educ + \\epsilon$$\n",
    "\n",
    "**Name your results object** `prac_results`. "
   ]
  },
  {
   "cell_type": "markdown",
   "metadata": {},
   "source": [
    "## More Data transformations\n",
    "Statsmodels can handle common (and less common) regression tasks. Here are a few more. You can always check the documentation for more!\n",
    "\n",
    "#### Interacting variables\n",
    "Use `*` to interact two variables. Patsy will also **include the two variables individually**. Let's interact education and age. The model is now\n",
    "\n",
    "$$ sleep = \\beta_0 + \\beta_1 totwrk + \\beta_2 educ + \\beta_3 age + \\beta_4 age\\times educ + \\epsilon. $$\n",
    "\n",
    "which is \n",
    "\n",
    "```python\n",
    "'sleep ~ totwrk + educ*age'\n",
    "```\n",
    "\n",
    "Notice that I did not include education and age separately. "
   ]
  },
  {
   "cell_type": "code",
   "execution_count": null,
   "metadata": {},
   "outputs": [],
   "source": [
    "res = smf.ols('sleep ~ totwrk + educ*age', data=sleep).fit()\n",
    "print(res.summary())"
   ]
  },
  {
   "cell_type": "markdown",
   "metadata": {},
   "source": [
    "#### Fixed effects\n",
    "When I was a kid, we called these dummy variables. Gender is coded {0,1} in the variable 'male'. Stats models uses the syntax `C()` where the `C` is a mnemonic for 'categorical.' "
   ]
  },
  {
   "cell_type": "code",
   "execution_count": null,
   "metadata": {},
   "outputs": [],
   "source": [
    "# Take a peek at 'male'. It's zeros and ones. \n",
    "sleep['male'].head()"
   ]
  },
  {
   "cell_type": "markdown",
   "metadata": {},
   "source": [
    "By adding a fixed effect for gender, the model is \n",
    "\n",
    "$$ sleep = \\beta_0 + \\beta_1 totwrk + \\beta_2 educ + \\beta_3 age + \\beta_4 I(\\text{male}=1) + \\epsilon. $$\n",
    "\n",
    "where $I(\\text{male}=1)$ is an indicator function that is equal to one if 'male' is equal to one. The model syntax is \n",
    "\n",
    "```python\n",
    "sleep ~ totwrk + educ + age + C(male)\n",
    "```"
   ]
  },
  {
   "cell_type": "code",
   "execution_count": null,
   "metadata": {},
   "outputs": [],
   "source": [
    "res = smf.ols('sleep ~ totwrk + educ + age + C(male)', data=sleep).fit()\n",
    "print(res.summary())"
   ]
  },
  {
   "cell_type": "markdown",
   "metadata": {},
   "source": [
    "The 'T.1.0' notation is a bit confusing in this context. It means it is giving the value for coefficient on the 'male'=1.0 variable. Since we have included a constant, one of the categories gets dropped. In this case, the intercept is the 'male'=0 case. \n",
    "\n",
    "To see things more clearly, let's recode the male variable. "
   ]
  },
  {
   "cell_type": "code",
   "execution_count": null,
   "metadata": {},
   "outputs": [],
   "source": [
    "sleep['gender'] = sleep['male'].replace({1.0:'male', 0.0:'female'})\n",
    "\n",
    "res = smf.ols('sleep ~ totwrk + educ + age + C(gender)', data=sleep).fit()\n",
    "print(res.summary())"
   ]
  },
  {
   "cell_type": "markdown",
   "metadata": {},
   "source": [
    "## Practice\n",
    "\n",
    "Take a few minutes and try the following. Feel free to chat with those around you if you get stuck. The TA and I are here, too. \n",
    "\n",
    "We will continue with the example from before (Wooldridge problem C2 in chapter 6)."
   ]
  },
  {
   "cell_type": "markdown",
   "metadata": {},
   "source": [
    "4. Scatter plot the residuals (y axis) against education (x axis). The residuals are in the results object from the fit method. \n",
    "\n",
    "In part 3. from the earlier exercise, I used \n",
    "```python\n",
    "prac_results = smf.ols('np.log(wage) ~ educ', data=wage1).fit()\n",
    "```\n",
    "\n",
    "so the residuals are in `prac_results.resid`. Try inspecting `prac_results.resid` first. What kind of object is it?"
   ]
  },
  {
   "cell_type": "markdown",
   "metadata": {},
   "source": [
    "5. Looks heteroskedastic. We can change the covariance matrix type (which will correct the standard error calculation) using the `cov_type` parameter [(docs)](https://www.statsmodels.org/dev/generated/statsmodels.regression.linear_model.OLS.fit.html#statsmodels.regression.linear_model.OLS.fit). The types of covariance matrices are described in the [docs](https://www.statsmodels.org/dev/generated/statsmodels.regression.linear_model.RegressionResults.html).\n",
    "\n",
    "Try 'HC3' for your covariance matrix type.\n",
    "\n",
    "Note: If you have not had econometrics yet, this probably doesn't make much sense to you. That's okay --- just skip it. "
   ]
  },
  {
   "cell_type": "markdown",
   "metadata": {},
   "source": [
    "6. Let's add some more regressors. Estimate\n",
    "$$ \\log(wage) = \\beta_0 + \\beta_1 educ + \\beta_2 exper + \\beta_3 exper^2 + \\beta_4I_m + \\epsilon$$\n",
    "\n",
    "where $I_m$ is a variable equal to 1 if the worker is a married."
   ]
  },
  {
   "cell_type": "markdown",
   "metadata": {},
   "source": [
    "### Plotting the regression line \n",
    "\n",
    "In a two-variable regression (or in a scatter plot) we can plot the regression line. We use the data and the estimated coefficients. \n",
    "\n",
    "The estimated coefficients are in the results object `params`. \n",
    "\n",
    "If you finish early, try these next two problems on your own (don't look at my code). We will go through them in class together. "
   ]
  },
  {
   "cell_type": "markdown",
   "metadata": {},
   "source": [
    "7. Scatter plot the data (this is the same as part 2.) and add the regression line for the model\n",
    "\n",
    "$$log(y) = \\beta_0 + \\beta_1 edu + \\epsilon.$$\n",
    "\n",
    "Again, this is the regression from part 3. You might still have the results in `prac_results`.\n",
    "\n",
    "\n",
    "To plot the regression line you will need to create some x data and then apply the parameters. I used something like this\n",
    "```python\n",
    "y = [p.Intercept + p.educ*i for i in x]\n",
    "```\n",
    "where `p` hold the parameters from my results and x holds a few x data points. "
   ]
  },
  {
   "cell_type": "code",
   "execution_count": null,
   "metadata": {},
   "outputs": [],
   "source": [
    "# Just in case we changed some stuff above, re-run the regression.\n",
    "prac_results = smf.ols('np.log(wage) ~ educ', data=wage1).fit()"
   ]
  },
  {
   "cell_type": "code",
   "execution_count": null,
   "metadata": {},
   "outputs": [],
   "source": [
    "# Create the line of best fit to plot\n",
    "p = prac_results.params                                # params from the model fit\n",
    "p"
   ]
  },
  {
   "cell_type": "code",
   "execution_count": null,
   "metadata": {},
   "outputs": [],
   "source": [
    "# I need a few values of educ to plot. I chose (0,20) since that spans the data. \n",
    "# Then, I compute the predicted y using the coefficients. \n",
    "\n",
    "x = range(0,20)                               # some x data\n",
    "y = [p.Intercept + p.educ*i for i in x]       # apply the coefficients "
   ]
  },
  {
   "cell_type": "code",
   "execution_count": null,
   "metadata": {},
   "outputs": [],
   "source": [
    "fig, ax = plt.subplots(figsize=(15,10))\n",
    "\n",
    "# Plot the data\n",
    "ax.scatter(wage1['educ'], wage1['lnwage'], marker='o', alpha = 0.5 )\n",
    "\n",
    "# Plot the regression line.\n",
    "ax.plot(x,y, color='black')\n",
    "\n",
    "ax.set_xlabel('education', fontsize=14)\n",
    "ax.set_ylabel('log wage', fontsize=14)\n",
    "\n",
    "ax.spines['top'].set_visible(False)\n",
    "ax.spines['right'].set_visible(False)"
   ]
  },
  {
   "cell_type": "markdown",
   "metadata": {},
   "source": [
    "8. Add the equation for the regression line to the figure. "
   ]
  },
  {
   "cell_type": "code",
   "execution_count": null,
   "metadata": {},
   "outputs": [],
   "source": [
    "fig, ax = plt.subplots(figsize=(15,10))\n",
    "\n",
    "# Plot the data\n",
    "ax.scatter(wage1['educ'], wage1['lnwage'], marker='o', alpha = 0.5 )\n",
    "# Plot the regression line.\n",
    "ax.plot(x,y, color='black')\n",
    "\n",
    "# build the string\n",
    "text = 'regression line: \\nlog(w) = {0:.2} + {1:.2} educ'.format(p.Intercept, p.educ)\n",
    "\n",
    "ax.text(0.5, 2.5, text, fontsize=14)\n",
    "\n",
    "ax.set_xlabel('education', fontsize=14)\n",
    "ax.set_ylabel('log wage', fontsize=14)\n",
    "\n",
    "ax.spines['top'].set_visible(False)\n",
    "ax.spines['right'].set_visible(False)"
   ]
  }
 ],
 "metadata": {
  "celltoolbar": "Attachments",
  "kernelspec": {
   "display_name": "Python 3",
   "language": "python",
   "name": "python3"
  },
  "language_info": {
   "codemirror_mode": {
    "name": "ipython",
    "version": 3
   },
   "file_extension": ".py",
   "mimetype": "text/x-python",
   "name": "python",
   "nbconvert_exporter": "python",
   "pygments_lexer": "ipython3",
   "version": "3.7.3"
  }
 },
 "nbformat": 4,
 "nbformat_minor": 2
}
