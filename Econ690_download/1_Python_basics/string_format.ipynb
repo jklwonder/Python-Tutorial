{
 "cells": [
  {
   "cell_type": "markdown",
   "metadata": {},
   "source": [
    "## String formatting\n",
    "\n",
    "We often need to 'print' variables to the screen or to a file. When we are experimenting with things on our own, we may not care about how our output looks, but when we are sharing our work with others, we want things to be neat and easily readable. \n",
    "\n",
    "This *self-guided* notebook takes you through the basics of string formatting using the newer python `str.format()` way of formating strings. String formatting can get very sophisticated, but we need only a few simple things. As usual, you can always Google for 'python string format' for more. \n",
    "\n",
    "\\[There are two other ways to format strings in python. One uses the \\% sign and follows from older c-style formatting. The newest are called 'f-strings'. The old-style formatting will show up sometimes, but using `str.format` is preferred. f-strings are good, too, but we'll stick with `str.format` for this course. \\]"
   ]
  },
  {
   "cell_type": "markdown",
   "metadata": {},
   "source": [
    "### The basics\n",
    "\n",
    "We insert variables into a string using the `str.format()` method. "
   ]
  },
  {
   "cell_type": "code",
   "execution_count": 16,
   "metadata": {},
   "outputs": [
    {
     "name": "stdout",
     "output_type": "stream",
     "text": [
      "The UW school song is Varsity.\n"
     ]
    }
   ],
   "source": [
    "school_song = 'Varsity'\n",
    "\n",
    "print( 'The UW school song is {0}.'.format(school_song) )"
   ]
  },
  {
   "cell_type": "markdown",
   "metadata": {},
   "source": [
    "The 0 in `{0}` is the positional argument. It says to insert the 0-th (first) thing in `format()` in place of `{0}`.\n",
    "\n",
    "Let's try this with two things to be printed. "
   ]
  },
  {
   "cell_type": "code",
   "execution_count": 49,
   "metadata": {},
   "outputs": [
    {
     "name": "stdout",
     "output_type": "stream",
     "text": [
      "The UW school song is Varsity. It was written in 1898.\n",
      "The UW school song is 1898. It was written in Varsity.\n",
      "The UW school song is Varsity. It was written in 1898. The first lyric is Varsity! Varsity!\n"
     ]
    }
   ],
   "source": [
    "year_written = 1898 # What kind of variable is this?\n",
    "\n",
    "print( 'The UW school song is {0}. It was written in {1}.'.format(school_song, year_written) )\n",
    "\n",
    "# The values can be outputed in any order.\n",
    "print( 'The UW school song is {1}. It was written in {0}.'.format(school_song, year_written) )\n",
    "\n",
    "# The values can be used more than once. \n",
    "print( 'The UW school song is {0}. It was written in {1}. The first lyric is {0}! {0}!'.format(school_song, year_written) )"
   ]
  },
  {
   "cell_type": "markdown",
   "metadata": {},
   "source": [
    "Notice that the format function handled converting the int in `year_written` to a string.  "
   ]
  },
  {
   "cell_type": "markdown",
   "metadata": {},
   "source": [
    "### Named placeholders\n",
    "Instead of numbers, the variables to print can be given names. "
   ]
  },
  {
   "cell_type": "code",
   "execution_count": 43,
   "metadata": {},
   "outputs": [
    {
     "name": "stdout",
     "output_type": "stream",
     "text": [
      "The UW school song is Varsity. It was written in 1998.\n"
     ]
    }
   ],
   "source": [
    "print( 'The UW school song is {song}. It was written in {year}.'.format(song='Varsity', year='1998') )"
   ]
  },
  {
   "cell_type": "markdown",
   "metadata": {},
   "source": [
    "### Formatting floats\n",
    "\n",
    "For us, string formatting shows up most often when we want to format the output of numbers. This includes dealing with significant digits, currencies, dates, and alignment. "
   ]
  },
  {
   "cell_type": "code",
   "execution_count": 31,
   "metadata": {},
   "outputs": [
    {
     "name": "stdout",
     "output_type": "stream",
     "text": [
      "0.3333333333333333\n",
      "foo = 0.333333\n"
     ]
    }
   ],
   "source": [
    "foo = 1/3\n",
    "print(foo)\n",
    "\n",
    "# The default float format\n",
    "print('foo = {0:f}'.format(foo))\n"
   ]
  },
  {
   "cell_type": "markdown",
   "metadata": {},
   "source": [
    "The syntax is `{position:format}`. We have already seen how the position argument works. The format argument is a code that tells `format()` how to, well, format the value. \n",
    "\n",
    "In this case, we used the `f` to specify the float format. Doing so printed only three trailing digits. We can control the trailing digits and the overall width of the float, too. "
   ]
  },
  {
   "cell_type": "code",
   "execution_count": 32,
   "metadata": {},
   "outputs": [
    {
     "name": "stdout",
     "output_type": "stream",
     "text": [
      "foo = 0.333\n"
     ]
    }
   ],
   "source": [
    "print('foo = {0:5.3f}'.format(foo))"
   ]
  },
  {
   "cell_type": "markdown",
   "metadata": {},
   "source": [
    "The code `5.3f` means: output the number in 5 'spaces' overall with 3 of the 5 spaces to the right of the decimal point.  "
   ]
  },
  {
   "cell_type": "code",
   "execution_count": 35,
   "metadata": {},
   "outputs": [
    {
     "name": "stdout",
     "output_type": "stream",
     "text": [
      "foo =    0.333\n",
      "foo = 0000.333\n"
     ]
    }
   ],
   "source": [
    "# Now the space reserved for the number is 8\n",
    "print('foo = {0:8.3f}'.format(foo))\n",
    "\n",
    "# The zero before the 8 prints out the leading zeros. \n",
    "print('foo = {0:08.3f}'.format(foo))\n"
   ]
  },
  {
   "cell_type": "code",
   "execution_count": 39,
   "metadata": {},
   "outputs": [
    {
     "name": "stdout",
     "output_type": "stream",
     "text": [
      "the big float is = 123456.79\n"
     ]
    }
   ],
   "source": [
    "big_float = 123456.789\n",
    "\n",
    "print('the big float is = {0:5.2f}'.format(big_float))"
   ]
  },
  {
   "cell_type": "markdown",
   "metadata": {},
   "source": [
    "We didn't specify a big enough window to fit the number, so space was added, but the 2 digits to the right of the decimal was still respected. \n",
    "\n",
    "If we add a comma to the left of the decimal point `5,.2f` we get commas to group digits. "
   ]
  },
  {
   "cell_type": "code",
   "execution_count": 45,
   "metadata": {},
   "outputs": [
    {
     "name": "stdout",
     "output_type": "stream",
     "text": [
      "An easier to read  big float is = 123,456.79\n"
     ]
    }
   ],
   "source": [
    "print('An easier to read  big float is = {0:5,.2f}'.format(big_float))"
   ]
  },
  {
   "cell_type": "markdown",
   "metadata": {},
   "source": [
    "### Other formats\n",
    "\n",
    "There are lots of things you can do to format strings. We won't need most of them. \n",
    "\n",
    "You might look into: `{:.2%}` for percentages and  `{:.2e}` for exponential notation. Insert a cell below and practice!"
   ]
  }
 ],
 "metadata": {
  "celltoolbar": "Attachments",
  "kernelspec": {
   "display_name": "Python 3",
   "language": "python",
   "name": "python3"
  },
  "language_info": {
   "codemirror_mode": {
    "name": "ipython",
    "version": 3
   },
   "file_extension": ".py",
   "mimetype": "text/x-python",
   "name": "python",
   "nbconvert_exporter": "python",
   "pygments_lexer": "ipython3",
   "version": "3.7.3"
  }
 },
 "nbformat": 4,
 "nbformat_minor": 2
}
