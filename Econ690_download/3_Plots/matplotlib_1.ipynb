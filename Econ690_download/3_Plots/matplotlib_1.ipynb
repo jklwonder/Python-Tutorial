{
 "cells": [
  {
   "cell_type": "markdown",
   "metadata": {},
   "source": [
    "# Plotting 1\n",
    "\n",
    "files needed = ('gdp_components_simple.csv')\n",
    "\n",
    "We have a handle on python now: we understand the data structures and enough about working with them to move on to stuff more directly relevant to data analysis. We know how to get data into Pandas from files, how to manipulate DataFrames and how to do basic statistics. \n",
    "\n",
    "Let's get started on making figures, arguably the best way to convey information about our data."
   ]
  },
  {
   "cell_type": "markdown",
   "metadata": {},
   "source": [
    "### The packages"
   ]
  },
  {
   "cell_type": "code",
   "execution_count": null,
   "metadata": {},
   "outputs": [],
   "source": [
    "import pandas as pd     #load the pandas package and call it pd\n",
    "import matplotlib.pyplot as plt   # load the pyplot set of tools from the package matplotlib. Name it plt for short.\n",
    "\n",
    "# This following is a jupyter magic command. It tells jupyter to insert the plots into the notebook\n",
    "# rather than a new window.\n",
    "%matplotlib inline      "
   ]
  },
  {
   "cell_type": "markdown",
   "metadata": {},
   "source": [
    "matplotlib is a very popular package that bundles tools for creating visualizations. The documentation is [here](https://matplotlib.org/contents.html). We will look at some specific plot types in class, but you can learn about many different types [thumbnail gallery](https://matplotlib.org/gallery/index.html). \\[Warning: not all the figures in the thumbnail gallery are good figures.\\]\n",
    "\n",
    "Copy the `gdp_components_simple.csv` file into your cwd (or load it using a file path to its location) and load it into pandas."
   ]
  },
  {
   "cell_type": "code",
   "execution_count": null,
   "metadata": {},
   "outputs": [],
   "source": [
    "gdp = pd.read_csv('gdp_components_simple.csv', index_col=0)  # load data from file, make date the index\n",
    "\n",
    "print(gdp.head(2))                                    # print the first and last few rows to make sure all is well\n",
    "print('\\n', gdp.tail(2))\n"
   ]
  },
  {
   "cell_type": "markdown",
   "metadata": {},
   "source": [
    "I don't like these variable names. "
   ]
  },
  {
   "cell_type": "code",
   "execution_count": null,
   "metadata": {},
   "outputs": [],
   "source": [
    "gdp.rename(columns = {'GDPA':'gdp', 'GPDIA':'inv', 'GCEA':'gov', 'EXPGSA':'ex', 'IMPGSA':'im' }, inplace=True)\n",
    "gdp.head()"
   ]
  },
  {
   "cell_type": "markdown",
   "metadata": {},
   "source": [
    "Let's get plotting. matplotlib graphics are based around two new object types. \n",
    "1. The figure object: think of this as the canvas we will draw figures onto\n",
    "2. The axes object: think of this as the figure itself and all the components\n",
    "\n",
    "To create a new figure, we call the `subplots()` method of `plt`. Notice the use of multiple assignment."
   ]
  },
  {
   "cell_type": "code",
   "execution_count": null,
   "metadata": {},
   "outputs": [],
   "source": [
    "fig, ax = plt.subplots()    # passing no arguments gets us one fig object and one axes object"
   ]
  },
  {
   "cell_type": "code",
   "execution_count": null,
   "metadata": {},
   "outputs": [],
   "source": [
    "print(type(fig))\n",
    "\n",
    "print(type(ax))"
   ]
  },
  {
   "cell_type": "markdown",
   "metadata": {},
   "source": [
    "We apply methods to the axes to actually plot the data. Here is a scatter plot. \\[Try `ax.` and hit TAB...\\] "
   ]
  },
  {
   "cell_type": "code",
   "execution_count": null,
   "metadata": {},
   "outputs": [],
   "source": [
    "fig, ax = plt.subplots() \n",
    "ax.plot(gdp.index, gdp['gdp'])                  # scatter plot of gdp vs. time"
   ]
  },
  {
   "cell_type": "markdown",
   "metadata": {},
   "source": [
    "First, note that the plot is a Line2D object. This is absolutely not important for us, but when you see jupyter print out `<matplotlib.lines.Line2D at ...>` that is what it is telling us. Everything in python is an object. To suppress this part of the output, use `plt.show()`.\n",
    "\n",
    "Second, a scatter plot needs two columns of data, one for the x-coordinate and one for the y-coordinate. I am using `gdp` for the y-coordinate and the years for the x-coordinate. I set years as the index variable, so to retrieve it I used the `.index` attribute. \n",
    "\n",
    "Third, this plot needs some work. I do not like this line color. More importantly, I am missing labels and a title. These are **extremely important.** "
   ]
  },
  {
   "cell_type": "code",
   "execution_count": null,
   "metadata": {},
   "outputs": [],
   "source": [
    "fig, ax = plt.subplots() \n",
    "ax.plot(gdp.index, gdp['gdp'],        # line plot of gdp vs. time\n",
    "        color='red'                   # set the line color to red\n",
    "       )                  \n",
    "\n",
    "ax.set_ylabel('billions of dollars')  # add the y-axis label\n",
    "ax.set_xlabel('year')                 # add the x-axis label\n",
    "ax.set_title('U.S. Gross Domestic Product')\n",
    "\n",
    "plt.show()"
   ]
  },
  {
   "cell_type": "markdown",
   "metadata": {},
   "source": [
    "This is looking pretty good. While I am a fanatic when it comes to labeling things, I probably wouldn't label the x-axis. You have to have some faith in the reader. \n",
    "\n",
    "I also do not like 'boxing' my plots. There is a philosophy about visualizations that says: Every mark on your figure should convey information. If it does not, then it is clutter and should be removed. I am not sure who developed this philosophy [(Marie Kondo?)](https://en.wikipedia.org/wiki/Marie_Kondo) but I think it is a useful benchmark."
   ]
  },
  {
   "cell_type": "code",
   "execution_count": null,
   "metadata": {},
   "outputs": [],
   "source": [
    "fig, ax = plt.subplots() \n",
    "ax.plot(gdp.index, gdp['gdp'],        # line plot of gdp vs. time\n",
    "        color='red'                   # set the line color to red\n",
    "       )  \n",
    "\n",
    "ax.set_ylabel('billions of dollars')  # add the y-axis label\n",
    "# ax.set_xlabel('year')                 # add the x-axis label\n",
    "ax.set_title('U.S. Gross Domestic Product')\n",
    "\n",
    "ax.spines['right'].set_visible(False) # get ride of the line on the right\n",
    "ax.spines['top'].set_visible(False)   # get rid of the line on top\n",
    "\n",
    "plt.show()"
   ]
  },
  {
   "cell_type": "markdown",
   "metadata": {},
   "source": [
    "### Practice: Plots\n",
    "Take a few minutes and try the following. Feel free to chat with those around if you get stuck. I am here, too.\n",
    "\n",
    "1. Copy the code from the last plot and add a second line that plots 'gov'. To do this, just add a new line of code to the existing code. `ax.plot(gdp.index, gdp['gov']])`"
   ]
  },
  {
   "cell_type": "code",
   "execution_count": null,
   "metadata": {},
   "outputs": [],
   "source": []
  },
  {
   "cell_type": "markdown",
   "metadata": {},
   "source": [
    "2. Modify your code to give the figure a better title\n",
    "3. Modify your code to make government consumption blue\n",
    "4. Modify your code to add the argument `alpha=0.5` to the plot method for gov. What does it change? If you want to learn more try 'alpha composite' in Google.\n",
    "5. Modify your code to make the 'gov' line dashed. Try the argument `linestyle='--'`.  What is linestyle '-.' or ':' ?"
   ]
  },
  {
   "cell_type": "markdown",
   "metadata": {},
   "source": [
    "### A few more options to get us started\n",
    "We have two lines on our figure. Which one is which? Not labeling our line is malpractice. Two approaches\n",
    "\n",
    "1. Add a legend\n",
    "2. Add text to the figure\n",
    "\n",
    "Both are good options. I prefer the second for simple plots."
   ]
  },
  {
   "cell_type": "code",
   "execution_count": null,
   "metadata": {},
   "outputs": [],
   "source": [
    "# The first option. Add labels to your plot commands, then call ax.legend.\n",
    "\n",
    "fig, ax = plt.subplots() \n",
    "ax.plot(gdp.index, gdp['gdp'],        # line plot of gdp vs. time\n",
    "        color='red',                   # set the line color to red\n",
    "       label = 'GDP'\n",
    "       )  \n",
    "\n",
    "ax.plot(gdp.index, gdp['gov'],        # line plot of gdp vs. time\n",
    "        color='blue',                   # set the line color to blue\n",
    "        alpha = 0.5,\n",
    "        linestyle = ':',\n",
    "        label = 'Gov. Spending'\n",
    "       )  \n",
    "ax.set_ylabel('billions of dollars')  # add the y-axis label\n",
    "# ax.set_xlabel('year')                 # add the x-axis label\n",
    "ax.set_title('U.S. Gross Domestic Product and Government Spending')\n",
    "\n",
    "ax.spines['right'].set_visible(False) # get ride of the line on the right\n",
    "ax.spines['top'].set_visible(False)   # get rid of the line on top\n",
    "\n",
    "ax.legend(frameon=False)                           # Show the legend. frameon=False kills the box around the legend\n",
    "\n",
    "plt.show()"
   ]
  },
  {
   "cell_type": "markdown",
   "metadata": {},
   "source": [
    "Ah, I feel much better now that I know which line is which. Whatever we put in the `label` argument in `ax.plot()` ends up in the legend. There are lots of ways to customize the legend. \n",
    "\n",
    "\n",
    "Here is the second approach."
   ]
  },
  {
   "cell_type": "code",
   "execution_count": null,
   "metadata": {},
   "outputs": [],
   "source": [
    "# The second option. Add text using the annotate method. Note that I can leave the labels in the plot commands.\n",
    "\n",
    "fig, ax = plt.subplots() \n",
    "ax.plot(gdp.index, gdp['gdp'],        # line plot of gdp vs. time\n",
    "        color='red',                   # set the line color to red\n",
    "       label = 'GDP'\n",
    "       )  \n",
    "\n",
    "ax.plot(gdp.index, gdp['gov'],        # line plot of gdp vs. time\n",
    "        color='blue',                   # set the line color to blue\n",
    "        alpha = 0.5,\n",
    "        linestyle = ':',\n",
    "        label = 'Gov. Spending'\n",
    "       )  \n",
    "ax.set_ylabel('billions of dollars')  # add the y-axis label\n",
    "# ax.set_xlabel('year')                 # add the x-axis label\n",
    "ax.set_title('U.S. Gross Domestic Product and Government Spending')\n",
    "\n",
    "ax.spines['right'].set_visible(False) # get ride of the line on the right\n",
    "ax.spines['top'].set_visible(False)   # get rid of the line on top\n",
    "\n",
    "\n",
    "# Put text on the figure. \n",
    "ax.text(1989, 8500, 'GDP')            # text(x, y, string)\n",
    "ax.text(1999, 4500, 'Gov. Spending')            # text(x, y, string)\n",
    "\n",
    "plt.show()"
   ]
  },
  {
   "cell_type": "markdown",
   "metadata": {},
   "source": [
    "### About graphical excellence\n",
    "[Edward Tufte's](https://www.edwardtufte.com/tufte/books_vdqi) *The Visual Display of Quantitative Information* is a masterpiece of 'thinking hard about visualizations.' The book is worth a read (or a look through). His Principles of Graphic Excellence are great to keep in mind. Two of my favorites:\n",
    "* Graphical excellence consists of complex ideas communicated with clarity, precision, and efficiency\n",
    "* Graphical excellence is that which gives the viewer the greatest number of ideas in the shortest time with the least ink in the smallest space. \n",
    "\n",
    "Let us all strive for graphical excellence.\n",
    "\n",
    "This listicle *Ten Simple Rules for Better Figures* ([Rougier, Droettboom, and Bourne, 2014](https://journals.plos.org/ploscompbiol/article?id=10.1371/journal.pcbi.1003833#s10)) has some good advice, too. My favorite is **Do not trust the defaults.**\n",
    "\n",
    "[Not long, ago, this was Excel's default chart formatting](http://media.juiceanalytics.com/images/blog/excel_line_graph.png)"
   ]
  },
  {
   "cell_type": "markdown",
   "metadata": {},
   "source": [
    "### Getting plots out of your notebook\n",
    "While I love jupyter notebooks, my research output is usually an article distributed as a pdf. "
   ]
  },
  {
   "cell_type": "code",
   "execution_count": null,
   "metadata": {},
   "outputs": [],
   "source": [
    "fig, ax = plt.subplots() \n",
    "ax.plot(gdp.index, gdp['gdp'],        # line plot of gdp vs. time\n",
    "        color='red',                   # set the line color to red\n",
    "       label = 'GDP'\n",
    "       )  \n",
    "\n",
    "ax.plot(gdp.index, gdp['gov'],        # line plot of gdp vs. time\n",
    "        color='blue',                   # set the line color to blue\n",
    "        alpha = 0.5,\n",
    "        linestyle = ':',\n",
    "        label = 'Gov. Spending'\n",
    "       )  \n",
    "ax.set_ylabel('billions of dollars')  # add the y-axis label\n",
    "# ax.set_xlabel('year')                 # add the x-axis label\n",
    "ax.set_title('U.S. Gross Domestic Product and Government Spending')\n",
    "\n",
    "ax.spines['right'].set_visible(False) # get ride of the line on the right\n",
    "ax.spines['top'].set_visible(False)   # get rid of the line on top\n",
    "\n",
    "ax.text(1989, 8500, 'GDP')            # text(x, y, string)\n",
    "ax.text(1999, 4500, 'Gov. Spending')            # text(x, y, string)\n",
    "\n",
    "plt.savefig('gdp.pdf', bbox_inches='tight')          # Create a pdf and save to cwd \n",
    "plt.savefig('../gdp.png')          # Create a png and save to the folder that contains the cwd\n",
    "\n",
    "plt.show()"
   ]
  },
  {
   "cell_type": "markdown",
   "metadata": {},
   "source": [
    "When saving a pdf, I use the `bbox_inches='tight'` argument to kill extra whitespace around the figure. You can also set things like orientation, dpi, and metadata. Check the documentation if you need to tweak your output. "
   ]
  },
  {
   "cell_type": "markdown",
   "metadata": {},
   "source": [
    "### More plot types\n",
    "The line plot is the tip of the iceberg. matplotlib support many plot types. Let's take a look at histograms. \n",
    "\n",
    "How variable is US gdp growth?"
   ]
  },
  {
   "cell_type": "code",
   "execution_count": null,
   "metadata": {},
   "outputs": [],
   "source": [
    "# Create a histogram of gdp growth rates.\n",
    "\n",
    "# pct_change() creates growth rates NOT percent change. Not a self-documenting name.\n",
    "gdp['gdp_growth'] = gdp['gdp'].pct_change()*100 \n",
    "gdp.head()"
   ]
  },
  {
   "cell_type": "markdown",
   "metadata": {},
   "source": [
    "We could have used the `diff()` or the `shift()` methods to do something similar, but wow, `pct_change` is so luxe. A quick plot to take a look."
   ]
  },
  {
   "cell_type": "code",
   "execution_count": null,
   "metadata": {},
   "outputs": [],
   "source": [
    "fig, ax = plt.subplots() \n",
    "ax.plot(gdp.index, gdp['gdp_growth'],        # line plot of gdp vs. time\n",
    "        color='red',                   # set the line color to red\n",
    "       label = 'GDP Growth'\n",
    "       )  \n",
    "\n",
    "ax.set_ylabel('percent growth')  # add the y-axis label\n",
    "ax.set_title('U.S. Gross Domestic Product Growth Rates')\n",
    "\n",
    "ax.spines['right'].set_visible(False) # get ride of the line on the right\n",
    "ax.spines['top'].set_visible(False)   # get rid of the line on top\n",
    "\n",
    "ax.axhline(y=0, color='black', linewidth=0.75)  # Add a horizontal line at y=0\n",
    "\n",
    "plt.show()"
   ]
  },
  {
   "cell_type": "markdown",
   "metadata": {},
   "source": [
    "The great depression and the WWII buildup really stick out. \n",
    "\n",
    "Notice that I added a line at zero. My thinking is that this line adds information: the reader can easily see that growth rates are mostly positive and that the great depression was really bad. \n",
    "\n",
    "It is also obvious that the volatility of gdp has fallen over time, but let's approach this a bit differently. "
   ]
  },
  {
   "cell_type": "code",
   "execution_count": null,
   "metadata": {},
   "outputs": [],
   "source": [
    "fig, ax = plt.subplots() \n",
    "\n",
    "# hist does not like NaN. (I'm a bit surprised.) I use the dropna() method to kill off the missing value\n",
    "ax.hist(gdp['gdp_growth'].dropna(), bins=20, color='red', alpha=0.75)        # histogram of GDP growth rates\n",
    "      \n",
    "\n",
    "ax.set_ylabel('Frequency')  # add the y-axis label\n",
    "ax.set_xlabel('Annual growth rate (%)')\n",
    "ax.set_title('Frequency of US GDP growth rates (1929-2017)')\n",
    "\n",
    "ax.spines['right'].set_visible(False) # get ride of the line on the right\n",
    "ax.spines['top'].set_visible(False)   # get rid of the line on top\n",
    "\n",
    "\n",
    "\n",
    "plt.show()"
   ]
  },
  {
   "cell_type": "markdown",
   "metadata": {},
   "source": [
    "### Practice: Histograms\n",
    "Take a few minutes and try the following. Feel free to chat with those around if you get stuck. I am here, too.\n",
    "\n",
    "1. Break the data up into two periods: 1929-1985 and 1985-2017\n",
    "2. Compute the mean and the standard deviation for the gdp growth rate in each sample.\n",
    "3. Create a separate histogram for each sample. Make the early period histogram blue and the late histogram black. Make any changes to them that you deem appropriate.\n",
    "4. Use text() to add the mean and std to a blank area of the histograms. Just type the values of the mean and std into the text.\n",
    "3. Save the two histograms as pdfs. Give them reasonable names. \n",
    "\n",
    "\n",
    "*Challenging*. Can you find a way to store the value of the mean and std to a variable and print the variable out on the histogram? Redo part 4. "
   ]
  },
  {
   "cell_type": "code",
   "execution_count": null,
   "metadata": {},
   "outputs": [],
   "source": []
  },
  {
   "cell_type": "markdown",
   "metadata": {},
   "source": [
    "### Subplots\n",
    "We can generate several axes in one figure using the subplot() method. \\[This method is not misnamed!\\]\n"
   ]
  },
  {
   "cell_type": "code",
   "execution_count": null,
   "metadata": {},
   "outputs": [],
   "source": [
    "fig, ax = plt.subplots(1, 2)  # one row, two columns of axes"
   ]
  },
  {
   "cell_type": "code",
   "execution_count": null,
   "metadata": {},
   "outputs": [],
   "source": [
    "print(type(ax))"
   ]
  },
  {
   "cell_type": "markdown",
   "metadata": {},
   "source": [
    "So `ax` is now an array that holds the axes for each plot. Each axes works just like before. Now we just have to tell python **which** axes to act on."
   ]
  },
  {
   "cell_type": "code",
   "execution_count": null,
   "metadata": {},
   "outputs": [],
   "source": [
    "# Set a variable for plot color so I can change it everywhere easily\n",
    "my_plot_color = 'black'\n",
    "\n",
    "# I am using the figsize parameter here. It takes (width, height) in inches. \n",
    "fig, ax = plt.subplots(1, 2, figsize=(10,4))  # one row, two columns of axes\n",
    "\n",
    "# The fist plot\n",
    "ax[0].plot(gdp.index, gdp['gdp_growth'], color=my_plot_color, label = 'GDP Growth')     # a line plot of GDP growth rates\n",
    "ax[0].axhline(y=0, color='black', linewidth=0.75)  # Add a horizontal line at y=0\n",
    "ax[0].set_xlabel('year')\n",
    "ax[0].set_title('GDP growth rates')\n",
    "ax[0].spines['right'].set_visible(False) # get ride of the line on the right\n",
    "ax[0].spines['top'].set_visible(False)   # get rid of the line on top\n",
    "\n",
    "# The second plot\n",
    "ax[1].hist(gdp['gdp_growth'].dropna(), bins=20, color=my_plot_color, alpha=0.25)        # histogram of GDP growth rates\n",
    "ax[1].set_xlabel('annual growth rate')\n",
    "ax[1].set_title('Histogram of GDP growth rates')\n",
    "ax[1].spines['right'].set_visible(False) # get ride of the line on the right\n",
    "ax[1].spines['top'].set_visible(False)   # get rid of the line on top\n",
    "\n",
    "plt.savefig('double.pdf')\n",
    "plt.show()"
   ]
  },
  {
   "cell_type": "markdown",
   "metadata": {},
   "source": [
    "You can imagine how useful this can be. We can loop over sets of axes and automate making plots if we have several variables. \n",
    "\n",
    "I changed a couple other things here, too. \n",
    "1. I used the `figsize` parameter to subplot. This is a tuple of figure width and height in inches. (Inches! Take that rest of the world!) The height and width are of the **printed** figure. You will notice that jupyter notebook scaled it down for display. This is useful when you are preparing graphics for a publication and you need to meet an exact figure size. \n",
    "2. I made the line color a variable, so it is easy to change all the line colors at one. For example, I like red figures when I am giving presentations, but black figures when I am creating pdfs that will be printed out on a black and white printer."
   ]
  }
 ],
 "metadata": {
  "celltoolbar": "Attachments",
  "kernelspec": {
   "display_name": "Python 3",
   "language": "python",
   "name": "python3"
  },
  "language_info": {
   "codemirror_mode": {
    "name": "ipython",
    "version": 3
   },
   "file_extension": ".py",
   "mimetype": "text/x-python",
   "name": "python",
   "nbconvert_exporter": "python",
   "pygments_lexer": "ipython3",
   "version": "3.7.3"
  }
 },
 "nbformat": 4,
 "nbformat_minor": 2
}
