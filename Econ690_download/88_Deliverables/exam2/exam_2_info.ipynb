{
 "cells": [
  {
   "cell_type": "markdown",
   "metadata": {},
   "source": [
    "## Exam 2 information\n",
    "\n",
    "Exam details:\n",
    "* **The exam starts at 4 PM and ends at 5:15 PM on Wednesday, November 20**. Please arrive early and get logged in.  \n",
    "* The exam and necessary files will be available on the X:\\ drive on winstat. \n",
    "* You will need to upload your finished notebook to Canvas. Allow yourself enough time to get your file uploaded before 5:15 PM. You might want to log into Canvas before the exam starts, so you can easily upload it once finished. \n",
    "* The exam is open-book and open-Internet. Having to rely too much on books and the Internet will slow you down. \n",
    "* You **cannot** work with others on the exam.\n",
    "\n",
    "Some suggestions for studying:\n",
    "* Go over the notebooks we have covered in class (up to, and including, pandas_5_transform)\n",
    "* Go over the coding practices. \n",
    "* You could try doing the practice parts from the class notebooks and the coding practice problems again, but without much outside help. Are there subjects that need more practice?\n",
    "* Take the practice exam as if it was a real exam. Keep track of time, and do not discuss the exam with others. Again, did you find subjects that could use more practice?"
   ]
  },
  {
   "cell_type": "markdown",
   "metadata": {},
   "source": [
    "## Office hours\n",
    "\n",
    "During exam week, office hours are\n",
    "* Tuesday 2:30 PM-3:30 PM\n",
    "* Wednesday noon - 1:00 PM\n",
    "* Thursday 9:45 AM - 10:45 AM\n",
    "* By email \n"
   ]
  },
  {
   "cell_type": "markdown",
   "metadata": {},
   "source": [
    "## Topics (a non-exhaustive list)\n",
    "\n",
    "This list is meant to help you guide your studying. It is not, however, an exhaustive list of everything that I might ask about on the exam. Anything we have covered in class might show up on the exam. \n",
    "\n",
    "The exam will focus on topics we have covered since the last exam, but our work is cumulative, so things we have covered in the earlier part of the semester might still pop up. (e.g., you will have to load a data file, deal with messy data, or rename variables)\n",
    "\n",
    "1. Plotting (will also cover topics from 'matplotlib_2.ipynb')\n",
    "   1. Plots: line, scatter, bar, histogram\n",
    "   2. Changing line styles, marker styles, axis labels, etc.\n",
    "   3. Annotating plots\n",
    "   3. Making subplots\n",
    "\n",
    "2. Time series\n",
    "   1. Converting variables to datetime objects\n",
    "   2. Resampling\n",
    "   3. Bools and if statements\n",
    "   4. Plotting with a datetime axis\n",
    "   5. Slicing\n",
    "  \n",
    "3. APIs \n",
    "   1. The only thing you need to know is how to get data from FRED\n",
    "  \n",
    "4. MultiIndex/panel data\n",
    "   1. Creating a multiIndex from columns\n",
    "   2. Indexing with multiIndex\n",
    "   3. Long vs wide data\n",
    "   4. Reshaping data: stack/unstack, melt, transpose\n",
    "   \n",
    "5. Merging\n",
    "   1. Merging on one key, merging on several keys\n",
    "   2. Types of merges: inner, outer, etc.\n",
    "   3. Note that merging often involves reshaping. \n",
    "\n",
    "6. Data transformations in pandas\n",
    "    1. Avoid loops!\n",
    "    2. We have covered: replace, unique, map, cut, qcut, and str methods\n",
    "    3. Try picking a random method from [here](https://pandas.pydata.org/pandas-docs/stable/user_guide/text.html#method-summary) and see if you can figure it out."
   ]
  },
  {
   "cell_type": "code",
   "execution_count": null,
   "metadata": {},
   "outputs": [],
   "source": []
  }
 ],
 "metadata": {
  "kernelspec": {
   "display_name": "Python 3",
   "language": "python",
   "name": "python3"
  },
  "language_info": {
   "codemirror_mode": {
    "name": "ipython",
    "version": 3
   },
   "file_extension": ".py",
   "mimetype": "text/x-python",
   "name": "python",
   "nbconvert_exporter": "python",
   "pygments_lexer": "ipython3",
   "version": "3.7.3"
  }
 },
 "nbformat": 4,
 "nbformat_minor": 2
}
