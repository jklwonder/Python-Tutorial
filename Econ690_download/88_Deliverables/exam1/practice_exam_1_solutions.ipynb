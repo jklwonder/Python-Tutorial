{
 "cells": [
  {
   "cell_type": "markdown",
   "metadata": {},
   "source": [
    "# Exam 1\n",
    "\n",
    "files needed = ('taylor.csv')\n",
    "\n",
    "Answer all the questions below in this notebook. You should insert as many cells into the notebook as you need. When you are finished, upload your finished notebook to Canvas. \n",
    "\n",
    "You may use your notes and the Internet, but you cannot work with others in class.  Remember, jupyter notebooks and python have lots of built in help facilities. \n",
    "\n",
    "The best way to use this practice exam is to first study, and then take the exam as you would in class --- with a 1:15 time cap. When you are finished, I would appreciate it if you took the quick two-question survey to give me your thoughts. [Survey link](https://forms.gle/pVKQ2Qjz9ez8X4U98)    "
   ]
  },
  {
   "cell_type": "markdown",
   "metadata": {},
   "source": [
    "## Question 0\n",
    "Copy the following text into a new cell. \n",
    "\n",
    "`The quick brown fox jumps over the lazy dog.`\n",
    "\n",
    "Then:\n",
    "\n",
    "1. Strikethrough the word 'brown'\n",
    "2. Italicize the word 'jumps'\n",
    "3. Make the words 'lazy dog' a link to https://www.akc.org/dog-breeds/pug\n"
   ]
  },
  {
   "cell_type": "markdown",
   "metadata": {},
   "source": [
    "The quick ~brown~ fox *jumps* over the [lazy dog](https://www.akc.org/dog-breeds/pug)."
   ]
  },
  {
   "cell_type": "markdown",
   "metadata": {},
   "source": [
    "## Question 1"
   ]
  },
  {
   "cell_type": "code",
   "execution_count": 1,
   "metadata": {},
   "outputs": [],
   "source": [
    "list1 = ['a', 'b', 'c', 'd', 'e', 'g', 'h', 'i', 'j']"
   ]
  },
  {
   "cell_type": "markdown",
   "metadata": {},
   "source": [
    "1. Capitalize the entries in `list1` and store them in `list2`.\n",
    "2. Insert `F` into `list2` in a way that preserves the alphabetic ordering of `list2`.\n",
    "3. Slice `list2` into two lists: `list2a` includes letters 'A' through 'B' (inclusive) and `list2b` includes 'C' through 'J' inclusive.\n",
    "4. Print out `list2`, `list2a`, and `list2b` "
   ]
  },
  {
   "cell_type": "code",
   "execution_count": 2,
   "metadata": {},
   "outputs": [
    {
     "name": "stdout",
     "output_type": "stream",
     "text": [
      "list2 is  ['A', 'B', 'C', 'D', 'E', 'F', 'G', 'H', 'I', 'J']\n",
      "list2a is  ['A', 'B']\n",
      "list2b is  ['C', 'D', 'E', 'F', 'G', 'H', 'I', 'J']\n"
     ]
    }
   ],
   "source": [
    "# 1\n",
    "list2 = [i.upper() for i in list1]\n",
    "\n",
    "# 2\n",
    "list2.append('F')\n",
    "list2.sort()\n",
    "\n",
    "# 3\n",
    "list2a = list2[:2]\n",
    "list2b = list2[2:]\n",
    "\n",
    "# 4\n",
    "print('list2 is ', list2)\n",
    "print('list2a is ', list2a)\n",
    "print('list2b is ', list2b)\n"
   ]
  },
  {
   "cell_type": "markdown",
   "metadata": {},
   "source": [
    "## Question 2\n",
    "1. Using a loop, sum the squares of the numbers from 0 to 50. That is, compute the sum \n",
    "$$0+1^2 + 2^2+3^2+\\cdots+50^2$$\n",
    "2. Print out the sum and use string formatting to separate the thousands with a comma: xxx,xxx. "
   ]
  },
  {
   "cell_type": "code",
   "execution_count": 3,
   "metadata": {},
   "outputs": [
    {
     "name": "stdout",
     "output_type": "stream",
     "text": [
      "The sum is 338,350.\n"
     ]
    }
   ],
   "source": [
    "sumi = 0\n",
    "for i in range(0,101):\n",
    "    sumi = sumi + i**2 \n",
    "    \n",
    "print('The sum is {0:,}.'.format(sumi))"
   ]
  },
  {
   "cell_type": "markdown",
   "metadata": {},
   "source": [
    "## Question 3\n",
    "1. Write a function called `linear_demand` that takes a price as an input and returns the quantity demanded. The demand function is\n",
    "$$ d(p) = -2\\times p + 10$$\n",
    "\n"
   ]
  },
  {
   "cell_type": "code",
   "execution_count": 4,
   "metadata": {},
   "outputs": [],
   "source": [
    "def linear_demand(p):\n",
    "    return -2*p+10"
   ]
  },
  {
   "cell_type": "markdown",
   "metadata": {},
   "source": [
    "2. Using a loop or  list comprehension, compute demand for the following list of prices and store the associated demands in a list named `demands`. Print `demands`."
   ]
  },
  {
   "cell_type": "code",
   "execution_count": 5,
   "metadata": {},
   "outputs": [],
   "source": [
    "prices = [0.5, 0.75, 1, 1.2, 2, 2.25, 3.33333, 6]"
   ]
  },
  {
   "cell_type": "code",
   "execution_count": 6,
   "metadata": {},
   "outputs": [
    {
     "name": "stdout",
     "output_type": "stream",
     "text": [
      "demands (looping) = [9.0, 8.5, 8, 7.6, 6, 5.5, 3.3333399999999997, -2]\n",
      "demands (list comp) = [9.0, 8.5, 8, 7.6, 6, 5.5, 3.3333399999999997, -2]\n"
     ]
    }
   ],
   "source": [
    "# As a loop\n",
    "demands = []\n",
    "for i in range(len(prices)):\n",
    "    demands.append( linear_demand(prices[i]) )\n",
    "    \n",
    "print('demands (looping) =', demands)\n",
    "\n",
    "\n",
    "\n",
    "# As a list comp\n",
    "demands2  = [linear_demand(i) for i in prices]\n",
    "\n",
    "print('demands (list comp) =', demands2)"
   ]
  },
  {
   "cell_type": "markdown",
   "metadata": {},
   "source": [
    "3. Write a new function named `linear_demand_2` that computes demand as in part 1, but have the function return 0 if the computed demand is negative. "
   ]
  },
  {
   "cell_type": "code",
   "execution_count": 7,
   "metadata": {},
   "outputs": [],
   "source": [
    "def linear_demand_2(p):\n",
    "    d = -2*p+10\n",
    "    if d < 0:\n",
    "        d = 0\n",
    "    return d\n",
    "\n",
    "\n",
    "# If you are really feeling crazy...call a function in a function\n",
    "\n",
    "def linear_demand_3(p):\n",
    "    d = linear_demand(p)\n",
    "    if d < 0:\n",
    "        d = 0\n",
    "    return d"
   ]
  },
  {
   "cell_type": "markdown",
   "metadata": {},
   "source": [
    "4. Test your new function on `p=6` and `p=2.25`. Print the demands associated with each price."
   ]
  },
  {
   "cell_type": "code",
   "execution_count": 8,
   "metadata": {},
   "outputs": [
    {
     "name": "stdout",
     "output_type": "stream",
     "text": [
      "When p=6, demand is 0\n",
      "When p=2.25, demand is 5.5\n"
     ]
    }
   ],
   "source": [
    "print('When p=6, demand is', linear_demand_2(6))\n",
    "print('When p=2.25, demand is', linear_demand_2(2.25))"
   ]
  },
  {
   "cell_type": "markdown",
   "metadata": {},
   "source": [
    "## Question 4\n",
    "\n",
    "Now let's work with some data. This question should be completed using a pandas DataFrame. \n",
    "\n",
    "The Taylor rule relates the **target** federal funds rate $i$ to the inflation rate $\\pi$ and log output $y$ according to \n",
    "\n",
    "$$ i_t = \\pi_t + r^*_t + 0.5(\\pi_t-\\pi^*_t)+0.5(y_t-\\bar{y}_t)\\times100$$\n",
    "\n",
    "where $r^*$ is the 'long-run' real interest rate, $\\pi^*$ is the target interest rate and $\\bar{y}_t$ is log 'potential output'. \n",
    "\n",
    "Let the long-run interest rate and the inflation target be constant: $r^*_t=1.25$ and $\\pi^*_t=2.0$.\n",
    "\n",
    "### Data\n",
    "The file 'taylor.csv' contains quarterly data on the components of the Taylor rule:\n",
    "* DATE = the date, '.00' means the first quarter, '.25' means the second quarter, '.50' means the third quarter and '.75' means the fourth quarter. \n",
    "* PCETRIM12M159SFRBDAL = the inflation rate, expressed in percent\n",
    "* FEDFUNDS = the **actual** federal funds rate, expressed in percent\n",
    "* GDPPOT  = log potential GDP\n",
    "* GDPC1 = log GDP"
   ]
  },
  {
   "cell_type": "markdown",
   "metadata": {},
   "source": [
    "1. Load 'taylor.csv'. \\[Make sure the data are what you expect! We'll be using data from 1978-2019.\\] "
   ]
  },
  {
   "cell_type": "code",
   "execution_count": 9,
   "metadata": {},
   "outputs": [
    {
     "name": "stdout",
     "output_type": "stream",
     "text": [
      "      DATE  PCETRIM12M159SFRBDAL  FEDFUNDS    GDPPOT     GDPC1\n",
      "0  1949.00                   NaN       NaN  7.652973  7.652338\n",
      "1  1949.25                   NaN       NaN  7.665613  7.648921\n",
      "2  1949.50                   NaN       NaN  7.678326  7.659192\n",
      "3  1949.75                   NaN       NaN  7.691109  7.650764\n",
      "4  1950.00                   NaN       NaN  7.703955  7.689313\n",
      "DATE                    float64\n",
      "PCETRIM12M159SFRBDAL    float64\n",
      "FEDFUNDS                float64\n",
      "GDPPOT                  float64\n",
      "GDPC1                   float64\n",
      "dtype: object\n"
     ]
    }
   ],
   "source": [
    "import pandas as pd\n",
    "df = pd.read_csv('taylor.csv', na_values='.', header=1)\n",
    "print(df.head())\n",
    "print(df.dtypes)"
   ]
  },
  {
   "cell_type": "markdown",
   "metadata": {},
   "source": [
    "2. Rename \n",
    "   * 'PCETRIM12M159SFRBDAL' to 'inflation' \n",
    "   * 'GDPPOT' to 'pot_gdp'\n",
    "   * 'FEDFUNDS' to 'fed_funds'\n",
    "   * 'GDPC1' to 'gdp'"
   ]
  },
  {
   "cell_type": "code",
   "execution_count": 10,
   "metadata": {},
   "outputs": [
    {
     "data": {
      "text/html": [
       "<div>\n",
       "<style scoped>\n",
       "    .dataframe tbody tr th:only-of-type {\n",
       "        vertical-align: middle;\n",
       "    }\n",
       "\n",
       "    .dataframe tbody tr th {\n",
       "        vertical-align: top;\n",
       "    }\n",
       "\n",
       "    .dataframe thead th {\n",
       "        text-align: right;\n",
       "    }\n",
       "</style>\n",
       "<table border=\"1\" class=\"dataframe\">\n",
       "  <thead>\n",
       "    <tr style=\"text-align: right;\">\n",
       "      <th></th>\n",
       "      <th>inflation</th>\n",
       "      <th>fed_funds</th>\n",
       "      <th>pot_gdp</th>\n",
       "      <th>gdp</th>\n",
       "    </tr>\n",
       "    <tr>\n",
       "      <th>DATE</th>\n",
       "      <th></th>\n",
       "      <th></th>\n",
       "      <th></th>\n",
       "      <th></th>\n",
       "    </tr>\n",
       "  </thead>\n",
       "  <tbody>\n",
       "    <tr>\n",
       "      <th>1949.00</th>\n",
       "      <td>NaN</td>\n",
       "      <td>NaN</td>\n",
       "      <td>7.652973</td>\n",
       "      <td>7.652338</td>\n",
       "    </tr>\n",
       "    <tr>\n",
       "      <th>1949.25</th>\n",
       "      <td>NaN</td>\n",
       "      <td>NaN</td>\n",
       "      <td>7.665613</td>\n",
       "      <td>7.648921</td>\n",
       "    </tr>\n",
       "    <tr>\n",
       "      <th>1949.50</th>\n",
       "      <td>NaN</td>\n",
       "      <td>NaN</td>\n",
       "      <td>7.678326</td>\n",
       "      <td>7.659192</td>\n",
       "    </tr>\n",
       "    <tr>\n",
       "      <th>1949.75</th>\n",
       "      <td>NaN</td>\n",
       "      <td>NaN</td>\n",
       "      <td>7.691109</td>\n",
       "      <td>7.650764</td>\n",
       "    </tr>\n",
       "    <tr>\n",
       "      <th>1950.00</th>\n",
       "      <td>NaN</td>\n",
       "      <td>NaN</td>\n",
       "      <td>7.703955</td>\n",
       "      <td>7.689313</td>\n",
       "    </tr>\n",
       "  </tbody>\n",
       "</table>\n",
       "</div>"
      ],
      "text/plain": [
       "         inflation  fed_funds   pot_gdp       gdp\n",
       "DATE                                             \n",
       "1949.00        NaN        NaN  7.652973  7.652338\n",
       "1949.25        NaN        NaN  7.665613  7.648921\n",
       "1949.50        NaN        NaN  7.678326  7.659192\n",
       "1949.75        NaN        NaN  7.691109  7.650764\n",
       "1950.00        NaN        NaN  7.703955  7.689313"
      ]
     },
     "execution_count": 10,
     "metadata": {},
     "output_type": "execute_result"
    }
   ],
   "source": [
    "data = df.set_index('DATE')\n",
    "data = data.rename(columns={'PCETRIM12M159SFRBDAL':'inflation', 'GDPPOT':'pot_gdp', 'FEDFUNDS':'fed_funds', 'GDPC1':'gdp'})\n",
    "data.head()"
   ]
  },
  {
   "cell_type": "markdown",
   "metadata": {},
   "source": [
    "3. Using the data, compute the target federal funds rate using the Taylor rule equation. Store it in a variable named `taylori`."
   ]
  },
  {
   "cell_type": "code",
   "execution_count": 11,
   "metadata": {},
   "outputs": [],
   "source": [
    "data['taylori'] = data['inflation'] + 1.25 + 0.5*(data['inflation']-2.0) + 0.5*(data['gdp']-data['pot_gdp'])*100"
   ]
  },
  {
   "cell_type": "markdown",
   "metadata": {},
   "source": [
    "4. Compute  `taylori` - `fed_funds`. This is the difference between the Taylor rule's target fed funds rate and the actual fed funds rate. Store the difference in a variable named 'deviation'. "
   ]
  },
  {
   "cell_type": "code",
   "execution_count": 12,
   "metadata": {},
   "outputs": [
    {
     "data": {
      "text/html": [
       "<div>\n",
       "<style scoped>\n",
       "    .dataframe tbody tr th:only-of-type {\n",
       "        vertical-align: middle;\n",
       "    }\n",
       "\n",
       "    .dataframe tbody tr th {\n",
       "        vertical-align: top;\n",
       "    }\n",
       "\n",
       "    .dataframe thead th {\n",
       "        text-align: right;\n",
       "    }\n",
       "</style>\n",
       "<table border=\"1\" class=\"dataframe\">\n",
       "  <thead>\n",
       "    <tr style=\"text-align: right;\">\n",
       "      <th></th>\n",
       "      <th>inflation</th>\n",
       "      <th>fed_funds</th>\n",
       "      <th>pot_gdp</th>\n",
       "      <th>gdp</th>\n",
       "      <th>taylori</th>\n",
       "      <th>deviation</th>\n",
       "    </tr>\n",
       "    <tr>\n",
       "      <th>DATE</th>\n",
       "      <th></th>\n",
       "      <th></th>\n",
       "      <th></th>\n",
       "      <th></th>\n",
       "      <th></th>\n",
       "      <th></th>\n",
       "    </tr>\n",
       "  </thead>\n",
       "  <tbody>\n",
       "    <tr>\n",
       "      <th>1966.00</th>\n",
       "      <td>NaN</td>\n",
       "      <td>4.556667</td>\n",
       "      <td>8.334303</td>\n",
       "      <td>8.390880</td>\n",
       "      <td>NaN</td>\n",
       "      <td>NaN</td>\n",
       "    </tr>\n",
       "    <tr>\n",
       "      <th>2007.50</th>\n",
       "      <td>2.316667</td>\n",
       "      <td>5.073333</td>\n",
       "      <td>9.656103</td>\n",
       "      <td>9.659295</td>\n",
       "      <td>3.884630</td>\n",
       "      <td>-1.188703</td>\n",
       "    </tr>\n",
       "    <tr>\n",
       "      <th>1959.75</th>\n",
       "      <td>NaN</td>\n",
       "      <td>3.990000</td>\n",
       "      <td>8.075116</td>\n",
       "      <td>8.072080</td>\n",
       "      <td>NaN</td>\n",
       "      <td>NaN</td>\n",
       "    </tr>\n",
       "    <tr>\n",
       "      <th>1982.75</th>\n",
       "      <td>4.816667</td>\n",
       "      <td>9.286667</td>\n",
       "      <td>8.902428</td>\n",
       "      <td>8.825045</td>\n",
       "      <td>3.605832</td>\n",
       "      <td>-5.680834</td>\n",
       "    </tr>\n",
       "    <tr>\n",
       "      <th>1990.50</th>\n",
       "      <td>4.076667</td>\n",
       "      <td>8.160000</td>\n",
       "      <td>9.160951</td>\n",
       "      <td>9.148305</td>\n",
       "      <td>5.732737</td>\n",
       "      <td>-2.427263</td>\n",
       "    </tr>\n",
       "    <tr>\n",
       "      <th>2026.00</th>\n",
       "      <td>NaN</td>\n",
       "      <td>NaN</td>\n",
       "      <td>9.977718</td>\n",
       "      <td>NaN</td>\n",
       "      <td>NaN</td>\n",
       "      <td>NaN</td>\n",
       "    </tr>\n",
       "    <tr>\n",
       "      <th>1958.00</th>\n",
       "      <td>NaN</td>\n",
       "      <td>1.863333</td>\n",
       "      <td>8.009729</td>\n",
       "      <td>7.974627</td>\n",
       "      <td>NaN</td>\n",
       "      <td>NaN</td>\n",
       "    </tr>\n",
       "    <tr>\n",
       "      <th>1959.00</th>\n",
       "      <td>NaN</td>\n",
       "      <td>2.570000</td>\n",
       "      <td>8.047030</td>\n",
       "      <td>8.046209</td>\n",
       "      <td>NaN</td>\n",
       "      <td>NaN</td>\n",
       "    </tr>\n",
       "    <tr>\n",
       "      <th>2002.00</th>\n",
       "      <td>2.240000</td>\n",
       "      <td>1.733333</td>\n",
       "      <td>9.522776</td>\n",
       "      <td>9.502786</td>\n",
       "      <td>2.610510</td>\n",
       "      <td>0.877177</td>\n",
       "    </tr>\n",
       "    <tr>\n",
       "      <th>2005.25</th>\n",
       "      <td>2.220000</td>\n",
       "      <td>2.943333</td>\n",
       "      <td>9.609257</td>\n",
       "      <td>9.605067</td>\n",
       "      <td>3.370470</td>\n",
       "      <td>0.427137</td>\n",
       "    </tr>\n",
       "  </tbody>\n",
       "</table>\n",
       "</div>"
      ],
      "text/plain": [
       "         inflation  fed_funds   pot_gdp       gdp   taylori  deviation\n",
       "DATE                                                                  \n",
       "1966.00        NaN   4.556667  8.334303  8.390880       NaN        NaN\n",
       "2007.50   2.316667   5.073333  9.656103  9.659295  3.884630  -1.188703\n",
       "1959.75        NaN   3.990000  8.075116  8.072080       NaN        NaN\n",
       "1982.75   4.816667   9.286667  8.902428  8.825045  3.605832  -5.680834\n",
       "1990.50   4.076667   8.160000  9.160951  9.148305  5.732737  -2.427263\n",
       "2026.00        NaN        NaN  9.977718       NaN       NaN        NaN\n",
       "1958.00        NaN   1.863333  8.009729  7.974627       NaN        NaN\n",
       "1959.00        NaN   2.570000  8.047030  8.046209       NaN        NaN\n",
       "2002.00   2.240000   1.733333  9.522776  9.502786  2.610510   0.877177\n",
       "2005.25   2.220000   2.943333  9.609257  9.605067  3.370470   0.427137"
      ]
     },
     "execution_count": 12,
     "metadata": {},
     "output_type": "execute_result"
    }
   ],
   "source": [
    "data['deviation'] = data['taylori'] - data['fed_funds']\n",
    "data.sample(10)"
   ]
  },
  {
   "cell_type": "markdown",
   "metadata": {},
   "source": [
    "5. Print out the following, each with three digits to the right of the decimal place. \n",
    "   1. The mean and max deviation for 1978-2019\n",
    "   2. The mean and max deviation for 1978-1985\n",
    "   3. The mean and max deviation for 2008-2019\n",
    "   \n",
    "Print them out as statements like: \n",
    "\n",
    "'1978-2019: The mean deviation is x.xxx percent and the max deviation is x.xxx percent.'"
   ]
  },
  {
   "cell_type": "code",
   "execution_count": 13,
   "metadata": {},
   "outputs": [
    {
     "name": "stdout",
     "output_type": "stream",
     "text": [
      "1978-2019: The mean deviation is -0.880 percent and the max deviation is 2.588 percent.\n",
      "1978-1985: The mean deviation is -2.942 percent and the max deviation is 2.588 percent.\n",
      "2008-2019: The mean deviation is  1.141 percent and the max deviation is 2.177 percent.\n"
     ]
    }
   ],
   "source": [
    "print('1978-2019: The mean deviation is {0:.3f} percent and the max deviation is {1:.3f} percent.'.format(data['deviation'].loc[1978:2019].mean(), data['deviation'].loc[1978:2019].max()))\n",
    "print('1978-1985: The mean deviation is {0:.3f} percent and the max deviation is {1:.3f} percent.'.format(data['deviation'].loc[1978:1985].mean(), data['deviation'].loc[1978:1985].max()))\n",
    "print('2008-2019: The mean deviation is {0:6.3f} percent and the max deviation is {1:.3f} percent.'.format(data['deviation'].loc[2008:2019].mean(), data['deviation'].loc[2008:2019].max()))\n"
   ]
  },
  {
   "cell_type": "markdown",
   "metadata": {},
   "source": [
    "### You are finished!\n",
    "Upload your completed notebook to Canvas. \n",
    "\n",
    "\\[Well, not this one, because it is a practice. You could take the [survey](https://forms.gle/pVKQ2Qjz9ez8X4U98), though, to let me know how it went.\\]"
   ]
  }
 ],
 "metadata": {
  "celltoolbar": "Attachments",
  "kernelspec": {
   "display_name": "Python 3",
   "language": "python",
   "name": "python3"
  },
  "language_info": {
   "codemirror_mode": {
    "name": "ipython",
    "version": 3
   },
   "file_extension": ".py",
   "mimetype": "text/x-python",
   "name": "python",
   "nbconvert_exporter": "python",
   "pygments_lexer": "ipython3",
   "version": "3.7.3"
  }
 },
 "nbformat": 4,
 "nbformat_minor": 2
}
