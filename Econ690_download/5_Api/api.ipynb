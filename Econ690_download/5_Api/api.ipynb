{
 "cells": [
  {
   "cell_type": "markdown",
   "metadata": {},
   "source": [
    "## Web APIs for data\n",
    "\n",
    "files needed = (None! It's all coming from the cloud.)\n",
    "\n",
    "We have been loading data from files using `read_csv()` and `read_excel()`. A second way to input data to pandas is by directly downloading data from a web server through an *application programming interface* or api. \n",
    "\n",
    "The [wikipedia page](https://en.wikipedia.org/wiki/Web_API) isn't that insightful, but an api is a way to directly query a webserver and (in our case) ask for data. An api provides several advantages\n",
    "1. You only download the data you need\n",
    "2. You do not need to distribute data files with your code\n",
    "3. You have access to the 'freshest data'\n",
    "\n",
    "There are downsides, to using apis, too.\n",
    "\n",
    "1. You need to be online to retrieve the data\n",
    "2. The group hosting the data may 'revise' the data, making it difficult to replicate you results\n",
    "3. The api may change, breaking your code.\n",
    "\n",
    "On the whole, I find apis very convenient and useful. Let's dig in. "
   ]
  },
  {
   "cell_type": "markdown",
   "metadata": {},
   "source": [
    "### The packages\n",
    "The package `pandas_datareader` collects functions that interact with several popular data sources to access their apis. Thes include\n",
    "* ~~Google finance~~\n",
    "* Morningstar\n",
    "* St. Louis Fed's Fred (one of my favorites)\n",
    "* The World Bank\n",
    "* Eurostat\n",
    "* Quandl\n"
   ]
  },
  {
   "cell_type": "markdown",
   "metadata": {},
   "source": [
    "### API keys\n",
    "\n",
    "Many data providers do not want some anonymous account connecting to the api and downloading data. These providers ask you to create an account and you are given an *api key* that you pass along with your request. Sometimes keys are free, sometimes they are not.\n",
    "\n",
    "In this notebook, we will go through a few examples that do not require api keys. At the end of the notebook are a few examples that need api keys. If you sign up for (free) keys, you can try the examples out. We will not go through them in class, because your api key should only be used by you. "
   ]
  },
  {
   "cell_type": "markdown",
   "metadata": {},
   "source": [
    "### A quick detour: Installing packages with pip\n",
    "We use the Anaconda distribution, which bundles python with many [other useful packages](https://docs.anaconda.com/anaconda/packages/py3.7_win-64/). `pandas_datareader`, however, is not one that is installed by default. \\[Remember, we need to *install* a package before we can *import* it. We only need to install the package once.\\]\n",
    "\n",
    "We will install the package using 'pip' the python package manager. \n",
    "1. Open a command window (open the start menu and type: 'cmd'). \n",
    "2. Run the command `pip install --user pandas_datareader` and hit enter\n",
    "\n",
    "That should do it. It might take a minute, and fill the command window with text, but in the end it should have installed. You will probably see a message about updating pip. We can safely ignore it. You can see what packages are installed by running `pip list` at the command prompt.\n",
    "\n",
    "Now that the package is installed, we can import it into our program like usual. "
   ]
  },
  {
   "cell_type": "code",
   "execution_count": 28,
   "metadata": {},
   "outputs": [],
   "source": [
    "import pandas as pd                       # pandas, shortened to pd\n",
    "\n",
    "# If you receive an error while trying to load data_reader try uncommenting the line below\n",
    "# This is/was a problem with an older version of pandas_datareader\n",
    "# pd.core.common.is_list_like = pd.api.types.is_list_like\n",
    "\n",
    "from pandas_datareader import data, wb    # we are grabbing the data and wb functions from the package\n",
    "import matplotlib.pyplot as plt           # for plotting\n",
    "import datetime as dt                     # for time and date"
   ]
  },
  {
   "cell_type": "markdown",
   "metadata": {},
   "source": [
    "### FRED\n",
    "The FRED database is hosted by the St. Louis FRB. It houses lots of economic and financial data. It is US-centric but has some international data, too. \n",
    "\n",
    "To use the FRED api you need to know the variable codes. The easiest way to do it to search on the [FRED website](https://fred.stlouisfed.org/).  \n",
    "\n",
    "The pandas_datareader documentation for FRED is [here](https://pandas-datareader.readthedocs.io/en/latest/remote_data.html#fred)."
   ]
  },
  {
   "cell_type": "code",
   "execution_count": null,
   "metadata": {},
   "outputs": [],
   "source": [
    "codes = ['GDPCA', 'LFWA64TTUSA647N']  # these codes are for real US gdp and the working age poplulation\n",
    "                                      # the first code seems intuitive. the second does not\n",
    "    \n",
    "# We have the codes. Now go get the data. The DataReader() function returns a DataFrame\n",
    "# Create datetime objects for the start date. If you do not spec an end date it returns up to the most\n",
    "# recent date\n",
    "start = dt.datetime(1970, 1, 1)\n",
    "fred = data.DataReader(codes, 'fred', start)\n",
    "\n",
    "fred.head()\n"
   ]
  },
  {
   "cell_type": "code",
   "execution_count": null,
   "metadata": {},
   "outputs": [],
   "source": [
    "fred.columns = ['gdp', 'wap']           # give the variables some reasonable names\n",
    "\n",
    "# Let's plot real gdp per working age person\n",
    "fred['gdp_wap'] = fred['gdp']*1000000000/fred['wap']  # gdp data is in billions\n",
    "\n",
    "fred.head()"
   ]
  },
  {
   "cell_type": "code",
   "execution_count": null,
   "metadata": {},
   "outputs": [],
   "source": [
    "\n",
    "fig, ax = plt.subplots(figsize=(10,5))\n",
    "ax.plot(fred.index, fred['gdp_wap'], color='red')\n",
    "\n",
    "ax.set_ylabel('2012 dollars')\n",
    "ax.set_title('U.S. real GDP per working-age person')\n",
    "\n",
    "ax.spines['top'].set_visible(False)\n",
    "ax.spines['right'].set_visible(False)\n",
    "\n",
    "plt.show()\n",
    "\n"
   ]
  },
  {
   "cell_type": "markdown",
   "metadata": {},
   "source": [
    "### Stooq for indexes\n",
    "\n",
    "Stooq provides historical pricing for indexes ([docs](https://pandas-datareader.readthedocs.io/en/latest/readers/stooq.html)). Let's grab the data for the Dow Jones Industrial Index.  "
   ]
  },
  {
   "cell_type": "code",
   "execution_count": 32,
   "metadata": {},
   "outputs": [],
   "source": [
    "dj = data.DataReader('^DJI', 'stooq')"
   ]
  },
  {
   "cell_type": "code",
   "execution_count": null,
   "metadata": {},
   "outputs": [],
   "source": [
    "print(dj.head())\n",
    "print(dj.tail())\n"
   ]
  },
  {
   "cell_type": "code",
   "execution_count": null,
   "metadata": {},
   "outputs": [],
   "source": [
    "fig, ax = plt.subplots(figsize=(10,5))\n",
    "\n",
    "ax.plot(dj.index, dj['Close'], color='blue')\n",
    "\n",
    "ax.set_ylabel('closing price')\n",
    "ax.set_title('Dow Jones Industrials')\n",
    "\n",
    "ax.spines['top'].set_visible(False)\n",
    "ax.spines['right'].set_visible(False)\n",
    "\n",
    "plt.show()"
   ]
  },
  {
   "cell_type": "markdown",
   "metadata": {},
   "source": [
    "## Practice: APIs\n",
    "\n",
    "Take a few minutes and try the following. Feel free to chat with those around if you get stuck. The TA and I are here, too.\n",
    "\n",
    "How has inflation in the United States evolved over the last 60 years? Let's investigate.\n",
    "\n",
    "1. Go the FRED website and find the code for the 'Consumer price index for all urban consumers: All items less food and energy' \n",
    "2. Use the api to get the data from 1960 to the most recent. "
   ]
  },
  {
   "cell_type": "markdown",
   "metadata": {},
   "source": [
    "3. Create a variable in your DataFrame that hold the growth rate of the CPI --- the inflation rate. Compute it in percentage terms."
   ]
  },
  {
   "cell_type": "markdown",
   "metadata": {},
   "source": [
    "4. Plot it. What patterns do you see? "
   ]
  },
  {
   "cell_type": "markdown",
   "metadata": {},
   "source": [
    "5. Challenging. We computed the month-to-month inflation rate above. This is not the inflation rate we usually care about. Can you compute and plot the year-over-year inflation rate? For example, the inflation rate for 1962-05-01 would be the cpi in 1962-05-01 divided by the cpi in 1961-05-01. \\[Hint: Check the documentation for `pct_change()`."
   ]
  },
  {
   "cell_type": "markdown",
   "metadata": {},
   "source": [
    "6. Annotate the decrease in inflaton around 1983 as 'Volker disinflation'"
   ]
  },
  {
   "cell_type": "markdown",
   "metadata": {},
   "source": [
    "# The example below requires and api key\n",
    "\n",
    "Where you see the code `your_api_key` is where you should enter your api key. The examples should work then. "
   ]
  },
  {
   "cell_type": "markdown",
   "metadata": {},
   "source": [
    "### Stock prices with iex\n",
    "\n",
    "According to the [docs](https://pandas-datareader.readthedocs.io/en/latest/remote_data.html#morningstar):\n",
    ">The Investors Exchange (IEX) provides a wide range of data through an API. Historical stock prices are available for up to 5 years.\n",
    "\n",
    "IEX is one of those companies that requires an api key. These keys can be [pricey](https://iexcloud.io/pricing/) because their target market are business and app developers. They offer a free key, though for experimentation. Very cool of them. \n",
    "\n",
    "You can sign up here: [https://iexcloud.io/cloud-login#/register/](https://iexcloud.io/cloud-login#/register/)"
   ]
  },
  {
   "cell_type": "code",
   "execution_count": 40,
   "metadata": {},
   "outputs": [],
   "source": [
    "# Sometimes you pass your key in the DataReader method. In this case, you save your key as an environmental variable. \n",
    "\n",
    "import os\n",
    "os.environ[\"IEX_API_KEY\"] = 'your_api_key'"
   ]
  },
  {
   "cell_type": "code",
   "execution_count": 23,
   "metadata": {},
   "outputs": [],
   "source": [
    "# Harley Davidson prices. The ticker is 'HOG'\n",
    "\n",
    "start = dt.datetime(2016, 9, 1)\n",
    "end = dt.datetime(2018, 9, 1)\n",
    "\n",
    "harley = data.DataReader('HOG', 'iex', start, end)"
   ]
  },
  {
   "cell_type": "code",
   "execution_count": 24,
   "metadata": {},
   "outputs": [
    {
     "data": {
      "text/html": [
       "<div>\n",
       "<style scoped>\n",
       "    .dataframe tbody tr th:only-of-type {\n",
       "        vertical-align: middle;\n",
       "    }\n",
       "\n",
       "    .dataframe tbody tr th {\n",
       "        vertical-align: top;\n",
       "    }\n",
       "\n",
       "    .dataframe thead th {\n",
       "        text-align: right;\n",
       "    }\n",
       "</style>\n",
       "<table border=\"1\" class=\"dataframe\">\n",
       "  <thead>\n",
       "    <tr style=\"text-align: right;\">\n",
       "      <th></th>\n",
       "      <th>open</th>\n",
       "      <th>high</th>\n",
       "      <th>low</th>\n",
       "      <th>close</th>\n",
       "      <th>volume</th>\n",
       "    </tr>\n",
       "    <tr>\n",
       "      <th>date</th>\n",
       "      <th></th>\n",
       "      <th></th>\n",
       "      <th></th>\n",
       "      <th></th>\n",
       "      <th></th>\n",
       "    </tr>\n",
       "  </thead>\n",
       "  <tbody>\n",
       "    <tr>\n",
       "      <th>2016-09-01</th>\n",
       "      <td>52.88</td>\n",
       "      <td>53.27</td>\n",
       "      <td>52.33</td>\n",
       "      <td>52.89</td>\n",
       "      <td>1110510</td>\n",
       "    </tr>\n",
       "    <tr>\n",
       "      <th>2016-09-02</th>\n",
       "      <td>53.17</td>\n",
       "      <td>53.38</td>\n",
       "      <td>52.76</td>\n",
       "      <td>53.09</td>\n",
       "      <td>960746</td>\n",
       "    </tr>\n",
       "    <tr>\n",
       "      <th>2016-09-06</th>\n",
       "      <td>53.33</td>\n",
       "      <td>53.60</td>\n",
       "      <td>52.36</td>\n",
       "      <td>52.42</td>\n",
       "      <td>2553778</td>\n",
       "    </tr>\n",
       "    <tr>\n",
       "      <th>2016-09-07</th>\n",
       "      <td>52.54</td>\n",
       "      <td>53.08</td>\n",
       "      <td>52.30</td>\n",
       "      <td>52.71</td>\n",
       "      <td>2013150</td>\n",
       "    </tr>\n",
       "    <tr>\n",
       "      <th>2016-09-08</th>\n",
       "      <td>52.70</td>\n",
       "      <td>52.95</td>\n",
       "      <td>51.65</td>\n",
       "      <td>52.38</td>\n",
       "      <td>1845040</td>\n",
       "    </tr>\n",
       "  </tbody>\n",
       "</table>\n",
       "</div>"
      ],
      "text/plain": [
       "             open   high    low  close   volume\n",
       "date                                           \n",
       "2016-09-01  52.88  53.27  52.33  52.89  1110510\n",
       "2016-09-02  53.17  53.38  52.76  53.09   960746\n",
       "2016-09-06  53.33  53.60  52.36  52.42  2553778\n",
       "2016-09-07  52.54  53.08  52.30  52.71  2013150\n",
       "2016-09-08  52.70  52.95  51.65  52.38  1845040"
      ]
     },
     "execution_count": 24,
     "metadata": {},
     "output_type": "execute_result"
    }
   ],
   "source": [
    "harley.head()\n"
   ]
  },
  {
   "cell_type": "code",
   "execution_count": 25,
   "metadata": {},
   "outputs": [
    {
     "data": {
      "image/png": "[encoded data removed]",
      "text/plain": [
       "<Figure size 720x360 with 1 Axes>"
      ]
     },
     "metadata": {
      "needs_background": "light"
     },
     "output_type": "display_data"
    }
   ],
   "source": [
    "fig, ax = plt.subplots(figsize=(10,5))\n",
    "ax.plot(harley.index, harley['close'], color='blue')\n",
    "\n",
    "ax.set_ylabel('closing price')\n",
    "ax.set_title('Harley Davidson stock prices')\n",
    "\n",
    "ax.spines['top'].set_visible(False)\n",
    "ax.spines['right'].set_visible(False)\n",
    "\n",
    "plt.show()"
   ]
  },
  {
   "cell_type": "code",
   "execution_count": 26,
   "metadata": {},
   "outputs": [],
   "source": [
    "# Ahhh! Not a good looking figure.\n",
    "\n",
    "# We need to set the index to a datetime object so mpl can get the axis right...\n",
    "harley.index = pd.to_datetime(harley.index)"
   ]
  },
  {
   "cell_type": "code",
   "execution_count": 27,
   "metadata": {},
   "outputs": [
    {
     "data": {
      "image/png": "[encoded data removed]",
      "text/plain": [
       "<Figure size 720x360 with 1 Axes>"
      ]
     },
     "metadata": {
      "needs_background": "light"
     },
     "output_type": "display_data"
    }
   ],
   "source": [
    "fig, ax = plt.subplots(figsize=(10,5))\n",
    "ax.plot(harley.index, harley['close'], color='blue')\n",
    "\n",
    "ax.set_ylabel('closing price')\n",
    "ax.set_title('Harley Davidson stock prices')\n",
    "\n",
    "ax.spines['top'].set_visible(False)\n",
    "ax.spines['right'].set_visible(False)\n",
    "\n",
    "plt.show()"
   ]
  }
 ],
 "metadata": {
  "celltoolbar": "Attachments",
  "kernelspec": {
   "display_name": "Python 3",
   "language": "python",
   "name": "python3"
  },
  "language_info": {
   "codemirror_mode": {
    "name": "ipython",
    "version": 3
   },
   "file_extension": ".py",
   "mimetype": "text/x-python",
   "name": "python",
   "nbconvert_exporter": "python",
   "pygments_lexer": "ipython3",
   "version": "3.7.3"
  }
 },
 "nbformat": 4,
 "nbformat_minor": 2
}
