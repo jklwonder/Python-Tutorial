{
 "cells": [
  {
   "cell_type": "markdown",
   "metadata": {},
   "source": [
    "# Coding practice \\#4: Due midnight, November 15\n",
    "\n",
    "files needed = ('pwt91.xlsx')\n",
    "\n",
    "Answer the questions below in a jupyter notebook. You can simply add cells to this notebook and enter your answers. When you are finished, upload the completed notebook to canvas. \n",
    "\n",
    "A reminder: My office hours are Tuesdays 2:30PM-3:30PM and Thursdays 9:45AM-10:45AM in Soc Sci 7444. You can also send me questions by email. \n",
    "\n",
    "*You should feel free to discuss the coding practice with your classmates, but the work you turn in should be your own.*"
   ]
  },
  {
   "cell_type": "markdown",
   "metadata": {},
   "source": [
    "# Exercise 0: Ruhl, Kim\n",
    "Replace 'Your name' above with your actual name. Enter it as: last name, first name."
   ]
  },
  {
   "cell_type": "markdown",
   "metadata": {},
   "source": [
    "## Exercise 2: Shaping data\n",
    "\n",
    "We are working with the Penn World Tables today. The 'PWT' as they call it, is a panel data set of countries. The value here is that the variables are adjusted for purchasing power parity, making them comparable across countries. The data are [here](https://www.rug.nl/ggdc/productivity/pwt/). "
   ]
  },
  {
   "cell_type": "markdown",
   "metadata": {},
   "source": [
    "1. Load the data from 'pwt91.xlsx' into a DataFrame. Name the DataFrame 'pwt'.\n",
    "2. Drop the variable 'country'."
   ]
  },
  {
   "cell_type": "markdown",
   "metadata": {},
   "source": [
    "3. Using whatever methods you prefer (stack, unstack, melt, pivot, transpose, set_index, etc.) shape the data so that the **row index** is the date and the **column index** is a multiIndex with the variable name at the top level, the country code at the second level and the currency unit at the third level."
   ]
  },
  {
   "cell_type": "markdown",
   "metadata": {},
   "source": [
    "4. Create a new DataFrame named 'gdp_cap' that contains real GDP per capita (`rgdpe`/`pop`) for the 182 countries in the data set. You should **not** use a loop to do this. \\[You might try `xs()`...or something else!\\]"
   ]
  },
  {
   "cell_type": "markdown",
   "metadata": {},
   "source": [
    "5. Create another new DataFrame named 'con_share' that contains the share of GDP expenditure that goes to consumption (`ccon`/`cgdpe`) for the 182 countries in the data set. You should **not** use a loop to do this. "
   ]
  },
  {
   "cell_type": "markdown",
   "metadata": {},
   "source": [
    "## Exercise 3: Merging \n",
    "\n",
    "Let's merge our two new DataFrames together. "
   ]
  },
  {
   "cell_type": "markdown",
   "metadata": {},
   "source": [
    "1. Begin by stacking each DataFrames so that the row index is a MultiIndex of 'year', 'countrycode' and 'currency_unit'.\n",
    "2. The two DataFrames are now Series. The Series do not have names. Change the name attribute of gdp_cap by \n",
    "```python\n",
    "gdp_cap.name = 'gdp_cap'\n",
    "```\n",
    "3. Do the same for the consumption share Series, setting the name to 'con_share'"
   ]
  },
  {
   "cell_type": "markdown",
   "metadata": {},
   "source": [
    "4. Merge the two Series to create a DataFrame named 'plot_data'. (Since we named the two Series objects, our columns will have nice column names.)"
   ]
  },
  {
   "cell_type": "markdown",
   "metadata": {},
   "source": [
    "## Exercise 4: Plotting\n",
    "\n",
    "1. Create a bar plot of GDP per capita in 1950 for the South American countries in the list below\n",
    "   1. Sort the bars in ascending order\n",
    "   2. Make the bars green. Change the alpha if you think it makes the figure look better.\n",
    "   3. Add a title and label the y axis\n",
    "   4. Set the title font size to 18, the y-axis label to 16\n",
    "   5. Set the tick labels font size to 14 \\[try googling `tick_params`\\]\n",
    "\n",
    "```python\n",
    "sa = ['ARG', 'BOL', 'CHL', 'URY', 'PRY', 'BRA', 'PER', 'EDU', 'COL', 'VEN']\n",
    "\n",
    "```\n",
    "   "
   ]
  },
  {
   "cell_type": "markdown",
   "metadata": {},
   "source": [
    "2. Create a scatter plot with GDP per capita on the y axis and consumption share on the x axis. This plot should include every country in your data set\n",
    "   1. Set the marker color to blue and size to 20 for all countries that are not in the list of South American countries\n",
    "   2. Set the marker color to green and size to 80 for the countries in the list of South American countries\n",
    "   3. Label the South American markers with  name in 'countrycode'. Choose an appropriate size for the labels so that they are easy to read. \n",
    "   4. Resize all the axis labels as in part 1\n",
    "  "
   ]
  }
 ],
 "metadata": {
  "celltoolbar": "Edit Metadata",
  "kernelspec": {
   "display_name": "Python 3",
   "language": "python",
   "name": "python3"
  },
  "language_info": {
   "codemirror_mode": {
    "name": "ipython",
    "version": 3
   },
   "file_extension": ".py",
   "mimetype": "text/x-python",
   "name": "python",
   "nbconvert_exporter": "python",
   "pygments_lexer": "ipython3",
   "version": "3.7.3"
  }
 },
 "nbformat": 4,
 "nbformat_minor": 2
}
