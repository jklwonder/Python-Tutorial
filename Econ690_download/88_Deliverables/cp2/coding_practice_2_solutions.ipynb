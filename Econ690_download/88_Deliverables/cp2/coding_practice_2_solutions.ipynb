{
 "cells": [
  {
   "cell_type": "markdown",
   "metadata": {},
   "source": [
    "# Coding practice \\#2: Due midnight, October 11\n",
    "\n",
    "files needed = ('banks_and_branches.csv', 'GDPCA.csv')\n",
    "\n",
    "Answer the questions below in a jupyter notebook. You can simply add cells to this notebook and enter your answers. When you are finished, upload the completed notebook to canvas. \n",
    "\n",
    "A reminder: My office hours are Tuesdays 2:30PM-3:30PM and Thursdays 10:00AM-11:00AM in Soc Sci 7444.\n",
    "\n",
    "*You should feel free to discuss the coding practice with your classmates, but the work you turn in should be your own.*"
   ]
  },
  {
   "cell_type": "markdown",
   "metadata": {},
   "source": [
    "# Exercise 0: Ruhl, Kim\n",
    "Replace 'Your name' above with your actual name. Enter it as: last name, first name."
   ]
  },
  {
   "cell_type": "markdown",
   "metadata": {},
   "source": [
    "# Exercise 1: Subsets\n",
    "Let's practice pulling subsets out of a data frame. We subset a lot. Our goal is to build some muscle memory, so that every time we need to subset the data, we do not need to go look up how to do it. \n",
    "\n",
    "To this end, first try the exercises below without consulting your notes or the internet. Sort out where you need to improve and keep practicing! \n",
    "\n",
    "A. Create a DataFrame from the following dict. "
   ]
  },
  {
   "cell_type": "code",
   "execution_count": 1,
   "metadata": {},
   "outputs": [
    {
     "data": {
      "text/html": [
       "<div>\n",
       "<style scoped>\n",
       "    .dataframe tbody tr th:only-of-type {\n",
       "        vertical-align: middle;\n",
       "    }\n",
       "\n",
       "    .dataframe tbody tr th {\n",
       "        vertical-align: top;\n",
       "    }\n",
       "\n",
       "    .dataframe thead th {\n",
       "        text-align: right;\n",
       "    }\n",
       "</style>\n",
       "<table border=\"1\" class=\"dataframe\">\n",
       "  <thead>\n",
       "    <tr style=\"text-align: right;\">\n",
       "      <th></th>\n",
       "      <th>soda</th>\n",
       "      <th>cals</th>\n",
       "      <th>sodium</th>\n",
       "      <th>corp</th>\n",
       "    </tr>\n",
       "  </thead>\n",
       "  <tbody>\n",
       "    <tr>\n",
       "      <th>0</th>\n",
       "      <td>coke</td>\n",
       "      <td>140</td>\n",
       "      <td>45</td>\n",
       "      <td>coca cola</td>\n",
       "    </tr>\n",
       "    <tr>\n",
       "      <th>1</th>\n",
       "      <td>diet coke</td>\n",
       "      <td>1</td>\n",
       "      <td>40</td>\n",
       "      <td>coca cola</td>\n",
       "    </tr>\n",
       "    <tr>\n",
       "      <th>2</th>\n",
       "      <td>sprite</td>\n",
       "      <td>90</td>\n",
       "      <td>65</td>\n",
       "      <td>coca cola</td>\n",
       "    </tr>\n",
       "    <tr>\n",
       "      <th>3</th>\n",
       "      <td>pepsi</td>\n",
       "      <td>150</td>\n",
       "      <td>30</td>\n",
       "      <td>pepsico</td>\n",
       "    </tr>\n",
       "    <tr>\n",
       "      <th>4</th>\n",
       "      <td>mug</td>\n",
       "      <td>130</td>\n",
       "      <td>65</td>\n",
       "      <td>pepsico</td>\n",
       "    </tr>\n",
       "    <tr>\n",
       "      <th>5</th>\n",
       "      <td>mt. dew</td>\n",
       "      <td>170</td>\n",
       "      <td>60</td>\n",
       "      <td>pepsico</td>\n",
       "    </tr>\n",
       "  </tbody>\n",
       "</table>\n",
       "</div>"
      ],
      "text/plain": [
       "        soda  cals  sodium       corp\n",
       "0       coke   140      45  coca cola\n",
       "1  diet coke     1      40  coca cola\n",
       "2     sprite    90      65  coca cola\n",
       "3      pepsi   150      30    pepsico\n",
       "4        mug   130      65    pepsico\n",
       "5    mt. dew   170      60    pepsico"
      ]
     },
     "execution_count": 1,
     "metadata": {},
     "output_type": "execute_result"
    }
   ],
   "source": [
    "import pandas as pd\n",
    "import matplotlib.pyplot as plt\n",
    "\n",
    "data_dict = {'soda':['coke', 'diet coke', 'sprite', 'pepsi', 'mug', 'mt. dew'],\n",
    "            'cals':[140, 1, 90, 150, 130, 170],\n",
    "            'sodium':[45, 40, 65, 30, 65, 60],\n",
    "            'corp': ['coca cola', 'coca cola', 'coca cola', 'pepsico', 'pepsico', 'pepsico']}\n",
    "\n",
    "soda = pd.DataFrame(data_dict)\n",
    "soda"
   ]
  },
  {
   "cell_type": "markdown",
   "metadata": {},
   "source": [
    "B. Print a DataFrame containing only sodas with more than 10 calories."
   ]
  },
  {
   "cell_type": "code",
   "execution_count": 2,
   "metadata": {},
   "outputs": [
    {
     "data": {
      "text/html": [
       "<div>\n",
       "<style scoped>\n",
       "    .dataframe tbody tr th:only-of-type {\n",
       "        vertical-align: middle;\n",
       "    }\n",
       "\n",
       "    .dataframe tbody tr th {\n",
       "        vertical-align: top;\n",
       "    }\n",
       "\n",
       "    .dataframe thead th {\n",
       "        text-align: right;\n",
       "    }\n",
       "</style>\n",
       "<table border=\"1\" class=\"dataframe\">\n",
       "  <thead>\n",
       "    <tr style=\"text-align: right;\">\n",
       "      <th></th>\n",
       "      <th>soda</th>\n",
       "      <th>cals</th>\n",
       "      <th>sodium</th>\n",
       "      <th>corp</th>\n",
       "    </tr>\n",
       "  </thead>\n",
       "  <tbody>\n",
       "    <tr>\n",
       "      <th>0</th>\n",
       "      <td>coke</td>\n",
       "      <td>140</td>\n",
       "      <td>45</td>\n",
       "      <td>coca cola</td>\n",
       "    </tr>\n",
       "    <tr>\n",
       "      <th>2</th>\n",
       "      <td>sprite</td>\n",
       "      <td>90</td>\n",
       "      <td>65</td>\n",
       "      <td>coca cola</td>\n",
       "    </tr>\n",
       "    <tr>\n",
       "      <th>3</th>\n",
       "      <td>pepsi</td>\n",
       "      <td>150</td>\n",
       "      <td>30</td>\n",
       "      <td>pepsico</td>\n",
       "    </tr>\n",
       "    <tr>\n",
       "      <th>4</th>\n",
       "      <td>mug</td>\n",
       "      <td>130</td>\n",
       "      <td>65</td>\n",
       "      <td>pepsico</td>\n",
       "    </tr>\n",
       "    <tr>\n",
       "      <th>5</th>\n",
       "      <td>mt. dew</td>\n",
       "      <td>170</td>\n",
       "      <td>60</td>\n",
       "      <td>pepsico</td>\n",
       "    </tr>\n",
       "  </tbody>\n",
       "</table>\n",
       "</div>"
      ],
      "text/plain": [
       "      soda  cals  sodium       corp\n",
       "0     coke   140      45  coca cola\n",
       "2   sprite    90      65  coca cola\n",
       "3    pepsi   150      30    pepsico\n",
       "4      mug   130      65    pepsico\n",
       "5  mt. dew   170      60    pepsico"
      ]
     },
     "execution_count": 2,
     "metadata": {},
     "output_type": "execute_result"
    }
   ],
   "source": [
    "soda[soda['cals']>10]"
   ]
  },
  {
   "cell_type": "markdown",
   "metadata": {},
   "source": [
    "C. Print a DataFrame containing only sodas with more than 10 calories and less than 100 calories."
   ]
  },
  {
   "cell_type": "code",
   "execution_count": 3,
   "metadata": {},
   "outputs": [
    {
     "data": {
      "text/html": [
       "<div>\n",
       "<style scoped>\n",
       "    .dataframe tbody tr th:only-of-type {\n",
       "        vertical-align: middle;\n",
       "    }\n",
       "\n",
       "    .dataframe tbody tr th {\n",
       "        vertical-align: top;\n",
       "    }\n",
       "\n",
       "    .dataframe thead th {\n",
       "        text-align: right;\n",
       "    }\n",
       "</style>\n",
       "<table border=\"1\" class=\"dataframe\">\n",
       "  <thead>\n",
       "    <tr style=\"text-align: right;\">\n",
       "      <th></th>\n",
       "      <th>soda</th>\n",
       "      <th>cals</th>\n",
       "      <th>sodium</th>\n",
       "      <th>corp</th>\n",
       "    </tr>\n",
       "  </thead>\n",
       "  <tbody>\n",
       "    <tr>\n",
       "      <th>2</th>\n",
       "      <td>sprite</td>\n",
       "      <td>90</td>\n",
       "      <td>65</td>\n",
       "      <td>coca cola</td>\n",
       "    </tr>\n",
       "  </tbody>\n",
       "</table>\n",
       "</div>"
      ],
      "text/plain": [
       "     soda  cals  sodium       corp\n",
       "2  sprite    90      65  coca cola"
      ]
     },
     "execution_count": 3,
     "metadata": {},
     "output_type": "execute_result"
    }
   ],
   "source": [
    "soda[ (soda['cals']>10) & (soda['cals']< 100)]"
   ]
  },
  {
   "cell_type": "markdown",
   "metadata": {},
   "source": [
    "D. Print a DataFrame containing only data for coke, pepsi, and mug. Use the `isin()` method."
   ]
  },
  {
   "cell_type": "code",
   "execution_count": 4,
   "metadata": {},
   "outputs": [
    {
     "data": {
      "text/html": [
       "<div>\n",
       "<style scoped>\n",
       "    .dataframe tbody tr th:only-of-type {\n",
       "        vertical-align: middle;\n",
       "    }\n",
       "\n",
       "    .dataframe tbody tr th {\n",
       "        vertical-align: top;\n",
       "    }\n",
       "\n",
       "    .dataframe thead th {\n",
       "        text-align: right;\n",
       "    }\n",
       "</style>\n",
       "<table border=\"1\" class=\"dataframe\">\n",
       "  <thead>\n",
       "    <tr style=\"text-align: right;\">\n",
       "      <th></th>\n",
       "      <th>soda</th>\n",
       "      <th>cals</th>\n",
       "      <th>sodium</th>\n",
       "      <th>corp</th>\n",
       "    </tr>\n",
       "  </thead>\n",
       "  <tbody>\n",
       "    <tr>\n",
       "      <th>0</th>\n",
       "      <td>coke</td>\n",
       "      <td>140</td>\n",
       "      <td>45</td>\n",
       "      <td>coca cola</td>\n",
       "    </tr>\n",
       "    <tr>\n",
       "      <th>3</th>\n",
       "      <td>pepsi</td>\n",
       "      <td>150</td>\n",
       "      <td>30</td>\n",
       "      <td>pepsico</td>\n",
       "    </tr>\n",
       "    <tr>\n",
       "      <th>4</th>\n",
       "      <td>mug</td>\n",
       "      <td>130</td>\n",
       "      <td>65</td>\n",
       "      <td>pepsico</td>\n",
       "    </tr>\n",
       "  </tbody>\n",
       "</table>\n",
       "</div>"
      ],
      "text/plain": [
       "    soda  cals  sodium       corp\n",
       "0   coke   140      45  coca cola\n",
       "3  pepsi   150      30    pepsico\n",
       "4    mug   130      65    pepsico"
      ]
     },
     "execution_count": 4,
     "metadata": {},
     "output_type": "execute_result"
    }
   ],
   "source": [
    "to_get = ['coke', 'pepsi', 'mug']\n",
    "soda[ soda['soda'].isin(to_get) ]"
   ]
  },
  {
   "cell_type": "markdown",
   "metadata": {},
   "source": [
    "E. Set the index of the DataFrame to 'soda'."
   ]
  },
  {
   "cell_type": "code",
   "execution_count": 5,
   "metadata": {},
   "outputs": [],
   "source": [
    "soda.set_index('soda', inplace=True)"
   ]
  },
  {
   "cell_type": "markdown",
   "metadata": {},
   "source": [
    "F. Use `.loc[]` to print a DataFrame containing only coke, pepsi, and mug."
   ]
  },
  {
   "cell_type": "code",
   "execution_count": 6,
   "metadata": {},
   "outputs": [
    {
     "data": {
      "text/html": [
       "<div>\n",
       "<style scoped>\n",
       "    .dataframe tbody tr th:only-of-type {\n",
       "        vertical-align: middle;\n",
       "    }\n",
       "\n",
       "    .dataframe tbody tr th {\n",
       "        vertical-align: top;\n",
       "    }\n",
       "\n",
       "    .dataframe thead th {\n",
       "        text-align: right;\n",
       "    }\n",
       "</style>\n",
       "<table border=\"1\" class=\"dataframe\">\n",
       "  <thead>\n",
       "    <tr style=\"text-align: right;\">\n",
       "      <th></th>\n",
       "      <th>cals</th>\n",
       "      <th>sodium</th>\n",
       "      <th>corp</th>\n",
       "    </tr>\n",
       "    <tr>\n",
       "      <th>soda</th>\n",
       "      <th></th>\n",
       "      <th></th>\n",
       "      <th></th>\n",
       "    </tr>\n",
       "  </thead>\n",
       "  <tbody>\n",
       "    <tr>\n",
       "      <th>coke</th>\n",
       "      <td>140</td>\n",
       "      <td>45</td>\n",
       "      <td>coca cola</td>\n",
       "    </tr>\n",
       "    <tr>\n",
       "      <th>pepsi</th>\n",
       "      <td>150</td>\n",
       "      <td>30</td>\n",
       "      <td>pepsico</td>\n",
       "    </tr>\n",
       "    <tr>\n",
       "      <th>mug</th>\n",
       "      <td>130</td>\n",
       "      <td>65</td>\n",
       "      <td>pepsico</td>\n",
       "    </tr>\n",
       "  </tbody>\n",
       "</table>\n",
       "</div>"
      ],
      "text/plain": [
       "       cals  sodium       corp\n",
       "soda                          \n",
       "coke    140      45  coca cola\n",
       "pepsi   150      30    pepsico\n",
       "mug     130      65    pepsico"
      ]
     },
     "execution_count": 6,
     "metadata": {},
     "output_type": "execute_result"
    }
   ],
   "source": [
    "soda.loc[['coke','pepsi', 'mug']]"
   ]
  },
  {
   "cell_type": "markdown",
   "metadata": {},
   "source": [
    "G. Print out the average sodium for pepsico products that have more than 135 calories. "
   ]
  },
  {
   "cell_type": "code",
   "execution_count": 7,
   "metadata": {},
   "outputs": [
    {
     "data": {
      "text/plain": [
       "45.0"
      ]
     },
     "execution_count": 7,
     "metadata": {},
     "output_type": "execute_result"
    }
   ],
   "source": [
    "soda[ (soda['corp']=='pepsico') & (soda['cals']>135)]['sodium'].mean()"
   ]
  },
  {
   "cell_type": "markdown",
   "metadata": {},
   "source": [
    "H. Print out the number of pepsico products with sodium above 60 mg."
   ]
  },
  {
   "cell_type": "code",
   "execution_count": 8,
   "metadata": {},
   "outputs": [
    {
     "data": {
      "text/plain": [
       "1"
      ]
     },
     "execution_count": 8,
     "metadata": {},
     "output_type": "execute_result"
    }
   ],
   "source": [
    "soda[ (soda['corp']=='pepsico') & (soda['sodium']>60) ].shape[0]"
   ]
  },
  {
   "cell_type": "markdown",
   "metadata": {},
   "source": [
    "I. Print out the calories in a coke. "
   ]
  },
  {
   "cell_type": "code",
   "execution_count": 9,
   "metadata": {},
   "outputs": [
    {
     "data": {
      "text/plain": [
       "140"
      ]
     },
     "execution_count": 9,
     "metadata": {},
     "output_type": "execute_result"
    }
   ],
   "source": [
    "soda.loc['coke', 'cals']"
   ]
  },
  {
   "cell_type": "markdown",
   "metadata": {},
   "source": [
    "# Exercise 2: Importing data\n",
    "\n",
    "The file \"banks_and_branches.csv\" contains data on the number of commercial banking institutions, branches, and offices in the United States at the end of each year between 1934 to 2017. (This data is maintained by the Federal Deposit Insurance Corporation (FDIC) and can be downloaded from https://www5.fdic.gov/hsob/SelectRpt.asp?EntryTyp=10&Header=1, series CB01. The FDIC has a lot of interesting banking data. You are encouraged to browse around their website to see what's there -- this might be a useful source for your final project.)\n",
    "\n",
    "Your task is to import this data into Python.\n",
    "\n",
    "### Part (a):\n",
    "In the code cell below, import the data from \"banks_and_branches.csv\" into a Pandas data frame called `banking_data`. If you open the .csv file in Excel or a similar program, you'll notice that there are notes in several of the cells at the beginning of the file. Rather than delete these manually, you should use the `header` option in `pandas.read_csv` to use the correct row for the column names."
   ]
  },
  {
   "cell_type": "code",
   "execution_count": 10,
   "metadata": {},
   "outputs": [],
   "source": [
    "import pandas as pd\n",
    "\n",
    "banking_data = pd.read_csv(\"banks_and_branches.csv\",header = 6)"
   ]
  },
  {
   "cell_type": "markdown",
   "metadata": {},
   "source": [
    "### Part (b):\n",
    "1. Convert each of the column names to lower case using a list comprehension.\n",
    "2. We don't need the 'branches' column -- you might notice that the variable 'offices' is equal to 'institutions' plus 'branches'. Delete the 'branches' column.  \n",
    "3. Rename the 'institutions' column 'banks'.\n",
    "4. Then, print the data types of each column."
   ]
  },
  {
   "cell_type": "code",
   "execution_count": 11,
   "metadata": {},
   "outputs": [
    {
     "name": "stdout",
     "output_type": "stream",
     "text": [
      "year        int64\n",
      "banks      object\n",
      "offices    object\n",
      "dtype: object\n"
     ]
    }
   ],
   "source": [
    "# Convert column names to lower case:\n",
    "banking_data.columns = [col_name.lower() for col_name in banking_data.columns]\n",
    "\n",
    "# Delete the 'branches' column. Two ways to do this:\n",
    "# Method 1:\n",
    "#del banking_data['branches']\n",
    "# Method 2:\n",
    "banking_data.drop('branches', axis=1, inplace =True)\n",
    "\n",
    "# Rename 'institutions' to 'banks'\n",
    "banking_data.rename(columns={'institutions': 'banks'}, inplace=True)\n",
    "\n",
    "# Print the data type of each column: \n",
    "print(banking_data.dtypes)"
   ]
  },
  {
   "cell_type": "markdown",
   "metadata": {},
   "source": [
    "### Part (c):\n",
    "\n",
    "You'll notice that some of the columns are listed as objects and not integers. Convert these columns to integers. Note that you'll need to remove the thousands separator (\",\") from each number first. Print the data types of each column to confirm that they are all integers.\n",
    "\n",
    "Later, we will need a variable containing the average number of offices per institution in each year. Add a new column called 'offices_per_bank' to `banking_data` with this information."
   ]
  },
  {
   "cell_type": "code",
   "execution_count": 12,
   "metadata": {},
   "outputs": [
    {
     "name": "stdout",
     "output_type": "stream",
     "text": [
      "year       int64\n",
      "banks      int32\n",
      "offices    int32\n",
      "dtype: object\n"
     ]
    }
   ],
   "source": [
    "# Convert strings to integers. Note that we need to remove the comma\n",
    "# We could also do this by using some additional options in pd.read_csv()\n",
    "banking_data['banks'] = banking_data['banks'].str.replace(\",\",\"\").astype(int)\n",
    "banking_data['offices'] = banking_data['offices'].str.replace(\",\",\"\").astype(int)\n",
    "\n",
    "# Print the data type of each column. These should all be integers now.\n",
    "print(banking_data.dtypes)\n",
    "\n",
    "# Create column with the number of offices per bank in each year.\n",
    "banking_data['offices_per_bank'] = banking_data['offices']/banking_data['banks']"
   ]
  },
  {
   "cell_type": "markdown",
   "metadata": {},
   "source": [
    "# Exercise 3\n",
    "Let's work with U.S. GDP. The data come from FRED. The goal it to brush up on our data cleaning skills and compute a few summary statistics. \n",
    "\n",
    "### Part (a):\n",
    "1. The file GDPCA.csv contains annual real GDP. Read it into a DataFrame and create a series of growth rates."
   ]
  },
  {
   "cell_type": "code",
   "execution_count": 13,
   "metadata": {},
   "outputs": [
    {
     "data": {
      "text/html": [
       "<div>\n",
       "<style scoped>\n",
       "    .dataframe tbody tr th:only-of-type {\n",
       "        vertical-align: middle;\n",
       "    }\n",
       "\n",
       "    .dataframe tbody tr th {\n",
       "        vertical-align: top;\n",
       "    }\n",
       "\n",
       "    .dataframe thead th {\n",
       "        text-align: right;\n",
       "    }\n",
       "</style>\n",
       "<table border=\"1\" class=\"dataframe\">\n",
       "  <thead>\n",
       "    <tr style=\"text-align: right;\">\n",
       "      <th></th>\n",
       "      <th>gdp</th>\n",
       "      <th>gdp_growth</th>\n",
       "    </tr>\n",
       "    <tr>\n",
       "      <th>DATE</th>\n",
       "      <th></th>\n",
       "      <th></th>\n",
       "    </tr>\n",
       "  </thead>\n",
       "  <tbody>\n",
       "    <tr>\n",
       "      <th>1929</th>\n",
       "      <td>1109.448</td>\n",
       "      <td>NaN</td>\n",
       "    </tr>\n",
       "    <tr>\n",
       "      <th>1930</th>\n",
       "      <td>1015.058</td>\n",
       "      <td>-8.507835</td>\n",
       "    </tr>\n",
       "    <tr>\n",
       "      <th>1931</th>\n",
       "      <td>950.037</td>\n",
       "      <td>-6.405644</td>\n",
       "    </tr>\n",
       "    <tr>\n",
       "      <th>1932</th>\n",
       "      <td>827.495</td>\n",
       "      <td>-12.898656</td>\n",
       "    </tr>\n",
       "    <tr>\n",
       "      <th>1933</th>\n",
       "      <td>817.265</td>\n",
       "      <td>-1.236261</td>\n",
       "    </tr>\n",
       "  </tbody>\n",
       "</table>\n",
       "</div>"
      ],
      "text/plain": [
       "           gdp  gdp_growth\n",
       "DATE                      \n",
       "1929  1109.448         NaN\n",
       "1930  1015.058   -8.507835\n",
       "1931   950.037   -6.405644\n",
       "1932   827.495  -12.898656\n",
       "1933   817.265   -1.236261"
      ]
     },
     "execution_count": 13,
     "metadata": {},
     "output_type": "execute_result"
    }
   ],
   "source": [
    "import matplotlib.pyplot as plt\n",
    "import pandas as pd\n",
    "\n",
    "data = pd.read_csv('GDPCA.csv', index_col=0, na_values='.')\n",
    "data.rename(columns={'GDPCA':'gdp'}, inplace=True)\n",
    "data['gdp_growth'] = data['gdp'].pct_change()*100\n",
    "data.head()\n"
   ]
  },
  {
   "cell_type": "markdown",
   "metadata": {},
   "source": [
    "2. Something went wrong, right? There is a gremlin in the data. Find a way to use read_csv() to turn the bad data into NaNs. Now compute the growth rates. Print the first 5 rows."
   ]
  },
  {
   "cell_type": "markdown",
   "metadata": {},
   "source": [
    "### Part (b) \n",
    "1. Compute the mean gdp growth rate for 1960-1985\n",
    "2. Compute the standard deviation of the gdp growth rate for 1960-1985\n",
    "3. Repeat parts 1. and 2. for the period 1985-2007\n",
    "4. Print out your results in a few *neatly formatted* sentences. Comment on the differences between the two periods. \n",
    "\n"
   ]
  },
  {
   "cell_type": "code",
   "execution_count": 14,
   "metadata": {},
   "outputs": [],
   "source": [
    "meanpre = data.loc[1960:1985, 'gdp_growth'].mean() \n",
    "stdpre = data.loc[1960:1985, 'gdp_growth'].std() "
   ]
  },
  {
   "cell_type": "code",
   "execution_count": 15,
   "metadata": {},
   "outputs": [],
   "source": [
    "meanpost = data.loc[1985:2007, 'gdp_growth'].mean() \n",
    "stdpost = data.loc[1985:2007, 'gdp_growth'].std() "
   ]
  },
  {
   "cell_type": "code",
   "execution_count": 16,
   "metadata": {},
   "outputs": [
    {
     "name": "stdout",
     "output_type": "stream",
     "text": [
      "1960-1985: The growth rate is 3.62 percent and the standard deviation 2.47 percent.\n",
      "1985-2007: The growth rate is 3.17 percent and the standard deviation 1.21 percent.\n"
     ]
    }
   ],
   "source": [
    "print('1960-1985: The growth rate is {0:0.2f} percent and the standard deviation {1:0.2f} percent.'.format(meanpre, stdpre))\n",
    "print('1985-2007: The growth rate is {0:0.2f} percent and the standard deviation {1:0.2f} percent.'.format(meanpost, stdpost))"
   ]
  },
  {
   "cell_type": "markdown",
   "metadata": {},
   "source": [
    "The standard deviation falls in the second period. This is known as the 'great moderation.' The average growth rate falls a little, too.  "
   ]
  },
  {
   "cell_type": "markdown",
   "metadata": {},
   "source": [
    "### Part (c)\n",
    "1. Recompute the mean and standard deviation for 1985-2018. \n",
    "2. How have things changed?"
   ]
  },
  {
   "cell_type": "code",
   "execution_count": 17,
   "metadata": {},
   "outputs": [
    {
     "name": "stdout",
     "output_type": "stream",
     "text": [
      "1960-1985: The growth rate is 3.62 percent and the standard deviation 2.47 percent.\n",
      "1985-2018: The growth rate is 2.67 percent and the standard deviation 1.52 percent.\n"
     ]
    }
   ],
   "source": [
    "meanpost2 = data.loc[1985:2018, 'gdp_growth'].mean() \n",
    "stdpost2 = data.loc[1985:2018, 'gdp_growth'].std() \n",
    "print('1960-1985: The growth rate is {0:0.2f} percent and the standard deviation {1:0.2f} percent.'.format(meanpre, stdpre))\n",
    "print('1985-2018: The growth rate is {0:0.2f} percent and the standard deviation {1:0.2f} percent.'.format(meanpost2, stdpost2))"
   ]
  },
  {
   "cell_type": "markdown",
   "metadata": {},
   "source": [
    "The mean has fallen a lot more! This is largely driven by the deep recession in that began in 2007."
   ]
  }
 ],
 "metadata": {
  "celltoolbar": "Attachments",
  "kernelspec": {
   "display_name": "Python 3",
   "language": "python",
   "name": "python3"
  },
  "language_info": {
   "codemirror_mode": {
    "name": "ipython",
    "version": 3
   },
   "file_extension": ".py",
   "mimetype": "text/x-python",
   "name": "python",
   "nbconvert_exporter": "python",
   "pygments_lexer": "ipython3",
   "version": "3.7.3"
  }
 },
 "nbformat": 4,
 "nbformat_minor": 2
}
