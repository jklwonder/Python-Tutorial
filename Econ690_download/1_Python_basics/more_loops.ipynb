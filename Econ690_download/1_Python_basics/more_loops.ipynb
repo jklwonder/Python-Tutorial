{
 "cells": [
  {
   "cell_type": "markdown",
   "metadata": {},
   "source": [
    "# More loops\n",
    "\n",
    "Below are a few more useful things to know when working with loops and iterable objects like lists. It uses the `raw_data = '13839'` example that we have been trying to break into a list of integers. "
   ]
  },
  {
   "cell_type": "markdown",
   "metadata": {},
   "source": [
    "First, I coded\n",
    "\n",
    "```python\n",
    "for i in range(len(list_data)):\n",
    "    list_data[i] = int(list_data[i])\n",
    "```\n",
    "which does what we want. It produces a list of integers. "
   ]
  },
  {
   "cell_type": "code",
   "execution_count": 1,
   "metadata": {},
   "outputs": [
    {
     "name": "stdout",
     "output_type": "stream",
     "text": [
      "[1, 3, 8, 3, 9]\n"
     ]
    }
   ],
   "source": [
    "raw_data = '13839'\n",
    "list_data = list(raw_data)\n",
    "\n",
    "for i in range(len(list_data)):\n",
    "    list_data[i] = int(list_data[i])\n",
    "    \n",
    "print(list_data)"
   ]
  },
  {
   "cell_type": "markdown",
   "metadata": {},
   "source": [
    "### Getting stuck\n",
    "\n",
    "Some people would naturally start by looping over the list objects... \n",
    "\n",
    "```python\n",
    "for obj in list_data:\n",
    "    int(obj)\n",
    "```\n",
    "\n",
    "but were then stuck. How do I get the `int(obj)` saved to a list?"
   ]
  },
  {
   "cell_type": "markdown",
   "metadata": {},
   "source": [
    "### Get the index and the value at the same time\n",
    "\n",
    "The `enumerate()` function [(docs)](https://docs.python.org/3/library/functions.html#enumerate). Enumerate takes an iterable object as an argument and returns a tuple of the index and the value. "
   ]
  },
  {
   "cell_type": "code",
   "execution_count": 4,
   "metadata": {},
   "outputs": [
    {
     "name": "stdout",
     "output_type": "stream",
     "text": [
      "The index is 0 and the value is 1\n",
      "The index is 1 and the value is 3\n",
      "The index is 2 and the value is 8\n",
      "The index is 3 and the value is 3\n",
      "The index is 4 and the value is 9\n"
     ]
    }
   ],
   "source": [
    "for i, obj in enumerate(list_data):\n",
    "    print('The index is', i, 'and the value is', obj)"
   ]
  },
  {
   "cell_type": "code",
   "execution_count": 5,
   "metadata": {},
   "outputs": [
    {
     "name": "stdout",
     "output_type": "stream",
     "text": [
      "[1, 3, 8, 3, 9]\n"
     ]
    }
   ],
   "source": [
    "raw_data = '13839'\n",
    "list_data = list(raw_data)\n",
    "\n",
    "for i, datum in enumerate(list_data):\n",
    "    list_data[i] = int(datum)\n",
    "    \n",
    "print(list_data)"
   ]
  },
  {
   "cell_type": "markdown",
   "metadata": {},
   "source": [
    "### Saving to a different list\n",
    "You may not want to overwrite list_data with the integers, but rather save them in a separate list. \n",
    "\n",
    "To do this, we first create an empty list `modified_data=[]` and then use the `.append()` list method to add elements to the end of the list."
   ]
  },
  {
   "cell_type": "code",
   "execution_count": 6,
   "metadata": {},
   "outputs": [
    {
     "name": "stdout",
     "output_type": "stream",
     "text": [
      "The string list ['1', '3', '8', '3', '9']\n",
      "The integer list [1, 3, 8, 3, 9]\n"
     ]
    }
   ],
   "source": [
    "list_data = list(raw_data)\n",
    "print('The string list', list_data)\n",
    "\n",
    "modified_data = []     # an empty list\n",
    "for datum in list_data:\n",
    "    modified_data.append(int(datum))\n",
    "\n",
    "print('The integer list', modified_data)"
   ]
  }
 ],
 "metadata": {
  "celltoolbar": "Attachments",
  "kernelspec": {
   "display_name": "Python 3",
   "language": "python",
   "name": "python3"
  },
  "language_info": {
   "codemirror_mode": {
    "name": "ipython",
    "version": 3
   },
   "file_extension": ".py",
   "mimetype": "text/x-python",
   "name": "python",
   "nbconvert_exporter": "python",
   "pygments_lexer": "ipython3",
   "version": "3.7.3"
  }
 },
 "nbformat": 4,
 "nbformat_minor": 2
}
