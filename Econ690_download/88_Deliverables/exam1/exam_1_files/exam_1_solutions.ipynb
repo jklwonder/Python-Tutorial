{
 "cells": [
  {
   "cell_type": "markdown",
   "metadata": {},
   "source": [
    "# Exam 1 (100 pts total)\n",
    "\n",
    "files needed = ('cpis.csv')\n",
    "\n",
    "You have 75 minutes to complete this exam.\n",
    "\n",
    "Answer all the questions below in this notebook. You should insert as many cells into the notebook as you need. When you are finished, upload your finished notebook to Canvas. \n",
    "\n",
    "You may use your notes and the Internet, but you cannot work with others in class.  Remember, jupyter notebooks and python have lots of built in help facilities. \n",
    "\n",
    "**Import any packages you need to complete this exam.**"
   ]
  },
  {
   "cell_type": "markdown",
   "metadata": {},
   "source": [
    "## Question 0 (5 pts): Ruhl, Kim\n",
    " \n",
    "\n",
    "1. Replace 'Your name' above with your actual name. Enter it as: last name, first name.\n",
    "1. Insert a new cell below this one and, in markdown, create an unordered list of three items, where the items are: coffee, bagels, lox\n"
   ]
  },
  {
   "cell_type": "markdown",
   "metadata": {},
   "source": [
    "* coffee\n",
    "* bagels\n",
    "* lox"
   ]
  },
  {
   "cell_type": "markdown",
   "metadata": {},
   "source": [
    "## Question 1 (5 pts)\n",
    "Insert a new cell below this one and, in markdown, \n",
    "\n",
    "1. Use a fenced code block that has python syntax highlighting to properly display the following two lines of code:\n",
    "\n",
    "say_hi = 'Hello World' <br/>\n",
    "print(say_hi) "
   ]
  },
  {
   "cell_type": "markdown",
   "metadata": {},
   "source": [
    "```python\n",
    "say_hi = 'Hello World'\n",
    "print(say_hi)\n",
    "```"
   ]
  },
  {
   "cell_type": "markdown",
   "metadata": {},
   "source": [
    "## Question 2 (10 pts)\n",
    "\n",
    "1. Compute the natural logarithm of 5.23 and store it in a variable named `y`.\n",
    "2. Print out `y`'s type. \n",
    "3. Print out the value of `y` with three digits to the right of the decimal point."
   ]
  },
  {
   "cell_type": "code",
   "execution_count": 1,
   "metadata": {},
   "outputs": [
    {
     "name": "stdout",
     "output_type": "stream",
     "text": [
      "<class 'numpy.float64'>\n",
      "y is equal to 1.654\n"
     ]
    }
   ],
   "source": [
    "import numpy as np\n",
    "\n",
    "y = np.log(5.23)\n",
    "\n",
    "print(type(y))\n",
    "print('y is equal to {0:.3f}'.format(y))"
   ]
  },
  {
   "cell_type": "markdown",
   "metadata": {},
   "source": [
    "## Question 3 (10 pts)\n",
    "\n",
    "1. Using the two lists below, create a new list named `list3`, which contains the letters 'a' through 'f' in alphabetical order.\n",
    "2. Print out `list3`\n",
    "3. Create a list named `list4` that contains the capital letters 'A' through 'F'. Create this new list from `list3`.\n",
    "4. Print out `list4` "
   ]
  },
  {
   "cell_type": "code",
   "execution_count": 2,
   "metadata": {},
   "outputs": [],
   "source": [
    "list1 = ['a', 'b', 'c']\n",
    "list2 = ['d', 'e', 'f']"
   ]
  },
  {
   "cell_type": "code",
   "execution_count": 3,
   "metadata": {},
   "outputs": [
    {
     "name": "stdout",
     "output_type": "stream",
     "text": [
      "['a', 'b', 'c', 'd', 'e', 'f']\n",
      "['A', 'B', 'C', 'D', 'E', 'F']\n"
     ]
    }
   ],
   "source": [
    "list3 = list1 + list2\n",
    "print(list3)\n",
    "\n",
    "list4 = [i.upper() for i in list3]\n",
    "print(list4)"
   ]
  },
  {
   "cell_type": "markdown",
   "metadata": {},
   "source": [
    "## Question 4 (15 pts)\n",
    "\n",
    "1. Write a function that takes one input: a value in US dollars. Name the function `converter`.\n",
    "\n",
    "* Convert the dollar value to yuan and euros.\n",
    "* The function should return **both the yuan value and the euro value**.\n",
    "\n",
    "The exchange rates are\n",
    "\n",
    "* yuan_value = 7.10*dollar_value\n",
    "* euro_value = 0.91*dollar_value\n",
    "\n",
    "Use your function to compute the yuan and euro values of $3.25 using only one call to `converter`. Print the two values out. Each value should have two digits to the right of the decimal point."
   ]
  },
  {
   "cell_type": "code",
   "execution_count": 4,
   "metadata": {},
   "outputs": [],
   "source": [
    "def converter(dollar_value):\n",
    "    \n",
    "    yuan_value = 7.10*dollar_value\n",
    "    euro_value = 0.91*dollar_value\n",
    "     \n",
    "    return yuan_value, euro_value\n",
    "        "
   ]
  },
  {
   "cell_type": "code",
   "execution_count": 5,
   "metadata": {},
   "outputs": [
    {
     "name": "stdout",
     "output_type": "stream",
     "text": [
      "23.07 yuan and 2.96 euros\n"
     ]
    }
   ],
   "source": [
    "yuan_v, euro_v = converter(3.25)\n",
    "\n",
    "print('{0:.2f} yuan and {1:.2f} euros'.format(yuan_v, euro_v))"
   ]
  },
  {
   "cell_type": "markdown",
   "metadata": {},
   "source": [
    "## Question 5 (10 pts)\n",
    "\n",
    "1. Load the file 'cpis.csv' into a pandas DataFrame. \n",
    "2. Make sure columns `CPIAUCS` and `CPILFESL` are numeric types.\n",
    "3. What are the types of each column in the DataFrame? Use a DataFrame *attribute* to print out the types. "
   ]
  },
  {
   "cell_type": "code",
   "execution_count": 6,
   "metadata": {},
   "outputs": [],
   "source": [
    "import pandas as pd"
   ]
  },
  {
   "cell_type": "code",
   "execution_count": 7,
   "metadata": {},
   "outputs": [
    {
     "data": {
      "text/plain": [
       "DATE         object\n",
       "CPIAUCSL    float64\n",
       "CPILFESL    float64\n",
       "dtype: object"
      ]
     },
     "execution_count": 7,
     "metadata": {},
     "output_type": "execute_result"
    }
   ],
   "source": [
    "cpis = pd.read_csv('cpis.csv', na_values='missing')\n",
    "cpis.dtypes"
   ]
  },
  {
   "cell_type": "markdown",
   "metadata": {},
   "source": [
    "## Question 6 (20 pts)\n",
    "\n",
    "The dict below lists, for several states, the population, size (in square miles), state bird, gross state product, and whether the state is a \"great lakes\" state. \n",
    "\n",
    "1. Using the dict below, create a DataFrame named `states`.\n",
    "2. Set the index to 'state'\n",
    "3. Compute gsp per person for each state. Name the new variable 'gsp_cap'.\n",
    "4. Print out the last two rows of the dataframe"
   ]
  },
  {
   "cell_type": "code",
   "execution_count": 8,
   "metadata": {},
   "outputs": [],
   "source": [
    "state_data = {'state':['CA','MI','WI','MN'], \n",
    "              'pop':[37,9.8,5.7, 5.3], \n",
    "              'size':[163.7, 96.7, 65.5, 86.9], \n",
    "              'state bird':['Quail', 'Redbreast Robin', 'American Robin', 'Loon'],\n",
    "              'gsp':[3018337, 537087,  342470, 374920],\n",
    "              'great':['no', 'yes', 'yes', 'yes'] \n",
    "             }"
   ]
  },
  {
   "cell_type": "code",
   "execution_count": 9,
   "metadata": {},
   "outputs": [
    {
     "name": "stdout",
     "output_type": "stream",
     "text": [
      "       pop  size      state bird     gsp great       gsp_cap\n",
      "state                                                       \n",
      "WI     5.7  65.5  American Robin  342470   yes  60082.456140\n",
      "MN     5.3  86.9            Loon  374920   yes  70739.622642\n"
     ]
    }
   ],
   "source": [
    "# 1\n",
    "states = pd.DataFrame(state_data)\n",
    "\n",
    "# 2\n",
    "states = states.set_index('state')\n",
    "\n",
    "#3\n",
    "states['gsp_cap'] = states['gsp']/states['pop']\n",
    "\n",
    "#4 \n",
    "print(states.tail(2))"
   ]
  },
  {
   "cell_type": "markdown",
   "metadata": {},
   "source": [
    "## Question 7 (5 pts)\n",
    "\n",
    "1. Create a new DataFrame named `states2` from the `state_data` dict.\n",
    "2. Print out just the rows for 'WI' and 'MI'"
   ]
  },
  {
   "cell_type": "code",
   "execution_count": 10,
   "metadata": {},
   "outputs": [
    {
     "name": "stdout",
     "output_type": "stream",
     "text": [
      "       pop  size       state bird     gsp great\n",
      "state                                          \n",
      "WI     5.7  65.5   American Robin  342470   yes\n",
      "MI     9.8  96.7  Redbreast Robin  537087   yes\n"
     ]
    }
   ],
   "source": [
    "# 1\n",
    "states2 = pd.DataFrame(state_data)\n",
    "\n",
    "# 2\n",
    "states2 = states2.set_index('state')\n",
    "print( states2.loc[['WI', 'MI']] )"
   ]
  },
  {
   "cell_type": "markdown",
   "metadata": {},
   "source": [
    "## Question 8 (20 pts)\n",
    "\n",
    "1. Create a new DataFrame named `states3` from the `state_data` dict.\n",
    "1. Create a new DataFrame by extracting the great-lakes states from `states3` (i.e., the ones with 'great' = 'yes'). Name the new DataFrame `lake_states`. \n",
    "5. Drop the column 'great'\n",
    "6. Sort `lake_states` by 'gsp' from *largest to smallest*. \\[you might try `DataFrame.sort_values`\\]\n",
    "6. Rename the column 'state bird' to 'bird'\n",
    "7. Print out `lake_states`."
   ]
  },
  {
   "cell_type": "code",
   "execution_count": 11,
   "metadata": {},
   "outputs": [
    {
     "name": "stdout",
     "output_type": "stream",
     "text": [
      "  state  pop  size             bird     gsp\n",
      "1    MI  9.8  96.7  Redbreast Robin  537087\n",
      "3    MN  5.3  86.9             Loon  374920\n",
      "2    WI  5.7  65.5   American Robin  342470\n"
     ]
    }
   ],
   "source": [
    "# 1\n",
    "states3 = pd.DataFrame(state_data)\n",
    "\n",
    "# 2\n",
    "lake_states = states3[states3['great']=='yes']\n",
    "\n",
    "# 3\n",
    "lake_states = lake_states.drop('great', axis=1)\n",
    "\n",
    "# 4\n",
    "lake_states = lake_states.sort_values('gsp', ascending=False)\n",
    "\n",
    "# 5\n",
    "lake_states.rename(columns={'state bird':'bird'}, inplace=True)\n",
    "\n",
    "# 6\n",
    "print( lake_states )"
   ]
  },
  {
   "cell_type": "markdown",
   "metadata": {},
   "source": [
    "### You are finished!\n",
    "Upload your completed notebook to Canvas. \n"
   ]
  }
 ],
 "metadata": {
  "celltoolbar": "Attachments",
  "kernelspec": {
   "display_name": "Python 3",
   "language": "python",
   "name": "python3"
  },
  "language_info": {
   "codemirror_mode": {
    "name": "ipython",
    "version": 3
   },
   "file_extension": ".py",
   "mimetype": "text/x-python",
   "name": "python",
   "nbconvert_exporter": "python",
   "pygments_lexer": "ipython3",
   "version": "3.7.3"
  }
 },
 "nbformat": 4,
 "nbformat_minor": 2
}
